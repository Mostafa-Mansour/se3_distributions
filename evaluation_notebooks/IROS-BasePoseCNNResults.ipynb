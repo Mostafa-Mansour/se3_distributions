{
 "cells": [
  {
   "cell_type": "code",
   "execution_count": 2,
   "metadata": {},
   "outputs": [
    {
     "name": "stdout",
     "output_type": "stream",
     "text": [
      "env: CUDA_DEVICE_ORDER=PCI_BUS_ID\n",
      "env: CUDA_VISIBLE_DEVICES=1\n"
     ]
    }
   ],
   "source": [
    "%matplotlib inline\n",
    "%env CUDA_DEVICE_ORDER=PCI_BUS_ID\n",
    "%env CUDA_VISIBLE_DEVICES=1\n",
    "\n",
    "import os\n",
    "import cv2\n",
    "import numpy as np\n",
    "import torch\n",
    "from torch.autograd import Variable\n",
    "import quat_math\n",
    "import pickle\n",
    "import glob\n",
    "\n",
    "from PIL import Image\n",
    "import scipy.io as scio\n",
    "from functools import partial\n",
    "from object_pose_utils.utils import to_np, to_var\n",
    "from object_pose_utils.utils.display import *\n",
    "\n",
    "import matplotlib.pyplot as plt\n",
    "import pylab\n",
    "pylab.rcParams['figure.figsize'] = 20, 12\n",
    "from mpl_toolkits.mplot3d import Axes3D  # noqa: F401 unused import\n",
    "\n",
    "import warnings\n",
    "warnings.filterwarnings('ignore')"
   ]
  },
  {
   "cell_type": "markdown",
   "metadata": {},
   "source": [
    "## Select Object Indices of Interest\n",
    "\n",
    "| Object Indices |[]()|[]()|\n",
    "|---|---|---|\n",
    "| __1.__ 002_master_chef_can | __8.__ 009_gelatin_box      | __15.__ 035_power_drill       |\n",
    "| __2.__ 003_cracker_box     | __9.__ 010_potted_meat_can  | __16.__ 036_wood_block        |\n",
    "| __3.__ 004_sugar_box       | __10.__ 011_banana          | __17.__ 037_scissors          |\n",
    "| __4.__ 005_tomato_soup_can | __11.__ 019_pitcher_base    | __18.__ 040_large_marker      |\n",
    "| __5.__ 006_mustard_bottle  | __12.__ 021_bleach_cleanser | __19.__ 051_large_clamp       |\n",
    "| __6.__ 007_tuna_fish_can   | __13.__ 024_bowl            | __20.__ 052_extra_large_clamp |\n",
    "| __7.__ 008_pudding_box     | __14.__ 025_mug             | __21.__ 061_foam_brick        |"
   ]
  },
  {
   "cell_type": "code",
   "execution_count": 3,
   "metadata": {},
   "outputs": [],
   "source": [
    "from transforms3d.quaternions import quat2mat, mat2quat\n",
    "\n",
    "def getPoseCNNQuat(data, obj):\n",
    "    pose_idx = np.where(data['rois'][:,1].flatten()==obj)[0]\n",
    "    if(len(pose_idx) == 0):\n",
    "        return None, None\n",
    "    else:\n",
    "        pose_idx = pose_idx[0]\n",
    "    pose = data['poses'][pose_idx]\n",
    "    q = pose[:4][[1,2,3,0]]\n",
    "    q /= np.linalg.norm(q)\n",
    "    t = pose[4:7]\n",
    "    return q, t"
   ]
  },
  {
   "cell_type": "markdown",
   "metadata": {},
   "source": [
    "## YCB Dataset"
   ]
  },
  {
   "cell_type": "code",
   "execution_count": 20,
   "metadata": {},
   "outputs": [],
   "source": [
    "from object_pose_utils.datasets.ycb_dataset import YcbDataset as YCBDataset\n",
    "from object_pose_utils.datasets.pose_dataset import OutputTypes as otypes\n",
    "from object_pose_utils.datasets.feature_dataset import  FeatureDataset\n",
    "dataset_root = '/ssd0/datasets/ycb/YCB_Video_Dataset'\n",
    "object_list = list(range(1,22))\n",
    "mode = \"test\"\n",
    "\n",
    "feature_root = '/scratch/bokorn/results/posecnn_feat_all/'\n",
    "feature_key = 'fc6'\n",
    "feature_size = 4096\n",
    "\n",
    "output_format = [otypes.OBJECT_LABEL,\n",
    "                 otypes.QUATERNION, \n",
    "                 otypes.TRANSLATION, \n",
    "                 otypes.TRANSFORM_MATRIX,\n",
    "                ]\n",
    "\n",
    "ycb_dataset = YCBDataset(dataset_root, mode=mode,\n",
    "                     object_list = object_list,\n",
    "                     output_data = output_format,\n",
    "                     resample_on_error = False,\n",
    "                     add_syn_background = False,\n",
    "                     add_syn_noise = False,\n",
    "                     #use_posecnn_data = True,\n",
    "                     #preprocessors = [InplaneRotator()],\n",
    "                     #postprocessors = [ImageNormalizer()],\n",
    "                     image_size = [640, 480], num_points=1000)\n",
    "\n",
    "model_clouds = {}\n",
    "for object_id in object_list:\n",
    "    cloud_filename = '{}/models/{}/points.xyz'.format(dataset_root, dataset.classes[object_id])\n",
    "    model_clouds[object_id] = np.loadtxt(cloud_filename)"
   ]
  },
  {
   "cell_type": "code",
   "execution_count": 19,
   "metadata": {},
   "outputs": [
    {
     "name": "stdout",
     "output_type": "stream",
     "text": [
      "Exception on index 0: [Errno 2] No such file or directory: '/scratch/bokorn/results/posecnn_feat_all/data/0048/000001_002_master_chef_can_feat.npz'\n",
      "4\n",
      "14025\n"
     ]
    }
   ],
   "source": [
    "print(len(dataset[0]))\n",
    "print(len(ycb_dataset))"
   ]
  },
  {
   "cell_type": "code",
   "execution_count": 24,
   "metadata": {
    "scrolled": false
   },
   "outputs": [
    {
     "data": {
      "application/vnd.jupyter.widget-view+json": {
       "model_id": "720f2d0716f74a8f97afcb7a0a8b5247",
       "version_major": 2,
       "version_minor": 0
      },
      "text/plain": [
       "HBox(children=(IntProgress(value=0, max=14025), HTML(value='')))"
      ]
     },
     "metadata": {},
     "output_type": "display_data"
    }
   ],
   "source": [
    "from se3_distributions.datasets.ycb_dataset import getYCBSymmeties\n",
    "from object_pose_utils.utils.pose_processing import symmetricAngularDistance\n",
    "from object_pose_utils.utils.pose_error import add, adi\n",
    "from quat_math import quaternion_matrix\n",
    "\n",
    "import pathlib\n",
    "\n",
    "from tqdm import tqdm_notebook as tqdm\n",
    "\n",
    "pose_gt = {obj:{} for obj in object_list}\n",
    "pose_est = {obj:{} for obj in object_list}\n",
    "sym_angular_error = {obj:{} for obj in object_list}\n",
    "add_error = {obj:{} for obj in object_list}\n",
    "add_sym_error = {obj:{} for obj in object_list}\n",
    "\n",
    "bad_data = []\n",
    "with torch.no_grad():\n",
    "    for j, data in enumerate(tqdm(ycb_dataset)):\n",
    "        obj, quat, trans, _ = data\n",
    "        posecnn_path = '{}/data/{}-posecnn.mat'.format(dataset.dataset_root, dataset.getPath(j))\n",
    "        posecnn_data = scio.loadmat(posecnn_path)\n",
    "        q_est, t_est = getPoseCNNQuat(posecnn_data, obj.item())\n",
    "        \n",
    "        if(len(obj) == 0):\n",
    "            bad_data.append(j)\n",
    "            continue\n",
    "\n",
    "        if(quat is None or q_est is None):\n",
    "            bad_data.append(j)\n",
    "            continue\n",
    "        res = (feat, torch.tensor(pred_q).float(), pred_t)\n",
    "\n",
    "        sym_axis, sym_ang = getYCBSymmeties(obj.item())\n",
    "        trans = to_np(trans)\n",
    "\n",
    "        mat = quaternion_matrix(quat)\n",
    "\n",
    "        err_ang = symmetricAngularDistance(torch.Tensor(q_est).unsqueeze(0), \n",
    "                                           quat.unsqueeze(0),\n",
    "                                           sym_axis, sym_ang).item()*180/np.pi\n",
    "        mat_est = quaternion_matrix(q_est)\n",
    "        err_add = add(mat[:3,:3], trans, mat_est[:3,:3], t_est, \n",
    "                      model_clouds[obj.item()])\n",
    "        err_adi = adi(mat[:3,:3], trans, mat_est[:3,:3], t_est, \n",
    "                      model_clouds[obj.item()])\n",
    "\n",
    "        pose_est[obj.item()][j]=(q_est, t_est)\n",
    "        pose_gt[obj.item()][j]=(to_np(quat), trans)\n",
    "        sym_angular_error[obj.item()][j]=err_ang\n",
    "        add_error[obj.item()][j]=err_add\n",
    "        add_sym_error[obj.item()][j]=err_adi\n",
    "            \n",
    "np.savez('iros_results/posecnn.npz', \n",
    "         pose_gt=pose_gt,\n",
    "         pose_est=pose_est,\n",
    "         sym_angular_error=sym_angular_error,\n",
    "         add_error=add_error,\n",
    "         add_sym_error=add_sym_error,\n",
    "         bad_data=bad_data\n",
    "        )"
   ]
  },
  {
   "cell_type": "code",
   "execution_count": 27,
   "metadata": {},
   "outputs": [
    {
     "name": "stdout",
     "output_type": "stream",
     "text": [
      "dense_fusion.npz             hist_comp_global_gt_mask.npz  posecnn.npz\r\n",
      "hist_comp_global.npz         hist_comp_global_prop.npz\r\n",
      "hist_comp_global_funnel.npz  hist_comp_local.npz\r\n"
     ]
    }
   ],
   "source": [
    "ls iros_results/"
   ]
  },
  {
   "cell_type": "code",
   "execution_count": null,
   "metadata": {},
   "outputs": [],
   "source": []
  }
 ],
 "metadata": {
  "kernelspec": {
   "display_name": "Python3 (bpy)",
   "language": "python",
   "name": "bpy"
  },
  "language_info": {
   "codemirror_mode": {
    "name": "ipython",
    "version": 3
   },
   "file_extension": ".py",
   "mimetype": "text/x-python",
   "name": "python",
   "nbconvert_exporter": "python",
   "pygments_lexer": "ipython3",
   "version": "3.6.6"
  }
 },
 "nbformat": 4,
 "nbformat_minor": 2
}
