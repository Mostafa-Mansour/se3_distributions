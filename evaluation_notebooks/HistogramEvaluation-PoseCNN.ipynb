{
 "cells": [
  {
   "cell_type": "code",
   "execution_count": 4,
   "metadata": {},
   "outputs": [],
   "source": [
    "%matplotlib inline\n",
    "import os\n",
    "import cv2\n",
    "import numpy as np\n",
    "import torch\n",
    "from torch.autograd import Variable\n",
    "import quat_math\n",
    "import pickle\n",
    "\n",
    "from PIL import Image\n",
    "import scipy.io as scio\n",
    "from functools import partial\n",
    "from object_pose_utils.utils import to_np, to_var\n",
    "\n",
    "import matplotlib.pyplot as plt\n",
    "import pylab\n",
    "pylab.rcParams['figure.figsize'] = 20, 12\n",
    "from mpl_toolkits.mplot3d import Axes3D  # noqa: F401 unused import"
   ]
  },
  {
   "cell_type": "code",
   "execution_count": 2,
   "metadata": {},
   "outputs": [],
   "source": [
    "from quat_math import quat2AxisAngle\n",
    "\n",
    "def quats2Point(quats):\n",
    "    pts = []\n",
    "    for q in quats:\n",
    "        xi, theta = quat2AxisAngle(q)\n",
    "        pts.append(xi*theta)\n",
    "    return np.array(pts)\n",
    "\n",
    "def scatterSO3(vertices, vals, q_gt = None, alpha_max = 1.0):\n",
    "    #c = cmap(vals)\n",
    "    a = np.maximum(0,np.minimum(1, (vals - min(vals))/(max(vals) - min(vals))))\n",
    "    c = cmap(a)\n",
    "    \n",
    "    c[:,3] = alpha_max*a\n",
    "\n",
    "    pts = quats2Point(vertices)\n",
    "    ax.scatter(pts[:,0], pts[:,1], pts[:,2], s=a*10, c=c)\n",
    "\n",
    "    if(q_gt is not None):\n",
    "        pt_gt = quats2Point(q_gt)\n",
    "        ax.scatter(pt_gt[:,0], pt_gt[:,1], pt_gt[:,2], c='r', marker='x')"
   ]
  },
  {
   "cell_type": "code",
   "execution_count": 3,
   "metadata": {},
   "outputs": [],
   "source": [
    "from transforms3d.quaternions import quat2mat, mat2quat\n",
    "\n",
    "def getPoseCNNQuat(data, obj):\n",
    "    pose_idx = np.where(data['rois'][:,1].flatten()==obj)[0]\n",
    "    if(len(pose_idx) == 0):\n",
    "        return None\n",
    "    else:\n",
    "        pose_idx = pose_idx[0]\n",
    "    pose = data['poses'][pose_idx]\n",
    "    q = pose[:4][[1,2,3,0]]\n",
    "    q /= np.linalg.norm(q)\n",
    "    t = pose[4:7]\n",
    "    return q\n"
   ]
  },
  {
   "cell_type": "code",
   "execution_count": 4,
   "metadata": {},
   "outputs": [],
   "source": [
    "from object_pose_utils.datasets.ycb_dataset import YcbDataset as YCBDataset\n",
    "from object_pose_utils.datasets.feature_dataset import FeatureDataset\n",
    "\n",
    "from object_pose_utils.datasets.image_processing import ImageNormalizer\n",
    "from object_pose_utils.datasets.pose_dataset import OutputTypes as otypes\n",
    "\n",
    "dataset_root = '/ssd0/datasets/ycb/YCB_Video_Dataset'\n",
    "object_list = list(range(1,22))\n",
    "mode = \"test\"\n",
    "\n",
    "output_format = [otypes.OBJECT_LABEL,\n",
    "                 otypes.QUATERNION, \n",
    "                 otypes.IMAGE_CROPPED, \n",
    "                 otypes.DEPTH_POINTS_MASKED_AND_INDEXES]\n",
    "\n"
   ]
  },
  {
   "cell_type": "code",
   "execution_count": 5,
   "metadata": {},
   "outputs": [],
   "source": [
    "feature_root = '/scratch/bokorn/results/posecnn_feat_all/'\n",
    "test_feature_root = feature_root\n",
    "feature_key = 'fc6'\n",
    "\n",
    "comp_model_checkpoint = '/scratch/bokorn/results/multi_object/pcnn_fc6/trainval_lr_1e-6_top_x2000/2019-07-04_01-06-36/all/weights/checkpoint_44000.pth'\n",
    "feature_size = 4096\n",
    "\n",
    "sigmas = np.load('../notebooks/fc6_sigma.npz', allow_pickle=True)['sigmas'].item()"
   ]
  },
  {
   "cell_type": "code",
   "execution_count": 6,
   "metadata": {},
   "outputs": [
    {
     "data": {
      "text/plain": [
       "{1: 0.0027629295374846374,\n",
       " 2: 0.0027629295374846374,\n",
       " 3: 0.004795584226429728,\n",
       " 4: 0.0027629295374846374,\n",
       " 5: 0.0027629295374846374,\n",
       " 6: 0.0027629295374846374,\n",
       " 7: 0.0027629295374846374,\n",
       " 8: 0.01011714328948149,\n",
       " 9: 0.0027629295374846374,\n",
       " 10: 0.004795584226429728,\n",
       " 11: 0.0027629295374846374,\n",
       " 12: 0.0080844886005364,\n",
       " 13: 0.0027629295374846374,\n",
       " 14: 0.004795584226429728,\n",
       " 15: 0.0027629295374846374,\n",
       " 16: 0.0080844886005364,\n",
       " 17: 0.0027629295374846374,\n",
       " 18: 0.0027629295374846374,\n",
       " 19: 0.0080844886005364,\n",
       " 20: 0.0027629295374846374,\n",
       " 21: 0.01011714328948149}"
      ]
     },
     "execution_count": 6,
     "metadata": {},
     "output_type": "execute_result"
    }
   ],
   "source": [
    "sigmas"
   ]
  },
  {
   "cell_type": "code",
   "execution_count": 2,
   "metadata": {},
   "outputs": [
    {
     "name": "stdout",
     "output_type": "stream",
     "text": [
      "../notebooks/fc6_sigma.npz\r\n"
     ]
    }
   ],
   "source": [
    "ls ../notebooks/fc6_sigma.npz"
   ]
  },
  {
   "cell_type": "code",
   "execution_count": 7,
   "metadata": {},
   "outputs": [],
   "source": [
    "from se3_distributions.models.compare_networks import SigmoidCompareNet\n",
    "\n",
    "estimator_comp = SigmoidCompareNet(feature_size, 21)\n",
    "estimator_comp.load_state_dict(torch.load(comp_model_checkpoint))\n",
    "estimator_comp.cuda();\n",
    "\n",
    "from object_pose_utils.utils.interpolation import BinghamInterpolation, TetraInterpolation\n",
    "from object_pose_utils.utils.bingham import isobingham_likelihood\n",
    "tetra_interp = TetraInterpolation(2)\n"
   ]
  },
  {
   "cell_type": "code",
   "execution_count": 20,
   "metadata": {},
   "outputs": [
    {
     "data": {
      "application/vnd.jupyter.widget-view+json": {
       "model_id": "87e029836d6046d7a08016c37e25232d",
       "version_major": 2,
       "version_minor": 0
      },
      "text/plain": [
       "HBox(children=(IntProgress(value=0, max=21), HTML(value='')))"
      ]
     },
     "metadata": {},
     "output_type": "display_data"
    },
    {
     "name": "stderr",
     "output_type": "stream",
     "text": [
      "/home/bokorn/src/se3_distributions/bpy/lib/python3.6/site-packages/ipykernel_launcher.py:37: UserWarning: To copy construct from a tensor, it is recommended to use sourceTensor.clone().detach() or sourceTensor.clone().detach().requires_grad_(True), rather than torch.tensor(sourceTensor).\n"
     ]
    },
    {
     "data": {
      "application/vnd.jupyter.widget-view+json": {
       "model_id": "ef59fc6b010649be876069ba508c08f1",
       "version_major": 2,
       "version_minor": 0
      },
      "text/plain": [
       "HBox(children=(IntProgress(value=0, max=1006), HTML(value='')))"
      ]
     },
     "metadata": {},
     "output_type": "display_data"
    },
    {
     "data": {
      "application/vnd.jupyter.widget-view+json": {
       "model_id": "1328a6dd18c54ef08eb8ee1e8896cc25",
       "version_major": 2,
       "version_minor": 0
      },
      "text/plain": [
       "HBox(children=(IntProgress(value=0, max=868), HTML(value='')))"
      ]
     },
     "metadata": {},
     "output_type": "display_data"
    },
    {
     "data": {
      "application/vnd.jupyter.widget-view+json": {
       "model_id": "b980a08a162d4ab7a68f5458b9ac53c8",
       "version_major": 2,
       "version_minor": 0
      },
      "text/plain": [
       "HBox(children=(IntProgress(value=0, max=1182), HTML(value='')))"
      ]
     },
     "metadata": {},
     "output_type": "display_data"
    },
    {
     "data": {
      "application/vnd.jupyter.widget-view+json": {
       "model_id": "28cc452a07894e589713960cdb793a16",
       "version_major": 2,
       "version_minor": 0
      },
      "text/plain": [
       "HBox(children=(IntProgress(value=0, max=1440), HTML(value='')))"
      ]
     },
     "metadata": {},
     "output_type": "display_data"
    },
    {
     "name": "stdout",
     "output_type": "stream",
     "text": [
      "Exception on index 40: [Errno 2] No such file or directory: '/scratch/bokorn/results/posecnn_feat_all/data/0050/000505_005_tomato_soup_can_feat.npz'\n",
      "Exception on index 41: [Errno 2] No such file or directory: '/scratch/bokorn/results/posecnn_feat_all/data/0050/000509_005_tomato_soup_can_feat.npz'\n",
      "Exception on index 42: [Errno 2] No such file or directory: '/scratch/bokorn/results/posecnn_feat_all/data/0050/000558_005_tomato_soup_can_feat.npz'\n",
      "Exception on index 43: [Errno 2] No such file or directory: '/scratch/bokorn/results/posecnn_feat_all/data/0050/000588_005_tomato_soup_can_feat.npz'\n",
      "Exception on index 44: [Errno 2] No such file or directory: '/scratch/bokorn/results/posecnn_feat_all/data/0050/000605_005_tomato_soup_can_feat.npz'\n",
      "Exception on index 45: [Errno 2] No such file or directory: '/scratch/bokorn/results/posecnn_feat_all/data/0050/000610_005_tomato_soup_can_feat.npz'\n",
      "Exception on index 46: [Errno 2] No such file or directory: '/scratch/bokorn/results/posecnn_feat_all/data/0050/000620_005_tomato_soup_can_feat.npz'\n",
      "Exception on index 47: [Errno 2] No such file or directory: '/scratch/bokorn/results/posecnn_feat_all/data/0050/000623_005_tomato_soup_can_feat.npz'\n",
      "Exception on index 48: [Errno 2] No such file or directory: '/scratch/bokorn/results/posecnn_feat_all/data/0050/000629_005_tomato_soup_can_feat.npz'\n",
      "Exception on index 49: [Errno 2] No such file or directory: '/scratch/bokorn/results/posecnn_feat_all/data/0050/000633_005_tomato_soup_can_feat.npz'\n",
      "Exception on index 50: [Errno 2] No such file or directory: '/scratch/bokorn/results/posecnn_feat_all/data/0050/000640_005_tomato_soup_can_feat.npz'\n",
      "Exception on index 51: [Errno 2] No such file or directory: '/scratch/bokorn/results/posecnn_feat_all/data/0050/000642_005_tomato_soup_can_feat.npz'\n",
      "Exception on index 52: [Errno 2] No such file or directory: '/scratch/bokorn/results/posecnn_feat_all/data/0050/000644_005_tomato_soup_can_feat.npz'\n",
      "Exception on index 53: [Errno 2] No such file or directory: '/scratch/bokorn/results/posecnn_feat_all/data/0050/000651_005_tomato_soup_can_feat.npz'\n",
      "Exception on index 54: [Errno 2] No such file or directory: '/scratch/bokorn/results/posecnn_feat_all/data/0050/000653_005_tomato_soup_can_feat.npz'\n",
      "Exception on index 55: [Errno 2] No such file or directory: '/scratch/bokorn/results/posecnn_feat_all/data/0050/000660_005_tomato_soup_can_feat.npz'\n",
      "Exception on index 56: [Errno 2] No such file or directory: '/scratch/bokorn/results/posecnn_feat_all/data/0050/000662_005_tomato_soup_can_feat.npz'\n",
      "Exception on index 57: [Errno 2] No such file or directory: '/scratch/bokorn/results/posecnn_feat_all/data/0050/000671_005_tomato_soup_can_feat.npz'\n",
      "Exception on index 58: [Errno 2] No such file or directory: '/scratch/bokorn/results/posecnn_feat_all/data/0050/000681_005_tomato_soup_can_feat.npz'\n",
      "Exception on index 59: [Errno 2] No such file or directory: '/scratch/bokorn/results/posecnn_feat_all/data/0050/000682_005_tomato_soup_can_feat.npz'\n",
      "Exception on index 60: [Errno 2] No such file or directory: '/scratch/bokorn/results/posecnn_feat_all/data/0050/000701_005_tomato_soup_can_feat.npz'\n",
      "Exception on index 61: [Errno 2] No such file or directory: '/scratch/bokorn/results/posecnn_feat_all/data/0050/000712_005_tomato_soup_can_feat.npz'\n",
      "Exception on index 62: [Errno 2] No such file or directory: '/scratch/bokorn/results/posecnn_feat_all/data/0050/000721_005_tomato_soup_can_feat.npz'\n",
      "Exception on index 63: [Errno 2] No such file or directory: '/scratch/bokorn/results/posecnn_feat_all/data/0050/000722_005_tomato_soup_can_feat.npz'\n",
      "Exception on index 64: [Errno 2] No such file or directory: '/scratch/bokorn/results/posecnn_feat_all/data/0050/000735_005_tomato_soup_can_feat.npz'\n",
      "Exception on index 65: [Errno 2] No such file or directory: '/scratch/bokorn/results/posecnn_feat_all/data/0050/000737_005_tomato_soup_can_feat.npz'\n",
      "Exception on index 66: [Errno 2] No such file or directory: '/scratch/bokorn/results/posecnn_feat_all/data/0050/000751_005_tomato_soup_can_feat.npz'\n",
      "Exception on index 67: [Errno 2] No such file or directory: '/scratch/bokorn/results/posecnn_feat_all/data/0050/000757_005_tomato_soup_can_feat.npz'\n",
      "Exception on index 68: [Errno 2] No such file or directory: '/scratch/bokorn/results/posecnn_feat_all/data/0050/000769_005_tomato_soup_can_feat.npz'\n",
      "Exception on index 69: [Errno 2] No such file or directory: '/scratch/bokorn/results/posecnn_feat_all/data/0050/000775_005_tomato_soup_can_feat.npz'\n",
      "Exception on index 70: [Errno 2] No such file or directory: '/scratch/bokorn/results/posecnn_feat_all/data/0050/000786_005_tomato_soup_can_feat.npz'\n",
      "Exception on index 71: [Errno 2] No such file or directory: '/scratch/bokorn/results/posecnn_feat_all/data/0050/000790_005_tomato_soup_can_feat.npz'\n",
      "Exception on index 72: [Errno 2] No such file or directory: '/scratch/bokorn/results/posecnn_feat_all/data/0050/000798_005_tomato_soup_can_feat.npz'\n",
      "Exception on index 73: [Errno 2] No such file or directory: '/scratch/bokorn/results/posecnn_feat_all/data/0050/000802_005_tomato_soup_can_feat.npz'\n",
      "Exception on index 74: [Errno 2] No such file or directory: '/scratch/bokorn/results/posecnn_feat_all/data/0050/000811_005_tomato_soup_can_feat.npz'\n",
      "Exception on index 75: [Errno 2] No such file or directory: '/scratch/bokorn/results/posecnn_feat_all/data/0050/000822_005_tomato_soup_can_feat.npz'\n",
      "Exception on index 76: [Errno 2] No such file or directory: '/scratch/bokorn/results/posecnn_feat_all/data/0050/000830_005_tomato_soup_can_feat.npz'\n",
      "Exception on index 77: [Errno 2] No such file or directory: '/scratch/bokorn/results/posecnn_feat_all/data/0050/000831_005_tomato_soup_can_feat.npz'\n",
      "Exception on index 78: [Errno 2] No such file or directory: '/scratch/bokorn/results/posecnn_feat_all/data/0050/000846_005_tomato_soup_can_feat.npz'\n",
      "Exception on index 79: [Errno 2] No such file or directory: '/scratch/bokorn/results/posecnn_feat_all/data/0050/000850_005_tomato_soup_can_feat.npz'\n",
      "Exception on index 80: [Errno 2] No such file or directory: '/scratch/bokorn/results/posecnn_feat_all/data/0050/000876_005_tomato_soup_can_feat.npz'\n",
      "Exception on index 81: [Errno 2] No such file or directory: '/scratch/bokorn/results/posecnn_feat_all/data/0050/000887_005_tomato_soup_can_feat.npz'\n",
      "Exception on index 82: [Errno 2] No such file or directory: '/scratch/bokorn/results/posecnn_feat_all/data/0050/000891_005_tomato_soup_can_feat.npz'\n",
      "Exception on index 83: [Errno 2] No such file or directory: '/scratch/bokorn/results/posecnn_feat_all/data/0050/000902_005_tomato_soup_can_feat.npz'\n"
     ]
    },
    {
     "data": {
      "application/vnd.jupyter.widget-view+json": {
       "model_id": "a474b07727b146bf83700f7d2ac6d784",
       "version_major": 2,
       "version_minor": 0
      },
      "text/plain": [
       "HBox(children=(IntProgress(value=0, max=357), HTML(value='')))"
      ]
     },
     "metadata": {},
     "output_type": "display_data"
    },
    {
     "data": {
      "application/vnd.jupyter.widget-view+json": {
       "model_id": "d22ebc996561473e99aecfe974cf2b91",
       "version_major": 2,
       "version_minor": 0
      },
      "text/plain": [
       "HBox(children=(IntProgress(value=0, max=1148), HTML(value='')))"
      ]
     },
     "metadata": {},
     "output_type": "display_data"
    },
    {
     "data": {
      "application/vnd.jupyter.widget-view+json": {
       "model_id": "2d32fba2d13c4f9fb54d09d0cf5f4bed",
       "version_major": 2,
       "version_minor": 0
      },
      "text/plain": [
       "HBox(children=(IntProgress(value=0, max=214), HTML(value='')))"
      ]
     },
     "metadata": {},
     "output_type": "display_data"
    },
    {
     "data": {
      "application/vnd.jupyter.widget-view+json": {
       "model_id": "7bd95a3dc494402ca629c75836125738",
       "version_major": 2,
       "version_minor": 0
      },
      "text/plain": [
       "HBox(children=(IntProgress(value=0, max=214), HTML(value='')))"
      ]
     },
     "metadata": {},
     "output_type": "display_data"
    },
    {
     "data": {
      "application/vnd.jupyter.widget-view+json": {
       "model_id": "ca1959fe435f404197f40c84bcc2dfff",
       "version_major": 2,
       "version_minor": 0
      },
      "text/plain": [
       "HBox(children=(IntProgress(value=0, max=766), HTML(value='')))"
      ]
     },
     "metadata": {},
     "output_type": "display_data"
    },
    {
     "name": "stdout",
     "output_type": "stream",
     "text": [
      "Exception on index 408: [Errno 2] No such file or directory: '/scratch/bokorn/results/posecnn_feat_all/data/0059/000037_010_potted_meat_can_feat.npz'\n",
      "Exception on index 413: [Errno 2] No such file or directory: '/scratch/bokorn/results/posecnn_feat_all/data/0059/000088_010_potted_meat_can_feat.npz'\n",
      "Exception on index 426: [Errno 2] No such file or directory: '/scratch/bokorn/results/posecnn_feat_all/data/0059/000153_010_potted_meat_can_feat.npz'\n",
      "Exception on index 427: [Errno 2] No such file or directory: '/scratch/bokorn/results/posecnn_feat_all/data/0059/000154_010_potted_meat_can_feat.npz'\n",
      "Exception on index 429: [Errno 2] No such file or directory: '/scratch/bokorn/results/posecnn_feat_all/data/0059/000158_010_potted_meat_can_feat.npz'\n",
      "Exception on index 432: [Errno 2] No such file or directory: '/scratch/bokorn/results/posecnn_feat_all/data/0059/000162_010_potted_meat_can_feat.npz'\n",
      "Exception on index 433: [Errno 2] No such file or directory: '/scratch/bokorn/results/posecnn_feat_all/data/0059/000163_010_potted_meat_can_feat.npz'\n",
      "Exception on index 434: [Errno 2] No such file or directory: '/scratch/bokorn/results/posecnn_feat_all/data/0059/000164_010_potted_meat_can_feat.npz'\n",
      "Exception on index 435: [Errno 2] No such file or directory: '/scratch/bokorn/results/posecnn_feat_all/data/0059/000165_010_potted_meat_can_feat.npz'\n",
      "Exception on index 436: [Errno 2] No such file or directory: '/scratch/bokorn/results/posecnn_feat_all/data/0059/000167_010_potted_meat_can_feat.npz'\n",
      "Exception on index 438: [Errno 2] No such file or directory: '/scratch/bokorn/results/posecnn_feat_all/data/0059/000171_010_potted_meat_can_feat.npz'\n",
      "Exception on index 439: [Errno 2] No such file or directory: '/scratch/bokorn/results/posecnn_feat_all/data/0059/000176_010_potted_meat_can_feat.npz'\n",
      "Exception on index 442: [Errno 2] No such file or directory: '/scratch/bokorn/results/posecnn_feat_all/data/0059/000206_010_potted_meat_can_feat.npz'\n"
     ]
    },
    {
     "data": {
      "application/vnd.jupyter.widget-view+json": {
       "model_id": "969b7e37093c4ceca0e3ca362129be70",
       "version_major": 2,
       "version_minor": 0
      },
      "text/plain": [
       "HBox(children=(IntProgress(value=0, max=379), HTML(value='')))"
      ]
     },
     "metadata": {},
     "output_type": "display_data"
    },
    {
     "data": {
      "application/vnd.jupyter.widget-view+json": {
       "model_id": "7640f8da39ef4005bba9eefe498249ea",
       "version_major": 2,
       "version_minor": 0
      },
      "text/plain": [
       "HBox(children=(IntProgress(value=0, max=570), HTML(value='')))"
      ]
     },
     "metadata": {},
     "output_type": "display_data"
    },
    {
     "data": {
      "application/vnd.jupyter.widget-view+json": {
       "model_id": "2189cef78fe44debb4fa5f116f9c07ef",
       "version_major": 2,
       "version_minor": 0
      },
      "text/plain": [
       "HBox(children=(IntProgress(value=0, max=1029), HTML(value='')))"
      ]
     },
     "metadata": {},
     "output_type": "display_data"
    },
    {
     "data": {
      "application/vnd.jupyter.widget-view+json": {
       "model_id": "568eb54950e044dfaff33df306d38996",
       "version_major": 2,
       "version_minor": 0
      },
      "text/plain": [
       "HBox(children=(IntProgress(value=0, max=406), HTML(value='')))"
      ]
     },
     "metadata": {},
     "output_type": "display_data"
    },
    {
     "data": {
      "application/vnd.jupyter.widget-view+json": {
       "model_id": "964c92c3bfa94f52806e37d4e4beda5b",
       "version_major": 2,
       "version_minor": 0
      },
      "text/plain": [
       "HBox(children=(IntProgress(value=0, max=636), HTML(value='')))"
      ]
     },
     "metadata": {},
     "output_type": "display_data"
    },
    {
     "data": {
      "application/vnd.jupyter.widget-view+json": {
       "model_id": "c437359d81cb4640899d6f86799dfb35",
       "version_major": 2,
       "version_minor": 0
      },
      "text/plain": [
       "HBox(children=(IntProgress(value=0, max=1057), HTML(value='')))"
      ]
     },
     "metadata": {},
     "output_type": "display_data"
    },
    {
     "data": {
      "application/vnd.jupyter.widget-view+json": {
       "model_id": "063936ca4a4949fdb28c26dbcf6a64d9",
       "version_major": 2,
       "version_minor": 0
      },
      "text/plain": [
       "HBox(children=(IntProgress(value=0, max=242), HTML(value='')))"
      ]
     },
     "metadata": {},
     "output_type": "display_data"
    },
    {
     "data": {
      "application/vnd.jupyter.widget-view+json": {
       "model_id": "3aeb3660ac11411da070e7a04bb668c7",
       "version_major": 2,
       "version_minor": 0
      },
      "text/plain": [
       "HBox(children=(IntProgress(value=0, max=181), HTML(value='')))"
      ]
     },
     "metadata": {},
     "output_type": "display_data"
    },
    {
     "data": {
      "application/vnd.jupyter.widget-view+json": {
       "model_id": "418bf26d07c44b628f9d3d862ac07c59",
       "version_major": 2,
       "version_minor": 0
      },
      "text/plain": [
       "HBox(children=(IntProgress(value=0, max=648), HTML(value='')))"
      ]
     },
     "metadata": {},
     "output_type": "display_data"
    },
    {
     "data": {
      "application/vnd.jupyter.widget-view+json": {
       "model_id": "17a9aa63b4b34ab1bea2fbb41435767c",
       "version_major": 2,
       "version_minor": 0
      },
      "text/plain": [
       "HBox(children=(IntProgress(value=0, max=712), HTML(value='')))"
      ]
     },
     "metadata": {},
     "output_type": "display_data"
    },
    {
     "name": "stdout",
     "output_type": "stream",
     "text": [
      "Exception on index 57: [Errno 2] No such file or directory: '/scratch/bokorn/results/posecnn_feat_all/data/0048/000653_051_large_clamp_feat.npz'\n",
      "Exception on index 58: [Errno 2] No such file or directory: '/scratch/bokorn/results/posecnn_feat_all/data/0048/000656_051_large_clamp_feat.npz'\n",
      "Exception on index 61: [Errno 2] No such file or directory: '/scratch/bokorn/results/posecnn_feat_all/data/0048/000685_051_large_clamp_feat.npz'\n",
      "Exception on index 62: [Errno 2] No such file or directory: '/scratch/bokorn/results/posecnn_feat_all/data/0048/000694_051_large_clamp_feat.npz'\n",
      "Exception on index 63: [Errno 2] No such file or directory: '/scratch/bokorn/results/posecnn_feat_all/data/0048/000733_051_large_clamp_feat.npz'\n",
      "Exception on index 69: [Errno 2] No such file or directory: '/scratch/bokorn/results/posecnn_feat_all/data/0048/000806_051_large_clamp_feat.npz'\n",
      "Exception on index 73: [Errno 2] No such file or directory: '/scratch/bokorn/results/posecnn_feat_all/data/0048/000834_051_large_clamp_feat.npz'\n",
      "Exception on index 687: [Errno 2] No such file or directory: '/scratch/bokorn/results/posecnn_feat_all/data/0054/001663_051_large_clamp_feat.npz'\n",
      "Exception on index 699: [Errno 2] No such file or directory: '/scratch/bokorn/results/posecnn_feat_all/data/0054/001765_051_large_clamp_feat.npz'\n",
      "Exception on index 703: [Errno 2] No such file or directory: '/scratch/bokorn/results/posecnn_feat_all/data/0054/001821_051_large_clamp_feat.npz'\n",
      "Exception on index 706: [Errno 2] No such file or directory: '/scratch/bokorn/results/posecnn_feat_all/data/0054/001854_051_large_clamp_feat.npz'\n",
      "Exception on index 708: [Errno 2] No such file or directory: '/scratch/bokorn/results/posecnn_feat_all/data/0054/001882_051_large_clamp_feat.npz'\n",
      "Exception on index 709: [Errno 2] No such file or directory: '/scratch/bokorn/results/posecnn_feat_all/data/0054/001888_051_large_clamp_feat.npz'\n",
      "Exception on index 711: [Errno 2] No such file or directory: '/scratch/bokorn/results/posecnn_feat_all/data/0054/001918_051_large_clamp_feat.npz'\n"
     ]
    },
    {
     "data": {
      "application/vnd.jupyter.widget-view+json": {
       "model_id": "a5fd5b13f76f4b24a4d8aeb1833031bf",
       "version_major": 2,
       "version_minor": 0
      },
      "text/plain": [
       "HBox(children=(IntProgress(value=0, max=682), HTML(value='')))"
      ]
     },
     "metadata": {},
     "output_type": "display_data"
    },
    {
     "name": "stdout",
     "output_type": "stream",
     "text": [
      "Exception on index 503: [Errno 2] No such file or directory: '/scratch/bokorn/results/posecnn_feat_all/data/0057/000830_052_extra_large_clamp_feat.npz'\n",
      "Exception on index 505: [Errno 2] No such file or directory: '/scratch/bokorn/results/posecnn_feat_all/data/0057/000836_052_extra_large_clamp_feat.npz'\n",
      "Exception on index 507: [Errno 2] No such file or directory: '/scratch/bokorn/results/posecnn_feat_all/data/0057/000839_052_extra_large_clamp_feat.npz'\n",
      "Exception on index 515: [Errno 2] No such file or directory: '/scratch/bokorn/results/posecnn_feat_all/data/0057/000851_052_extra_large_clamp_feat.npz'\n",
      "Exception on index 518: [Errno 2] No such file or directory: '/scratch/bokorn/results/posecnn_feat_all/data/0057/000890_052_extra_large_clamp_feat.npz'\n",
      "Exception on index 519: [Errno 2] No such file or directory: '/scratch/bokorn/results/posecnn_feat_all/data/0057/000897_052_extra_large_clamp_feat.npz'\n",
      "Exception on index 521: [Errno 2] No such file or directory: '/scratch/bokorn/results/posecnn_feat_all/data/0057/000928_052_extra_large_clamp_feat.npz'\n",
      "Exception on index 523: [Errno 2] No such file or directory: '/scratch/bokorn/results/posecnn_feat_all/data/0057/000935_052_extra_large_clamp_feat.npz'\n",
      "Exception on index 524: [Errno 2] No such file or directory: '/scratch/bokorn/results/posecnn_feat_all/data/0057/000940_052_extra_large_clamp_feat.npz'\n",
      "Exception on index 525: [Errno 2] No such file or directory: '/scratch/bokorn/results/posecnn_feat_all/data/0057/000942_052_extra_large_clamp_feat.npz'\n",
      "Exception on index 526: [Errno 2] No such file or directory: '/scratch/bokorn/results/posecnn_feat_all/data/0057/000946_052_extra_large_clamp_feat.npz'\n",
      "Exception on index 530: [Errno 2] No such file or directory: '/scratch/bokorn/results/posecnn_feat_all/data/0057/000959_052_extra_large_clamp_feat.npz'\n",
      "Exception on index 531: [Errno 2] No such file or directory: '/scratch/bokorn/results/posecnn_feat_all/data/0057/000964_052_extra_large_clamp_feat.npz'\n",
      "Exception on index 532: [Errno 2] No such file or directory: '/scratch/bokorn/results/posecnn_feat_all/data/0057/000965_052_extra_large_clamp_feat.npz'\n",
      "Exception on index 533: [Errno 2] No such file or directory: '/scratch/bokorn/results/posecnn_feat_all/data/0057/000971_052_extra_large_clamp_feat.npz'\n",
      "Exception on index 534: [Errno 2] No such file or directory: '/scratch/bokorn/results/posecnn_feat_all/data/0057/000973_052_extra_large_clamp_feat.npz'\n",
      "Exception on index 536: [Errno 2] No such file or directory: '/scratch/bokorn/results/posecnn_feat_all/data/0057/000982_052_extra_large_clamp_feat.npz'\n",
      "Exception on index 538: [Errno 2] No such file or directory: '/scratch/bokorn/results/posecnn_feat_all/data/0057/000986_052_extra_large_clamp_feat.npz'\n",
      "Exception on index 539: [Errno 2] No such file or directory: '/scratch/bokorn/results/posecnn_feat_all/data/0057/000990_052_extra_large_clamp_feat.npz'\n",
      "Exception on index 540: [Errno 2] No such file or directory: '/scratch/bokorn/results/posecnn_feat_all/data/0057/000991_052_extra_large_clamp_feat.npz'\n",
      "Exception on index 541: [Errno 2] No such file or directory: '/scratch/bokorn/results/posecnn_feat_all/data/0057/000998_052_extra_large_clamp_feat.npz'\n",
      "Exception on index 542: [Errno 2] No such file or directory: '/scratch/bokorn/results/posecnn_feat_all/data/0057/001012_052_extra_large_clamp_feat.npz'\n",
      "Exception on index 543: [Errno 2] No such file or directory: '/scratch/bokorn/results/posecnn_feat_all/data/0057/001026_052_extra_large_clamp_feat.npz'\n",
      "Exception on index 544: [Errno 2] No such file or directory: '/scratch/bokorn/results/posecnn_feat_all/data/0057/001028_052_extra_large_clamp_feat.npz'\n",
      "Exception on index 545: [Errno 2] No such file or directory: '/scratch/bokorn/results/posecnn_feat_all/data/0057/001035_052_extra_large_clamp_feat.npz'\n",
      "Exception on index 547: [Errno 2] No such file or directory: '/scratch/bokorn/results/posecnn_feat_all/data/0057/001046_052_extra_large_clamp_feat.npz'\n",
      "Exception on index 548: [Errno 2] No such file or directory: '/scratch/bokorn/results/posecnn_feat_all/data/0057/001054_052_extra_large_clamp_feat.npz'\n",
      "Exception on index 549: [Errno 2] No such file or directory: '/scratch/bokorn/results/posecnn_feat_all/data/0057/001057_052_extra_large_clamp_feat.npz'\n",
      "Exception on index 550: [Errno 2] No such file or directory: '/scratch/bokorn/results/posecnn_feat_all/data/0057/001066_052_extra_large_clamp_feat.npz'\n",
      "Exception on index 551: [Errno 2] No such file or directory: '/scratch/bokorn/results/posecnn_feat_all/data/0057/001071_052_extra_large_clamp_feat.npz'\n",
      "Exception on index 552: [Errno 2] No such file or directory: '/scratch/bokorn/results/posecnn_feat_all/data/0057/001073_052_extra_large_clamp_feat.npz'\n",
      "Exception on index 553: [Errno 2] No such file or directory: '/scratch/bokorn/results/posecnn_feat_all/data/0057/001076_052_extra_large_clamp_feat.npz'\n",
      "Exception on index 554: [Errno 2] No such file or directory: '/scratch/bokorn/results/posecnn_feat_all/data/0057/001078_052_extra_large_clamp_feat.npz'\n",
      "Exception on index 555: [Errno 2] No such file or directory: '/scratch/bokorn/results/posecnn_feat_all/data/0057/001081_052_extra_large_clamp_feat.npz'\n",
      "Exception on index 556: [Errno 2] No such file or directory: '/scratch/bokorn/results/posecnn_feat_all/data/0057/001082_052_extra_large_clamp_feat.npz'\n",
      "Exception on index 557: [Errno 2] No such file or directory: '/scratch/bokorn/results/posecnn_feat_all/data/0057/001083_052_extra_large_clamp_feat.npz'\n",
      "Exception on index 558: [Errno 2] No such file or directory: '/scratch/bokorn/results/posecnn_feat_all/data/0057/001086_052_extra_large_clamp_feat.npz'\n",
      "Exception on index 559: [Errno 2] No such file or directory: '/scratch/bokorn/results/posecnn_feat_all/data/0057/001087_052_extra_large_clamp_feat.npz'\n",
      "Exception on index 560: [Errno 2] No such file or directory: '/scratch/bokorn/results/posecnn_feat_all/data/0057/001092_052_extra_large_clamp_feat.npz'\n",
      "Exception on index 561: [Errno 2] No such file or directory: '/scratch/bokorn/results/posecnn_feat_all/data/0057/001093_052_extra_large_clamp_feat.npz'\n",
      "Exception on index 562: [Errno 2] No such file or directory: '/scratch/bokorn/results/posecnn_feat_all/data/0057/001099_052_extra_large_clamp_feat.npz'\n",
      "Exception on index 563: [Errno 2] No such file or directory: '/scratch/bokorn/results/posecnn_feat_all/data/0057/001101_052_extra_large_clamp_feat.npz'\n",
      "Exception on index 564: [Errno 2] No such file or directory: '/scratch/bokorn/results/posecnn_feat_all/data/0057/001108_052_extra_large_clamp_feat.npz'\n",
      "Exception on index 565: [Errno 2] No such file or directory: '/scratch/bokorn/results/posecnn_feat_all/data/0057/001116_052_extra_large_clamp_feat.npz'\n",
      "Exception on index 566: [Errno 2] No such file or directory: '/scratch/bokorn/results/posecnn_feat_all/data/0057/001118_052_extra_large_clamp_feat.npz'\n",
      "Exception on index 567: [Errno 2] No such file or directory: '/scratch/bokorn/results/posecnn_feat_all/data/0057/001131_052_extra_large_clamp_feat.npz'\n",
      "Exception on index 569: [Errno 2] No such file or directory: '/scratch/bokorn/results/posecnn_feat_all/data/0057/001135_052_extra_large_clamp_feat.npz'\n",
      "Exception on index 570: [Errno 2] No such file or directory: '/scratch/bokorn/results/posecnn_feat_all/data/0057/001138_052_extra_large_clamp_feat.npz'\n",
      "Exception on index 573: [Errno 2] No such file or directory: '/scratch/bokorn/results/posecnn_feat_all/data/0057/001148_052_extra_large_clamp_feat.npz'\n",
      "Exception on index 574: [Errno 2] No such file or directory: '/scratch/bokorn/results/posecnn_feat_all/data/0057/001153_052_extra_large_clamp_feat.npz'\n",
      "Exception on index 576: [Errno 2] No such file or directory: '/scratch/bokorn/results/posecnn_feat_all/data/0057/001159_052_extra_large_clamp_feat.npz'\n",
      "Exception on index 578: [Errno 2] No such file or directory: '/scratch/bokorn/results/posecnn_feat_all/data/0057/001164_052_extra_large_clamp_feat.npz'\n",
      "Exception on index 579: [Errno 2] No such file or directory: '/scratch/bokorn/results/posecnn_feat_all/data/0057/001166_052_extra_large_clamp_feat.npz'\n",
      "Exception on index 580: [Errno 2] No such file or directory: '/scratch/bokorn/results/posecnn_feat_all/data/0057/001170_052_extra_large_clamp_feat.npz'\n"
     ]
    },
    {
     "name": "stdout",
     "output_type": "stream",
     "text": [
      "Exception on index 583: [Errno 2] No such file or directory: '/scratch/bokorn/results/posecnn_feat_all/data/0057/001181_052_extra_large_clamp_feat.npz'\n",
      "Exception on index 584: [Errno 2] No such file or directory: '/scratch/bokorn/results/posecnn_feat_all/data/0057/001185_052_extra_large_clamp_feat.npz'\n",
      "Exception on index 585: [Errno 2] No such file or directory: '/scratch/bokorn/results/posecnn_feat_all/data/0057/001190_052_extra_large_clamp_feat.npz'\n",
      "Exception on index 586: [Errno 2] No such file or directory: '/scratch/bokorn/results/posecnn_feat_all/data/0057/001215_052_extra_large_clamp_feat.npz'\n",
      "Exception on index 587: [Errno 2] No such file or directory: '/scratch/bokorn/results/posecnn_feat_all/data/0057/001245_052_extra_large_clamp_feat.npz'\n",
      "Exception on index 588: [Errno 2] No such file or directory: '/scratch/bokorn/results/posecnn_feat_all/data/0057/001250_052_extra_large_clamp_feat.npz'\n",
      "Exception on index 589: [Errno 2] No such file or directory: '/scratch/bokorn/results/posecnn_feat_all/data/0057/001257_052_extra_large_clamp_feat.npz'\n",
      "Exception on index 590: [Errno 2] No such file or directory: '/scratch/bokorn/results/posecnn_feat_all/data/0057/001258_052_extra_large_clamp_feat.npz'\n",
      "Exception on index 591: [Errno 2] No such file or directory: '/scratch/bokorn/results/posecnn_feat_all/data/0057/001268_052_extra_large_clamp_feat.npz'\n",
      "Exception on index 592: [Errno 2] No such file or directory: '/scratch/bokorn/results/posecnn_feat_all/data/0057/001269_052_extra_large_clamp_feat.npz'\n",
      "Exception on index 594: [Errno 2] No such file or directory: '/scratch/bokorn/results/posecnn_feat_all/data/0057/001276_052_extra_large_clamp_feat.npz'\n",
      "Exception on index 595: [Errno 2] No such file or directory: '/scratch/bokorn/results/posecnn_feat_all/data/0057/001282_052_extra_large_clamp_feat.npz'\n",
      "Exception on index 597: [Errno 2] No such file or directory: '/scratch/bokorn/results/posecnn_feat_all/data/0057/001292_052_extra_large_clamp_feat.npz'\n",
      "Exception on index 636: [Errno 2] No such file or directory: '/scratch/bokorn/results/posecnn_feat_all/data/0057/001530_052_extra_large_clamp_feat.npz'\n",
      "Exception on index 640: [Errno 2] No such file or directory: '/scratch/bokorn/results/posecnn_feat_all/data/0057/001549_052_extra_large_clamp_feat.npz'\n",
      "Exception on index 641: [Errno 2] No such file or directory: '/scratch/bokorn/results/posecnn_feat_all/data/0057/001560_052_extra_large_clamp_feat.npz'\n",
      "Exception on index 642: [Errno 2] No such file or directory: '/scratch/bokorn/results/posecnn_feat_all/data/0057/001563_052_extra_large_clamp_feat.npz'\n",
      "Exception on index 643: [Errno 2] No such file or directory: '/scratch/bokorn/results/posecnn_feat_all/data/0057/001566_052_extra_large_clamp_feat.npz'\n",
      "Exception on index 644: [Errno 2] No such file or directory: '/scratch/bokorn/results/posecnn_feat_all/data/0057/001570_052_extra_large_clamp_feat.npz'\n",
      "Exception on index 645: [Errno 2] No such file or directory: '/scratch/bokorn/results/posecnn_feat_all/data/0057/001585_052_extra_large_clamp_feat.npz'\n",
      "Exception on index 646: [Errno 2] No such file or directory: '/scratch/bokorn/results/posecnn_feat_all/data/0057/001589_052_extra_large_clamp_feat.npz'\n",
      "Exception on index 647: [Errno 2] No such file or directory: '/scratch/bokorn/results/posecnn_feat_all/data/0057/001593_052_extra_large_clamp_feat.npz'\n",
      "Exception on index 650: [Errno 2] No such file or directory: '/scratch/bokorn/results/posecnn_feat_all/data/0057/001621_052_extra_large_clamp_feat.npz'\n",
      "Exception on index 651: [Errno 2] No such file or directory: '/scratch/bokorn/results/posecnn_feat_all/data/0057/001628_052_extra_large_clamp_feat.npz'\n",
      "Exception on index 652: [Errno 2] No such file or directory: '/scratch/bokorn/results/posecnn_feat_all/data/0057/001637_052_extra_large_clamp_feat.npz'\n",
      "Exception on index 653: [Errno 2] No such file or directory: '/scratch/bokorn/results/posecnn_feat_all/data/0057/001647_052_extra_large_clamp_feat.npz'\n",
      "Exception on index 654: [Errno 2] No such file or directory: '/scratch/bokorn/results/posecnn_feat_all/data/0057/001671_052_extra_large_clamp_feat.npz'\n",
      "Exception on index 656: [Errno 2] No such file or directory: '/scratch/bokorn/results/posecnn_feat_all/data/0057/001691_052_extra_large_clamp_feat.npz'\n",
      "Exception on index 659: [Errno 2] No such file or directory: '/scratch/bokorn/results/posecnn_feat_all/data/0057/001705_052_extra_large_clamp_feat.npz'\n",
      "Exception on index 660: [Errno 2] No such file or directory: '/scratch/bokorn/results/posecnn_feat_all/data/0057/001708_052_extra_large_clamp_feat.npz'\n",
      "Exception on index 661: [Errno 2] No such file or directory: '/scratch/bokorn/results/posecnn_feat_all/data/0057/001709_052_extra_large_clamp_feat.npz'\n",
      "Exception on index 662: [Errno 2] No such file or directory: '/scratch/bokorn/results/posecnn_feat_all/data/0057/001712_052_extra_large_clamp_feat.npz'\n",
      "Exception on index 664: [Errno 2] No such file or directory: '/scratch/bokorn/results/posecnn_feat_all/data/0057/001714_052_extra_large_clamp_feat.npz'\n",
      "Exception on index 666: [Errno 2] No such file or directory: '/scratch/bokorn/results/posecnn_feat_all/data/0057/001734_052_extra_large_clamp_feat.npz'\n",
      "Exception on index 667: [Errno 2] No such file or directory: '/scratch/bokorn/results/posecnn_feat_all/data/0057/001737_052_extra_large_clamp_feat.npz'\n",
      "Exception on index 669: [Errno 2] No such file or directory: '/scratch/bokorn/results/posecnn_feat_all/data/0057/001740_052_extra_large_clamp_feat.npz'\n",
      "Exception on index 673: [Errno 2] No such file or directory: '/scratch/bokorn/results/posecnn_feat_all/data/0057/001747_052_extra_large_clamp_feat.npz'\n",
      "Exception on index 674: [Errno 2] No such file or directory: '/scratch/bokorn/results/posecnn_feat_all/data/0057/001748_052_extra_large_clamp_feat.npz'\n"
     ]
    },
    {
     "data": {
      "application/vnd.jupyter.widget-view+json": {
       "model_id": "cd0ec304a7f6410dbeb9f009b434f9a0",
       "version_major": 2,
       "version_minor": 0
      },
      "text/plain": [
       "HBox(children=(IntProgress(value=0, max=288), HTML(value='')))"
      ]
     },
     "metadata": {},
     "output_type": "display_data"
    },
    {
     "name": "stdout",
     "output_type": "stream",
     "text": [
      "\n"
     ]
    }
   ],
   "source": [
    "from se3_distributions.datasets.ycb_dataset import getYCBSymmeties\n",
    "from object_pose_utils.utils.pose_processing import symmetricAngularDistance, meanShift\n",
    "import pathlib\n",
    "\n",
    "\n",
    "import scipy.io as scio\n",
    "from tqdm import tqdm_notebook as tqdm\n",
    "\n",
    "grid_size = 3885\n",
    "rep_indices = np.repeat(np.arange(1), grid_size)\n",
    "\n",
    "err_compare = {}\n",
    "err_bing = {}\n",
    "\n",
    "lik_compare = {}\n",
    "lik_bing = {}\n",
    "\n",
    "interp_sigma = 60.0\n",
    "\n",
    "with torch.no_grad():\n",
    "    for object_id in tqdm(object_list):\n",
    "        sym_axis, sym_ang = getYCBSymmeties(object_id)\n",
    "        ycb_dataset = FeatureDataset(dataset_root = dataset_root,\n",
    "                                     feature_root = test_feature_root,\n",
    "                                     feature_key = feature_key,\n",
    "                                     resample_on_error = False,\n",
    "                                     mode=mode, object_list = [object_id])\n",
    "        grid_vertices = torch.load(os.path.join(feature_root, 'grid',\n",
    "            '{}_vertices.pt'.format(ycb_dataset.classes[object_id])))\n",
    "        grid_features = torch.load(os.path.join(feature_root, 'grid',\n",
    "            '{}_{}_features.pt'.format(feature_key,ycb_dataset.classes[object_id])))\n",
    "\n",
    "        grid_size = grid_vertices.shape[0]\n",
    "        grid_features = to_var(grid_features)\n",
    "        rep_indices = np.repeat(np.arange(1), grid_size)\n",
    "\n",
    "        bing_interp = BinghamInterpolation(torch.tensor(grid_vertices).cuda(),\n",
    "                                           sigma=torch.tensor([interp_sigma]).cuda())\n",
    "\n",
    "        \n",
    "        lik_compare[object_id] = []\n",
    "        err_compare[object_id] = []\n",
    "        lik_bing[object_id] = []\n",
    "        err_bing[object_id] = []\n",
    "        \n",
    "        pathlib.Path('results/data'.format(ycb_dataset.classes[object_id])).mkdir(parents=True, exist_ok=True)\n",
    "        \n",
    "        for j, data in tqdm(enumerate(ycb_dataset), total=len(ycb_dataset)):\n",
    "            obj, feat, quat = data\n",
    "            if(len(obj) == 0):\n",
    "                lik_compare[object_id].append(np.nan)\n",
    "                err_compare[object_id].append(np.nan)\n",
    "                lik_bing[object_id].append(np.nan)\n",
    "                err_bing[object_id].append(np.nan)\n",
    "                continue\n",
    "            feature_data = np.load('{}/data/{}_{}_feat.npz'.format(ycb_dataset.feature_root, \n",
    "                ycb_dataset.getPath(j), ycb_dataset.classes[obj]))\n",
    "\n",
    "            pcnn_mat = scio.loadmat('{}/data/{}-posecnn.mat'.format(ycb_dataset.dataset_root, ycb_dataset.getPath(j)))\n",
    "            est_quat = torch.tensor(getPoseCNNQuat(pcnn_mat, obj.item())).float()\n",
    "            \n",
    "            idx = torch.autograd.Variable(obj - 1).unsqueeze(0).cuda()\n",
    "            feat = to_var(feat).unsqueeze(0)\n",
    "\n",
    "            dist_est = estimator_comp(grid_features, feat[rep_indices])\n",
    "            dist_est = torch.gather(dist_est, 1, idx[rep_indices])\n",
    "            dist_est = torch.exp(dist_est)\n",
    "            bing_interp.setValues(dist_est.flatten().cuda())\n",
    "            v_interp = bing_interp(quat.unsqueeze(0).cuda())\n",
    "            lik_compare[object_id].append(v_interp.item())\n",
    "            \n",
    "#            tetra_interp.setValues(to_np(dist_est.flatten()))\n",
    "#            lik_compare[object_id].append(tetra_interp.smooth(to_np(quat)).item())\n",
    "            \n",
    "#            lik_bing[object_id].append(isobingham_likelihood(est_quat.cuda(), \n",
    "#                                torch.tensor(sigmas[obj.item()]).unsqueeze(0).float().cuda(),\n",
    "#                                quat.unsqueeze(0).cuda()).item()*2)\n",
    "            \n",
    "            mode_quat = grid_vertices[torch.argmax(dist_est)].unsqueeze(0)\n",
    "            \n",
    "            v_shift = meanShift(mode_quat.cuda(), grid_vertices.cuda(), dist_est.cuda(),\n",
    "                                sigma=np.pi/9, max_iter = 100)\n",
    "            \n",
    "            err_compare[object_id].append(symmetricAngularDistance(mode_quat, quat.unsqueeze(0),\n",
    "                                             sym_axis, sym_ang).item()*180/np.pi)\n",
    "            \n",
    "#            err_bing[object_id].append(symmetricAngularDistance(est_quat.unsqueeze(0), quat.unsqueeze(0),\n",
    "#                                           sym_axis, sym_ang).item()*180/np.pi)\n",
    "            \n",
    "            savepath = 'results/{}'.format(ycb_dataset.getPath(j))\n",
    "            pathlib.Path(savepath).mkdir(parents=True, exist_ok=True)\n",
    "            \n",
    "            scio.savemat('{}/{}_{}_results_b_interp.mat'.format(savepath, \n",
    "                                                    ycb_dataset.classes[object_id], \n",
    "                                                    ycb_dataset.feature_key),\n",
    "                        {'index':j,\n",
    "                         'quat':to_np(quat),\n",
    "                         'mode_quat':to_np(mode_quat),\n",
    "                         'dist_est':to_np(dist_est),\n",
    "                         'comp_err':err_compare[object_id][-1],\n",
    "                         'comp_lik':lik_compare[object_id][-1],\n",
    "                         'interp_sigma':interp_sigma,\n",
    "#                         'pcnn_quat':to_np(est_quat),\n",
    "#                         'pcnn_err':err_bing[object_id][-1],\n",
    "#                         'pcnn_lik':lik_bing[object_id][-1],\n",
    "#                         'sigma':sigmas[obj.item()],\n",
    "                         })\n",
    "np.savez('results/posecnn_bing_comp_b_interp.npz', \n",
    "         err_compare=err_compare,\n",
    "         lik_compare=lik_compare,\n",
    "         err_bing=err_bing,\n",
    "         lik_bing=lik_bing)"
   ]
  },
  {
   "cell_type": "code",
   "execution_count": 17,
   "metadata": {},
   "outputs": [
    {
     "data": {
      "text/plain": [
       "tensor([0.7964], device='cuda:0')"
      ]
     },
     "execution_count": 17,
     "metadata": {},
     "output_type": "execute_result"
    }
   ],
   "source": [
    "\n",
    "bing_interp.setValues(dist_est.flatten().cuda())\n",
    "v_interp = bing_interp(quat.unsqueeze(0).cuda())\n",
    "v_interp"
   ]
  },
  {
   "cell_type": "code",
   "execution_count": 9,
   "metadata": {},
   "outputs": [],
   "source": []
  },
  {
   "cell_type": "code",
   "execution_count": 15,
   "metadata": {},
   "outputs": [
    {
     "name": "stdout",
     "output_type": "stream",
     "text": [
      "1 -0.40790476151382826\n",
      "2 -0.7305662173709558\n",
      "3 0.20249328938311445\n",
      "4 nan\n",
      "5 0.5712280902598553\n",
      "6 -0.6430081862748637\n",
      "7 -0.12432309807009279\n",
      "8 0.2666642819335662\n",
      "9 nan\n",
      "10 -0.5302715713830018\n",
      "11 0.12597488542521892\n",
      "12 -0.08206429349150424\n",
      "13 -1.5151178315905067\n",
      "14 -0.1313318350979402\n",
      "15 -0.14961209895416755\n",
      "16 -1.2024978843256964\n",
      "17 -0.6238489380862798\n",
      "18 -0.8301426705513344\n",
      "19 nan\n",
      "20 nan\n",
      "21 -1.4880463923440006\n"
     ]
    }
   ],
   "source": [
    "for obj in range(1,22):\n",
    "    print(obj, np.mean(np.log(lik_compare[obj])))\n"
   ]
  },
  {
   "cell_type": "code",
   "execution_count": 184,
   "metadata": {},
   "outputs": [
    {
     "data": {
      "application/vnd.jupyter.widget-view+json": {
       "model_id": "91bf94d1886645ca93f2236486f6523a",
       "version_major": 2,
       "version_minor": 0
      },
      "text/plain": [
       "HBox(children=(IntProgress(value=0, max=21), HTML(value='')))"
      ]
     },
     "metadata": {},
     "output_type": "display_data"
    },
    {
     "data": {
      "application/vnd.jupyter.widget-view+json": {
       "model_id": "7916e8fce2bd491bbb3fb53ad7f9c98c",
       "version_major": 2,
       "version_minor": 0
      },
      "text/plain": [
       "HBox(children=(IntProgress(value=0, max=1006), HTML(value='')))"
      ]
     },
     "metadata": {},
     "output_type": "display_data"
    },
    {
     "data": {
      "application/vnd.jupyter.widget-view+json": {
       "model_id": "9ef09415b0074448a710ef3d87176eb0",
       "version_major": 2,
       "version_minor": 0
      },
      "text/plain": [
       "HBox(children=(IntProgress(value=0, max=868), HTML(value='')))"
      ]
     },
     "metadata": {},
     "output_type": "display_data"
    },
    {
     "data": {
      "application/vnd.jupyter.widget-view+json": {
       "model_id": "6e0761b235fa45859d3fb69eeccd50c9",
       "version_major": 2,
       "version_minor": 0
      },
      "text/plain": [
       "HBox(children=(IntProgress(value=0, max=1182), HTML(value='')))"
      ]
     },
     "metadata": {},
     "output_type": "display_data"
    },
    {
     "data": {
      "application/vnd.jupyter.widget-view+json": {
       "model_id": "61cb9ffcb0024863a6ae2aad79275a99",
       "version_major": 2,
       "version_minor": 0
      },
      "text/plain": [
       "HBox(children=(IntProgress(value=0, max=1440), HTML(value='')))"
      ]
     },
     "metadata": {},
     "output_type": "display_data"
    },
    {
     "name": "stdout",
     "output_type": "stream",
     "text": [
      "Exception on index 40: [Errno 2] No such file or directory: '/scratch/bokorn/results/posecnn_feat_all/data/0050/000505_005_tomato_soup_can_feat.npz'\n",
      "Exception on index 41: [Errno 2] No such file or directory: '/scratch/bokorn/results/posecnn_feat_all/data/0050/000509_005_tomato_soup_can_feat.npz'\n",
      "Exception on index 42: [Errno 2] No such file or directory: '/scratch/bokorn/results/posecnn_feat_all/data/0050/000558_005_tomato_soup_can_feat.npz'\n",
      "Exception on index 43: [Errno 2] No such file or directory: '/scratch/bokorn/results/posecnn_feat_all/data/0050/000588_005_tomato_soup_can_feat.npz'\n",
      "Exception on index 44: [Errno 2] No such file or directory: '/scratch/bokorn/results/posecnn_feat_all/data/0050/000605_005_tomato_soup_can_feat.npz'\n",
      "Exception on index 45: [Errno 2] No such file or directory: '/scratch/bokorn/results/posecnn_feat_all/data/0050/000610_005_tomato_soup_can_feat.npz'\n",
      "Exception on index 46: [Errno 2] No such file or directory: '/scratch/bokorn/results/posecnn_feat_all/data/0050/000620_005_tomato_soup_can_feat.npz'\n",
      "Exception on index 47: [Errno 2] No such file or directory: '/scratch/bokorn/results/posecnn_feat_all/data/0050/000623_005_tomato_soup_can_feat.npz'\n",
      "Exception on index 48: [Errno 2] No such file or directory: '/scratch/bokorn/results/posecnn_feat_all/data/0050/000629_005_tomato_soup_can_feat.npz'\n",
      "Exception on index 49: [Errno 2] No such file or directory: '/scratch/bokorn/results/posecnn_feat_all/data/0050/000633_005_tomato_soup_can_feat.npz'\n",
      "Exception on index 50: [Errno 2] No such file or directory: '/scratch/bokorn/results/posecnn_feat_all/data/0050/000640_005_tomato_soup_can_feat.npz'\n",
      "Exception on index 51: [Errno 2] No such file or directory: '/scratch/bokorn/results/posecnn_feat_all/data/0050/000642_005_tomato_soup_can_feat.npz'\n",
      "Exception on index 52: [Errno 2] No such file or directory: '/scratch/bokorn/results/posecnn_feat_all/data/0050/000644_005_tomato_soup_can_feat.npz'\n",
      "Exception on index 53: [Errno 2] No such file or directory: '/scratch/bokorn/results/posecnn_feat_all/data/0050/000651_005_tomato_soup_can_feat.npz'\n",
      "Exception on index 54: [Errno 2] No such file or directory: '/scratch/bokorn/results/posecnn_feat_all/data/0050/000653_005_tomato_soup_can_feat.npz'\n",
      "Exception on index 55: [Errno 2] No such file or directory: '/scratch/bokorn/results/posecnn_feat_all/data/0050/000660_005_tomato_soup_can_feat.npz'\n",
      "Exception on index 56: [Errno 2] No such file or directory: '/scratch/bokorn/results/posecnn_feat_all/data/0050/000662_005_tomato_soup_can_feat.npz'\n",
      "Exception on index 57: [Errno 2] No such file or directory: '/scratch/bokorn/results/posecnn_feat_all/data/0050/000671_005_tomato_soup_can_feat.npz'\n",
      "Exception on index 58: [Errno 2] No such file or directory: '/scratch/bokorn/results/posecnn_feat_all/data/0050/000681_005_tomato_soup_can_feat.npz'\n",
      "Exception on index 59: [Errno 2] No such file or directory: '/scratch/bokorn/results/posecnn_feat_all/data/0050/000682_005_tomato_soup_can_feat.npz'\n",
      "Exception on index 60: [Errno 2] No such file or directory: '/scratch/bokorn/results/posecnn_feat_all/data/0050/000701_005_tomato_soup_can_feat.npz'\n",
      "Exception on index 61: [Errno 2] No such file or directory: '/scratch/bokorn/results/posecnn_feat_all/data/0050/000712_005_tomato_soup_can_feat.npz'\n",
      "Exception on index 62: [Errno 2] No such file or directory: '/scratch/bokorn/results/posecnn_feat_all/data/0050/000721_005_tomato_soup_can_feat.npz'\n",
      "Exception on index 63: [Errno 2] No such file or directory: '/scratch/bokorn/results/posecnn_feat_all/data/0050/000722_005_tomato_soup_can_feat.npz'\n",
      "Exception on index 64: [Errno 2] No such file or directory: '/scratch/bokorn/results/posecnn_feat_all/data/0050/000735_005_tomato_soup_can_feat.npz'\n",
      "Exception on index 65: [Errno 2] No such file or directory: '/scratch/bokorn/results/posecnn_feat_all/data/0050/000737_005_tomato_soup_can_feat.npz'\n",
      "Exception on index 66: [Errno 2] No such file or directory: '/scratch/bokorn/results/posecnn_feat_all/data/0050/000751_005_tomato_soup_can_feat.npz'\n",
      "Exception on index 67: [Errno 2] No such file or directory: '/scratch/bokorn/results/posecnn_feat_all/data/0050/000757_005_tomato_soup_can_feat.npz'\n",
      "Exception on index 68: [Errno 2] No such file or directory: '/scratch/bokorn/results/posecnn_feat_all/data/0050/000769_005_tomato_soup_can_feat.npz'\n",
      "Exception on index 69: [Errno 2] No such file or directory: '/scratch/bokorn/results/posecnn_feat_all/data/0050/000775_005_tomato_soup_can_feat.npz'\n",
      "Exception on index 70: [Errno 2] No such file or directory: '/scratch/bokorn/results/posecnn_feat_all/data/0050/000786_005_tomato_soup_can_feat.npz'\n",
      "Exception on index 71: [Errno 2] No such file or directory: '/scratch/bokorn/results/posecnn_feat_all/data/0050/000790_005_tomato_soup_can_feat.npz'\n",
      "Exception on index 72: [Errno 2] No such file or directory: '/scratch/bokorn/results/posecnn_feat_all/data/0050/000798_005_tomato_soup_can_feat.npz'\n",
      "Exception on index 73: [Errno 2] No such file or directory: '/scratch/bokorn/results/posecnn_feat_all/data/0050/000802_005_tomato_soup_can_feat.npz'\n",
      "Exception on index 74: [Errno 2] No such file or directory: '/scratch/bokorn/results/posecnn_feat_all/data/0050/000811_005_tomato_soup_can_feat.npz'\n",
      "Exception on index 75: [Errno 2] No such file or directory: '/scratch/bokorn/results/posecnn_feat_all/data/0050/000822_005_tomato_soup_can_feat.npz'\n",
      "Exception on index 76: [Errno 2] No such file or directory: '/scratch/bokorn/results/posecnn_feat_all/data/0050/000830_005_tomato_soup_can_feat.npz'\n",
      "Exception on index 77: [Errno 2] No such file or directory: '/scratch/bokorn/results/posecnn_feat_all/data/0050/000831_005_tomato_soup_can_feat.npz'\n",
      "Exception on index 78: [Errno 2] No such file or directory: '/scratch/bokorn/results/posecnn_feat_all/data/0050/000846_005_tomato_soup_can_feat.npz'\n",
      "Exception on index 79: [Errno 2] No such file or directory: '/scratch/bokorn/results/posecnn_feat_all/data/0050/000850_005_tomato_soup_can_feat.npz'\n",
      "Exception on index 80: [Errno 2] No such file or directory: '/scratch/bokorn/results/posecnn_feat_all/data/0050/000876_005_tomato_soup_can_feat.npz'\n",
      "Exception on index 81: [Errno 2] No such file or directory: '/scratch/bokorn/results/posecnn_feat_all/data/0050/000887_005_tomato_soup_can_feat.npz'\n",
      "Exception on index 82: [Errno 2] No such file or directory: '/scratch/bokorn/results/posecnn_feat_all/data/0050/000891_005_tomato_soup_can_feat.npz'\n",
      "Exception on index 83: [Errno 2] No such file or directory: '/scratch/bokorn/results/posecnn_feat_all/data/0050/000902_005_tomato_soup_can_feat.npz'\n"
     ]
    },
    {
     "data": {
      "application/vnd.jupyter.widget-view+json": {
       "model_id": "3f95f66ff68d40b5a01285cff9603c27",
       "version_major": 2,
       "version_minor": 0
      },
      "text/plain": [
       "HBox(children=(IntProgress(value=0, max=357), HTML(value='')))"
      ]
     },
     "metadata": {},
     "output_type": "display_data"
    },
    {
     "data": {
      "application/vnd.jupyter.widget-view+json": {
       "model_id": "bad77aa734284ddba8aea0ae957bdf6b",
       "version_major": 2,
       "version_minor": 0
      },
      "text/plain": [
       "HBox(children=(IntProgress(value=0, max=1148), HTML(value='')))"
      ]
     },
     "metadata": {},
     "output_type": "display_data"
    },
    {
     "data": {
      "application/vnd.jupyter.widget-view+json": {
       "model_id": "910f7065d2e741b099078fafcdbe1f0b",
       "version_major": 2,
       "version_minor": 0
      },
      "text/plain": [
       "HBox(children=(IntProgress(value=0, max=214), HTML(value='')))"
      ]
     },
     "metadata": {},
     "output_type": "display_data"
    },
    {
     "data": {
      "application/vnd.jupyter.widget-view+json": {
       "model_id": "08e318406a2941849653e7ecad8234e8",
       "version_major": 2,
       "version_minor": 0
      },
      "text/plain": [
       "HBox(children=(IntProgress(value=0, max=214), HTML(value='')))"
      ]
     },
     "metadata": {},
     "output_type": "display_data"
    },
    {
     "data": {
      "application/vnd.jupyter.widget-view+json": {
       "model_id": "241a38f42c3c4995b5e8e4e7da6a3b5e",
       "version_major": 2,
       "version_minor": 0
      },
      "text/plain": [
       "HBox(children=(IntProgress(value=0, max=766), HTML(value='')))"
      ]
     },
     "metadata": {},
     "output_type": "display_data"
    },
    {
     "name": "stdout",
     "output_type": "stream",
     "text": [
      "Exception on index 408: [Errno 2] No such file or directory: '/scratch/bokorn/results/posecnn_feat_all/data/0059/000037_010_potted_meat_can_feat.npz'\n",
      "Exception on index 413: [Errno 2] No such file or directory: '/scratch/bokorn/results/posecnn_feat_all/data/0059/000088_010_potted_meat_can_feat.npz'\n",
      "Exception on index 426: [Errno 2] No such file or directory: '/scratch/bokorn/results/posecnn_feat_all/data/0059/000153_010_potted_meat_can_feat.npz'\n",
      "Exception on index 427: [Errno 2] No such file or directory: '/scratch/bokorn/results/posecnn_feat_all/data/0059/000154_010_potted_meat_can_feat.npz'\n",
      "Exception on index 429: [Errno 2] No such file or directory: '/scratch/bokorn/results/posecnn_feat_all/data/0059/000158_010_potted_meat_can_feat.npz'\n",
      "Exception on index 432: [Errno 2] No such file or directory: '/scratch/bokorn/results/posecnn_feat_all/data/0059/000162_010_potted_meat_can_feat.npz'\n",
      "Exception on index 433: [Errno 2] No such file or directory: '/scratch/bokorn/results/posecnn_feat_all/data/0059/000163_010_potted_meat_can_feat.npz'\n",
      "Exception on index 434: [Errno 2] No such file or directory: '/scratch/bokorn/results/posecnn_feat_all/data/0059/000164_010_potted_meat_can_feat.npz'\n",
      "Exception on index 435: [Errno 2] No such file or directory: '/scratch/bokorn/results/posecnn_feat_all/data/0059/000165_010_potted_meat_can_feat.npz'\n",
      "Exception on index 436: [Errno 2] No such file or directory: '/scratch/bokorn/results/posecnn_feat_all/data/0059/000167_010_potted_meat_can_feat.npz'\n",
      "Exception on index 438: [Errno 2] No such file or directory: '/scratch/bokorn/results/posecnn_feat_all/data/0059/000171_010_potted_meat_can_feat.npz'\n",
      "Exception on index 439: [Errno 2] No such file or directory: '/scratch/bokorn/results/posecnn_feat_all/data/0059/000176_010_potted_meat_can_feat.npz'\n",
      "Exception on index 442: [Errno 2] No such file or directory: '/scratch/bokorn/results/posecnn_feat_all/data/0059/000206_010_potted_meat_can_feat.npz'\n"
     ]
    },
    {
     "data": {
      "application/vnd.jupyter.widget-view+json": {
       "model_id": "b04c92f33e90471ebf0c4e08a73f1b19",
       "version_major": 2,
       "version_minor": 0
      },
      "text/plain": [
       "HBox(children=(IntProgress(value=0, max=379), HTML(value='')))"
      ]
     },
     "metadata": {},
     "output_type": "display_data"
    },
    {
     "data": {
      "application/vnd.jupyter.widget-view+json": {
       "model_id": "14c6ba6329ae4b14872baaaabb7ecb3d",
       "version_major": 2,
       "version_minor": 0
      },
      "text/plain": [
       "HBox(children=(IntProgress(value=0, max=570), HTML(value='')))"
      ]
     },
     "metadata": {},
     "output_type": "display_data"
    },
    {
     "data": {
      "application/vnd.jupyter.widget-view+json": {
       "model_id": "0ecb619e4fce4a599fa3c783eaa16d0b",
       "version_major": 2,
       "version_minor": 0
      },
      "text/plain": [
       "HBox(children=(IntProgress(value=0, max=1029), HTML(value='')))"
      ]
     },
     "metadata": {},
     "output_type": "display_data"
    },
    {
     "data": {
      "application/vnd.jupyter.widget-view+json": {
       "model_id": "87cfc72068304588b281bc576649a51c",
       "version_major": 2,
       "version_minor": 0
      },
      "text/plain": [
       "HBox(children=(IntProgress(value=0, max=406), HTML(value='')))"
      ]
     },
     "metadata": {},
     "output_type": "display_data"
    },
    {
     "data": {
      "application/vnd.jupyter.widget-view+json": {
       "model_id": "37bd0dd094e3413096c70b52cf0c8c6d",
       "version_major": 2,
       "version_minor": 0
      },
      "text/plain": [
       "HBox(children=(IntProgress(value=0, max=636), HTML(value='')))"
      ]
     },
     "metadata": {},
     "output_type": "display_data"
    },
    {
     "data": {
      "application/vnd.jupyter.widget-view+json": {
       "model_id": "ef4bcf2aaf4943cdaf74f8f95e37727e",
       "version_major": 2,
       "version_minor": 0
      },
      "text/plain": [
       "HBox(children=(IntProgress(value=0, max=1057), HTML(value='')))"
      ]
     },
     "metadata": {},
     "output_type": "display_data"
    },
    {
     "data": {
      "application/vnd.jupyter.widget-view+json": {
       "model_id": "9b5805568e604928bfba40d125a09868",
       "version_major": 2,
       "version_minor": 0
      },
      "text/plain": [
       "HBox(children=(IntProgress(value=0, max=242), HTML(value='')))"
      ]
     },
     "metadata": {},
     "output_type": "display_data"
    },
    {
     "data": {
      "application/vnd.jupyter.widget-view+json": {
       "model_id": "68989eb2fc9d410c84c67bf780733ed5",
       "version_major": 2,
       "version_minor": 0
      },
      "text/plain": [
       "HBox(children=(IntProgress(value=0, max=181), HTML(value='')))"
      ]
     },
     "metadata": {},
     "output_type": "display_data"
    },
    {
     "data": {
      "application/vnd.jupyter.widget-view+json": {
       "model_id": "57ce609e3ad24af5ab44c0cd8f993fac",
       "version_major": 2,
       "version_minor": 0
      },
      "text/plain": [
       "HBox(children=(IntProgress(value=0, max=648), HTML(value='')))"
      ]
     },
     "metadata": {},
     "output_type": "display_data"
    },
    {
     "data": {
      "application/vnd.jupyter.widget-view+json": {
       "model_id": "cc12e2ac17a74bbb9ae952b929af4245",
       "version_major": 2,
       "version_minor": 0
      },
      "text/plain": [
       "HBox(children=(IntProgress(value=0, max=712), HTML(value='')))"
      ]
     },
     "metadata": {},
     "output_type": "display_data"
    },
    {
     "name": "stdout",
     "output_type": "stream",
     "text": [
      "Exception on index 57: [Errno 2] No such file or directory: '/scratch/bokorn/results/posecnn_feat_all/data/0048/000653_051_large_clamp_feat.npz'\n",
      "Exception on index 58: [Errno 2] No such file or directory: '/scratch/bokorn/results/posecnn_feat_all/data/0048/000656_051_large_clamp_feat.npz'\n",
      "Exception on index 61: [Errno 2] No such file or directory: '/scratch/bokorn/results/posecnn_feat_all/data/0048/000685_051_large_clamp_feat.npz'\n",
      "Exception on index 62: [Errno 2] No such file or directory: '/scratch/bokorn/results/posecnn_feat_all/data/0048/000694_051_large_clamp_feat.npz'\n",
      "Exception on index 63: [Errno 2] No such file or directory: '/scratch/bokorn/results/posecnn_feat_all/data/0048/000733_051_large_clamp_feat.npz'\n",
      "Exception on index 69: [Errno 2] No such file or directory: '/scratch/bokorn/results/posecnn_feat_all/data/0048/000806_051_large_clamp_feat.npz'\n",
      "Exception on index 73: [Errno 2] No such file or directory: '/scratch/bokorn/results/posecnn_feat_all/data/0048/000834_051_large_clamp_feat.npz'\n",
      "Exception on index 687: [Errno 2] No such file or directory: '/scratch/bokorn/results/posecnn_feat_all/data/0054/001663_051_large_clamp_feat.npz'\n",
      "Exception on index 699: [Errno 2] No such file or directory: '/scratch/bokorn/results/posecnn_feat_all/data/0054/001765_051_large_clamp_feat.npz'\n",
      "Exception on index 703: [Errno 2] No such file or directory: '/scratch/bokorn/results/posecnn_feat_all/data/0054/001821_051_large_clamp_feat.npz'\n",
      "Exception on index 706: [Errno 2] No such file or directory: '/scratch/bokorn/results/posecnn_feat_all/data/0054/001854_051_large_clamp_feat.npz'\n",
      "Exception on index 708: [Errno 2] No such file or directory: '/scratch/bokorn/results/posecnn_feat_all/data/0054/001882_051_large_clamp_feat.npz'\n",
      "Exception on index 709: [Errno 2] No such file or directory: '/scratch/bokorn/results/posecnn_feat_all/data/0054/001888_051_large_clamp_feat.npz'\n",
      "Exception on index 711: [Errno 2] No such file or directory: '/scratch/bokorn/results/posecnn_feat_all/data/0054/001918_051_large_clamp_feat.npz'\n"
     ]
    },
    {
     "data": {
      "application/vnd.jupyter.widget-view+json": {
       "model_id": "5c6dffa44c1f457ca0d38418be046eee",
       "version_major": 2,
       "version_minor": 0
      },
      "text/plain": [
       "HBox(children=(IntProgress(value=0, max=682), HTML(value='')))"
      ]
     },
     "metadata": {},
     "output_type": "display_data"
    },
    {
     "name": "stdout",
     "output_type": "stream",
     "text": [
      "Exception on index 503: [Errno 2] No such file or directory: '/scratch/bokorn/results/posecnn_feat_all/data/0057/000830_052_extra_large_clamp_feat.npz'\n",
      "Exception on index 505: [Errno 2] No such file or directory: '/scratch/bokorn/results/posecnn_feat_all/data/0057/000836_052_extra_large_clamp_feat.npz'\n",
      "Exception on index 507: [Errno 2] No such file or directory: '/scratch/bokorn/results/posecnn_feat_all/data/0057/000839_052_extra_large_clamp_feat.npz'\n",
      "Exception on index 515: [Errno 2] No such file or directory: '/scratch/bokorn/results/posecnn_feat_all/data/0057/000851_052_extra_large_clamp_feat.npz'\n",
      "Exception on index 518: [Errno 2] No such file or directory: '/scratch/bokorn/results/posecnn_feat_all/data/0057/000890_052_extra_large_clamp_feat.npz'\n",
      "Exception on index 519: [Errno 2] No such file or directory: '/scratch/bokorn/results/posecnn_feat_all/data/0057/000897_052_extra_large_clamp_feat.npz'\n",
      "Exception on index 521: [Errno 2] No such file or directory: '/scratch/bokorn/results/posecnn_feat_all/data/0057/000928_052_extra_large_clamp_feat.npz'\n",
      "Exception on index 523: [Errno 2] No such file or directory: '/scratch/bokorn/results/posecnn_feat_all/data/0057/000935_052_extra_large_clamp_feat.npz'\n",
      "Exception on index 524: [Errno 2] No such file or directory: '/scratch/bokorn/results/posecnn_feat_all/data/0057/000940_052_extra_large_clamp_feat.npz'\n",
      "Exception on index 525: [Errno 2] No such file or directory: '/scratch/bokorn/results/posecnn_feat_all/data/0057/000942_052_extra_large_clamp_feat.npz'\n",
      "Exception on index 526: [Errno 2] No such file or directory: '/scratch/bokorn/results/posecnn_feat_all/data/0057/000946_052_extra_large_clamp_feat.npz'\n",
      "Exception on index 530: [Errno 2] No such file or directory: '/scratch/bokorn/results/posecnn_feat_all/data/0057/000959_052_extra_large_clamp_feat.npz'\n",
      "Exception on index 531: [Errno 2] No such file or directory: '/scratch/bokorn/results/posecnn_feat_all/data/0057/000964_052_extra_large_clamp_feat.npz'\n",
      "Exception on index 532: [Errno 2] No such file or directory: '/scratch/bokorn/results/posecnn_feat_all/data/0057/000965_052_extra_large_clamp_feat.npz'\n",
      "Exception on index 533: [Errno 2] No such file or directory: '/scratch/bokorn/results/posecnn_feat_all/data/0057/000971_052_extra_large_clamp_feat.npz'\n",
      "Exception on index 534: [Errno 2] No such file or directory: '/scratch/bokorn/results/posecnn_feat_all/data/0057/000973_052_extra_large_clamp_feat.npz'\n",
      "Exception on index 536: [Errno 2] No such file or directory: '/scratch/bokorn/results/posecnn_feat_all/data/0057/000982_052_extra_large_clamp_feat.npz'\n",
      "Exception on index 538: [Errno 2] No such file or directory: '/scratch/bokorn/results/posecnn_feat_all/data/0057/000986_052_extra_large_clamp_feat.npz'\n",
      "Exception on index 539: [Errno 2] No such file or directory: '/scratch/bokorn/results/posecnn_feat_all/data/0057/000990_052_extra_large_clamp_feat.npz'\n",
      "Exception on index 540: [Errno 2] No such file or directory: '/scratch/bokorn/results/posecnn_feat_all/data/0057/000991_052_extra_large_clamp_feat.npz'\n",
      "Exception on index 541: [Errno 2] No such file or directory: '/scratch/bokorn/results/posecnn_feat_all/data/0057/000998_052_extra_large_clamp_feat.npz'\n",
      "Exception on index 542: [Errno 2] No such file or directory: '/scratch/bokorn/results/posecnn_feat_all/data/0057/001012_052_extra_large_clamp_feat.npz'\n",
      "Exception on index 543: [Errno 2] No such file or directory: '/scratch/bokorn/results/posecnn_feat_all/data/0057/001026_052_extra_large_clamp_feat.npz'\n",
      "Exception on index 544: [Errno 2] No such file or directory: '/scratch/bokorn/results/posecnn_feat_all/data/0057/001028_052_extra_large_clamp_feat.npz'\n",
      "Exception on index 545: [Errno 2] No such file or directory: '/scratch/bokorn/results/posecnn_feat_all/data/0057/001035_052_extra_large_clamp_feat.npz'\n",
      "Exception on index 547: [Errno 2] No such file or directory: '/scratch/bokorn/results/posecnn_feat_all/data/0057/001046_052_extra_large_clamp_feat.npz'\n",
      "Exception on index 548: [Errno 2] No such file or directory: '/scratch/bokorn/results/posecnn_feat_all/data/0057/001054_052_extra_large_clamp_feat.npz'\n",
      "Exception on index 549: [Errno 2] No such file or directory: '/scratch/bokorn/results/posecnn_feat_all/data/0057/001057_052_extra_large_clamp_feat.npz'\n",
      "Exception on index 550: [Errno 2] No such file or directory: '/scratch/bokorn/results/posecnn_feat_all/data/0057/001066_052_extra_large_clamp_feat.npz'\n",
      "Exception on index 551: [Errno 2] No such file or directory: '/scratch/bokorn/results/posecnn_feat_all/data/0057/001071_052_extra_large_clamp_feat.npz'\n",
      "Exception on index 552: [Errno 2] No such file or directory: '/scratch/bokorn/results/posecnn_feat_all/data/0057/001073_052_extra_large_clamp_feat.npz'\n",
      "Exception on index 553: [Errno 2] No such file or directory: '/scratch/bokorn/results/posecnn_feat_all/data/0057/001076_052_extra_large_clamp_feat.npz'\n",
      "Exception on index 554: [Errno 2] No such file or directory: '/scratch/bokorn/results/posecnn_feat_all/data/0057/001078_052_extra_large_clamp_feat.npz'\n",
      "Exception on index 555: [Errno 2] No such file or directory: '/scratch/bokorn/results/posecnn_feat_all/data/0057/001081_052_extra_large_clamp_feat.npz'\n",
      "Exception on index 556: [Errno 2] No such file or directory: '/scratch/bokorn/results/posecnn_feat_all/data/0057/001082_052_extra_large_clamp_feat.npz'\n",
      "Exception on index 557: [Errno 2] No such file or directory: '/scratch/bokorn/results/posecnn_feat_all/data/0057/001083_052_extra_large_clamp_feat.npz'\n",
      "Exception on index 558: [Errno 2] No such file or directory: '/scratch/bokorn/results/posecnn_feat_all/data/0057/001086_052_extra_large_clamp_feat.npz'\n",
      "Exception on index 559: [Errno 2] No such file or directory: '/scratch/bokorn/results/posecnn_feat_all/data/0057/001087_052_extra_large_clamp_feat.npz'\n",
      "Exception on index 560: [Errno 2] No such file or directory: '/scratch/bokorn/results/posecnn_feat_all/data/0057/001092_052_extra_large_clamp_feat.npz'\n",
      "Exception on index 561: [Errno 2] No such file or directory: '/scratch/bokorn/results/posecnn_feat_all/data/0057/001093_052_extra_large_clamp_feat.npz'\n",
      "Exception on index 562: [Errno 2] No such file or directory: '/scratch/bokorn/results/posecnn_feat_all/data/0057/001099_052_extra_large_clamp_feat.npz'\n",
      "Exception on index 563: [Errno 2] No such file or directory: '/scratch/bokorn/results/posecnn_feat_all/data/0057/001101_052_extra_large_clamp_feat.npz'\n",
      "Exception on index 564: [Errno 2] No such file or directory: '/scratch/bokorn/results/posecnn_feat_all/data/0057/001108_052_extra_large_clamp_feat.npz'\n",
      "Exception on index 565: [Errno 2] No such file or directory: '/scratch/bokorn/results/posecnn_feat_all/data/0057/001116_052_extra_large_clamp_feat.npz'\n",
      "Exception on index 566: [Errno 2] No such file or directory: '/scratch/bokorn/results/posecnn_feat_all/data/0057/001118_052_extra_large_clamp_feat.npz'\n",
      "Exception on index 567: [Errno 2] No such file or directory: '/scratch/bokorn/results/posecnn_feat_all/data/0057/001131_052_extra_large_clamp_feat.npz'\n",
      "Exception on index 569: [Errno 2] No such file or directory: '/scratch/bokorn/results/posecnn_feat_all/data/0057/001135_052_extra_large_clamp_feat.npz'\n",
      "Exception on index 570: [Errno 2] No such file or directory: '/scratch/bokorn/results/posecnn_feat_all/data/0057/001138_052_extra_large_clamp_feat.npz'\n",
      "Exception on index 573: [Errno 2] No such file or directory: '/scratch/bokorn/results/posecnn_feat_all/data/0057/001148_052_extra_large_clamp_feat.npz'\n",
      "Exception on index 574: [Errno 2] No such file or directory: '/scratch/bokorn/results/posecnn_feat_all/data/0057/001153_052_extra_large_clamp_feat.npz'\n",
      "Exception on index 576: [Errno 2] No such file or directory: '/scratch/bokorn/results/posecnn_feat_all/data/0057/001159_052_extra_large_clamp_feat.npz'\n",
      "Exception on index 578: [Errno 2] No such file or directory: '/scratch/bokorn/results/posecnn_feat_all/data/0057/001164_052_extra_large_clamp_feat.npz'\n",
      "Exception on index 579: [Errno 2] No such file or directory: '/scratch/bokorn/results/posecnn_feat_all/data/0057/001166_052_extra_large_clamp_feat.npz'\n",
      "Exception on index 580: [Errno 2] No such file or directory: '/scratch/bokorn/results/posecnn_feat_all/data/0057/001170_052_extra_large_clamp_feat.npz'\n"
     ]
    },
    {
     "name": "stdout",
     "output_type": "stream",
     "text": [
      "Exception on index 583: [Errno 2] No such file or directory: '/scratch/bokorn/results/posecnn_feat_all/data/0057/001181_052_extra_large_clamp_feat.npz'\n",
      "Exception on index 584: [Errno 2] No such file or directory: '/scratch/bokorn/results/posecnn_feat_all/data/0057/001185_052_extra_large_clamp_feat.npz'\n",
      "Exception on index 585: [Errno 2] No such file or directory: '/scratch/bokorn/results/posecnn_feat_all/data/0057/001190_052_extra_large_clamp_feat.npz'\n",
      "Exception on index 586: [Errno 2] No such file or directory: '/scratch/bokorn/results/posecnn_feat_all/data/0057/001215_052_extra_large_clamp_feat.npz'\n",
      "Exception on index 587: [Errno 2] No such file or directory: '/scratch/bokorn/results/posecnn_feat_all/data/0057/001245_052_extra_large_clamp_feat.npz'\n",
      "Exception on index 588: [Errno 2] No such file or directory: '/scratch/bokorn/results/posecnn_feat_all/data/0057/001250_052_extra_large_clamp_feat.npz'\n",
      "Exception on index 589: [Errno 2] No such file or directory: '/scratch/bokorn/results/posecnn_feat_all/data/0057/001257_052_extra_large_clamp_feat.npz'\n",
      "Exception on index 590: [Errno 2] No such file or directory: '/scratch/bokorn/results/posecnn_feat_all/data/0057/001258_052_extra_large_clamp_feat.npz'\n",
      "Exception on index 591: [Errno 2] No such file or directory: '/scratch/bokorn/results/posecnn_feat_all/data/0057/001268_052_extra_large_clamp_feat.npz'\n",
      "Exception on index 592: [Errno 2] No such file or directory: '/scratch/bokorn/results/posecnn_feat_all/data/0057/001269_052_extra_large_clamp_feat.npz'\n",
      "Exception on index 594: [Errno 2] No such file or directory: '/scratch/bokorn/results/posecnn_feat_all/data/0057/001276_052_extra_large_clamp_feat.npz'\n",
      "Exception on index 595: [Errno 2] No such file or directory: '/scratch/bokorn/results/posecnn_feat_all/data/0057/001282_052_extra_large_clamp_feat.npz'\n",
      "Exception on index 597: [Errno 2] No such file or directory: '/scratch/bokorn/results/posecnn_feat_all/data/0057/001292_052_extra_large_clamp_feat.npz'\n",
      "Exception on index 636: [Errno 2] No such file or directory: '/scratch/bokorn/results/posecnn_feat_all/data/0057/001530_052_extra_large_clamp_feat.npz'\n",
      "Exception on index 640: [Errno 2] No such file or directory: '/scratch/bokorn/results/posecnn_feat_all/data/0057/001549_052_extra_large_clamp_feat.npz'\n",
      "Exception on index 641: [Errno 2] No such file or directory: '/scratch/bokorn/results/posecnn_feat_all/data/0057/001560_052_extra_large_clamp_feat.npz'\n",
      "Exception on index 642: [Errno 2] No such file or directory: '/scratch/bokorn/results/posecnn_feat_all/data/0057/001563_052_extra_large_clamp_feat.npz'\n",
      "Exception on index 643: [Errno 2] No such file or directory: '/scratch/bokorn/results/posecnn_feat_all/data/0057/001566_052_extra_large_clamp_feat.npz'\n",
      "Exception on index 644: [Errno 2] No such file or directory: '/scratch/bokorn/results/posecnn_feat_all/data/0057/001570_052_extra_large_clamp_feat.npz'\n",
      "Exception on index 645: [Errno 2] No such file or directory: '/scratch/bokorn/results/posecnn_feat_all/data/0057/001585_052_extra_large_clamp_feat.npz'\n",
      "Exception on index 646: [Errno 2] No such file or directory: '/scratch/bokorn/results/posecnn_feat_all/data/0057/001589_052_extra_large_clamp_feat.npz'\n",
      "Exception on index 647: [Errno 2] No such file or directory: '/scratch/bokorn/results/posecnn_feat_all/data/0057/001593_052_extra_large_clamp_feat.npz'\n",
      "Exception on index 650: [Errno 2] No such file or directory: '/scratch/bokorn/results/posecnn_feat_all/data/0057/001621_052_extra_large_clamp_feat.npz'\n",
      "Exception on index 651: [Errno 2] No such file or directory: '/scratch/bokorn/results/posecnn_feat_all/data/0057/001628_052_extra_large_clamp_feat.npz'\n",
      "Exception on index 652: [Errno 2] No such file or directory: '/scratch/bokorn/results/posecnn_feat_all/data/0057/001637_052_extra_large_clamp_feat.npz'\n",
      "Exception on index 653: [Errno 2] No such file or directory: '/scratch/bokorn/results/posecnn_feat_all/data/0057/001647_052_extra_large_clamp_feat.npz'\n",
      "Exception on index 654: [Errno 2] No such file or directory: '/scratch/bokorn/results/posecnn_feat_all/data/0057/001671_052_extra_large_clamp_feat.npz'\n",
      "Exception on index 656: [Errno 2] No such file or directory: '/scratch/bokorn/results/posecnn_feat_all/data/0057/001691_052_extra_large_clamp_feat.npz'\n",
      "Exception on index 659: [Errno 2] No such file or directory: '/scratch/bokorn/results/posecnn_feat_all/data/0057/001705_052_extra_large_clamp_feat.npz'\n",
      "Exception on index 660: [Errno 2] No such file or directory: '/scratch/bokorn/results/posecnn_feat_all/data/0057/001708_052_extra_large_clamp_feat.npz'\n",
      "Exception on index 661: [Errno 2] No such file or directory: '/scratch/bokorn/results/posecnn_feat_all/data/0057/001709_052_extra_large_clamp_feat.npz'\n",
      "Exception on index 662: [Errno 2] No such file or directory: '/scratch/bokorn/results/posecnn_feat_all/data/0057/001712_052_extra_large_clamp_feat.npz'\n",
      "Exception on index 664: [Errno 2] No such file or directory: '/scratch/bokorn/results/posecnn_feat_all/data/0057/001714_052_extra_large_clamp_feat.npz'\n",
      "Exception on index 666: [Errno 2] No such file or directory: '/scratch/bokorn/results/posecnn_feat_all/data/0057/001734_052_extra_large_clamp_feat.npz'\n",
      "Exception on index 667: [Errno 2] No such file or directory: '/scratch/bokorn/results/posecnn_feat_all/data/0057/001737_052_extra_large_clamp_feat.npz'\n",
      "Exception on index 669: [Errno 2] No such file or directory: '/scratch/bokorn/results/posecnn_feat_all/data/0057/001740_052_extra_large_clamp_feat.npz'\n",
      "Exception on index 673: [Errno 2] No such file or directory: '/scratch/bokorn/results/posecnn_feat_all/data/0057/001747_052_extra_large_clamp_feat.npz'\n",
      "Exception on index 674: [Errno 2] No such file or directory: '/scratch/bokorn/results/posecnn_feat_all/data/0057/001748_052_extra_large_clamp_feat.npz'\n"
     ]
    },
    {
     "data": {
      "application/vnd.jupyter.widget-view+json": {
       "model_id": "c7910408dec94d42bc735f2211858b5d",
       "version_major": 2,
       "version_minor": 0
      },
      "text/plain": [
       "HBox(children=(IntProgress(value=0, max=288), HTML(value='')))"
      ]
     },
     "metadata": {},
     "output_type": "display_data"
    }
   ],
   "source": [
    "from se3_distributions.datasets.ycb_dataset import getYCBSymmeties\n",
    "from object_pose_utils.utils.pose_processing import symmetricAngularDistance, meanShift, unique_tol\n",
    "import pathlib\n",
    "\n",
    "\n",
    "import scipy.io as scio\n",
    "from tqdm import tqdm_notebook as tqdm\n",
    "\n",
    "grid_size = 3885\n",
    "rep_indices = np.repeat(np.arange(1), grid_size)\n",
    "\n",
    "err_bing = {}\n",
    "err_compare = {}\n",
    "err_compare_max_shift = {}\n",
    "err_compare_all_shift = {}\n",
    "\n",
    "\n",
    "with torch.no_grad():\n",
    "    for object_id in tqdm(object_list):\n",
    "        sym_axis, sym_ang = getYCBSymmeties(object_id)\n",
    "        ycb_dataset = FeatureDataset(dataset_root = dataset_root,\n",
    "                                     feature_root = test_feature_root,\n",
    "                                     feature_key = feature_key,\n",
    "                                     resample_on_error = False,\n",
    "                                     mode=mode, object_list = [object_id])\n",
    "        grid_vertices = torch.load(os.path.join(feature_root, 'grid',\n",
    "            '{}_vertices.pt'.format(ycb_dataset.classes[object_id])))\n",
    "        grid_features = torch.load(os.path.join(feature_root, 'grid',\n",
    "            '{}_{}_features.pt'.format(feature_key,ycb_dataset.classes[object_id])))\n",
    "\n",
    "        grid_size = grid_vertices.shape[0]\n",
    "        grid_features = to_var(grid_features)\n",
    "        rep_indices = np.repeat(np.arange(1), grid_size)\n",
    "        \n",
    "        \n",
    "        err_compare[object_id] = []\n",
    "        err_compare_max_shift[object_id] = []\n",
    "        err_compare_all_shift[object_id] = []\n",
    "        err_bing[object_id] = []\n",
    "        \n",
    "        pathlib.Path('results/data'.format(ycb_dataset.classes[object_id])).mkdir(parents=True, exist_ok=True)\n",
    "        \n",
    "        for j, data in tqdm(enumerate(ycb_dataset), total=len(ycb_dataset)):\n",
    "            obj, feat, quat = data\n",
    "            if(len(obj) == 0):\n",
    "                continue\n",
    "            \n",
    "            feature_data = np.load('{}/data/{}_{}_feat.npz'.format(ycb_dataset.feature_root, \n",
    "                ycb_dataset.getPath(j), ycb_dataset.classes[obj]))\n",
    "\n",
    "            pcnn_mat = scio.loadmat('{}/data/{}-posecnn.mat'.format(ycb_dataset.dataset_root, ycb_dataset.getPath(j)))\n",
    "            est_quat = torch.tensor(getPoseCNNQuat(pcnn_mat, obj.item())).float()\n",
    "            \n",
    "            idx = torch.autograd.Variable(obj - 1).unsqueeze(0).cuda()\n",
    "            feat = to_var(feat).unsqueeze(0)\n",
    "\n",
    "            dist_est = estimator_comp(grid_features, feat[rep_indices])\n",
    "            dist_est = torch.gather(dist_est, 1, idx[rep_indices])\n",
    "            \n",
    "            mode_quat = grid_vertices[torch.argmax(dist_est)].unsqueeze(0)\n",
    "            \n",
    "            v_shift = meanShift(mode_quat.cuda(), grid_vertices.cuda(), dist_est.cuda(),\n",
    "                                sigma=np.pi/9, max_iter = 100)\n",
    "            \n",
    "            err_compare[object_id].append(symmetricAngularDistance(mode_quat, quat.unsqueeze(0),\n",
    "                                             sym_axis, sym_ang).item()*180/np.pi)\n",
    "            \n",
    "            err_compare_max_shift[object_id].append(symmetricAngularDistance(v_shift.cpu(), quat.unsqueeze(0),\n",
    "                                                 sym_axis, sym_ang).item()*180/np.pi)\n",
    "            \n",
    "            #v_shift_all = meanShift(grid_vertices.cuda(), grid_vertices.cuda(), dist_est.cuda(),\n",
    "            #                    sigma=np.pi/9, max_iter = 100)            \n",
    "            #v_shift_all = unique_tol(v_shift_all)\n",
    "            #tetra_interp.setValues(to_np(dist_est.flatten()))            \n",
    "            #err_compare_all_shift[object_id].append(symmetricAngularDistance(\n",
    "            #    v_shift_all[np.argmax(tetra_interp.smooth(to_np(v_shift_all)))].cpu(),\n",
    "            #    quat.unsqueeze(0),sym_axis, sym_ang).item()*180/np.pi)\n",
    "            \n",
    "            err_bing[object_id].append(symmetricAngularDistance(est_quat.unsqueeze(0), quat.unsqueeze(0),\n",
    "                                           sym_axis, sym_ang).item()*180/np.pi)\n",
    "\n",
    "np.savez('results/posecnn_bing_comp_mean_shift.npz', \n",
    "         err_compare=err_compare,\n",
    "         err_compare_max_shift=err_compare_max_shift)"
   ]
  },
  {
   "cell_type": "code",
   "execution_count": 190,
   "metadata": {},
   "outputs": [
    {
     "data": {
      "text/plain": [
       "12.449210373784434"
      ]
     },
     "execution_count": 190,
     "metadata": {},
     "output_type": "execute_result"
    }
   ],
   "source": [
    "np.mean(np.array(err_compare[object_id]) - np.array(err_compare_max_shift[object_id]))"
   ]
  },
  {
   "cell_type": "code",
   "execution_count": 196,
   "metadata": {},
   "outputs": [
    {
     "data": {
      "image/png": "[encoded data removed]",
      "text/plain": [
       "<Figure size 432x288 with 1 Axes>"
      ]
     },
     "metadata": {
      "needs_background": "light"
     },
     "output_type": "display_data"
    },
    {
     "data": {
      "image/png": "[encoded data removed]",
      "text/plain": [
       "<Figure size 432x288 with 1 Axes>"
      ]
     },
     "metadata": {
      "needs_background": "light"
     },
     "output_type": "display_data"
    },
    {
     "data": {
      "image/png": "[encoded data removed]",
      "text/plain": [
       "<Figure size 432x288 with 1 Axes>"
      ]
     },
     "metadata": {
      "needs_background": "light"
     },
     "output_type": "display_data"
    },
    {
     "data": {
      "image/png": "[encoded data removed]",
      "text/plain": [
       "<Figure size 432x288 with 1 Axes>"
      ]
     },
     "metadata": {
      "needs_background": "light"
     },
     "output_type": "display_data"
    },
    {
     "data": {
      "image/png": "[encoded data removed]",
      "text/plain": [
       "<Figure size 432x288 with 1 Axes>"
      ]
     },
     "metadata": {
      "needs_background": "light"
     },
     "output_type": "display_data"
    },
    {
     "data": {
      "image/png": "[encoded data removed]",
      "text/plain": [
       "<Figure size 432x288 with 1 Axes>"
      ]
     },
     "metadata": {
      "needs_background": "light"
     },
     "output_type": "display_data"
    },
    {
     "data": {
      "image/png": "[encoded data removed]",
      "text/plain": [
       "<Figure size 432x288 with 1 Axes>"
      ]
     },
     "metadata": {
      "needs_background": "light"
     },
     "output_type": "display_data"
    },
    {
     "data": {
      "image/png": "[encoded data removed]",
      "text/plain": [
       "<Figure size 432x288 with 1 Axes>"
      ]
     },
     "metadata": {
      "needs_background": "light"
     },
     "output_type": "display_data"
    },
    {
     "data": {
      "image/png": "[encoded data removed]",
      "text/plain": [
       "<Figure size 432x288 with 1 Axes>"
      ]
     },
     "metadata": {
      "needs_background": "light"
     },
     "output_type": "display_data"
    },
    {
     "data": {
      "image/png": "[encoded data removed]",
      "text/plain": [
       "<Figure size 432x288 with 1 Axes>"
      ]
     },
     "metadata": {
      "needs_background": "light"
     },
     "output_type": "display_data"
    },
    {
     "data": {
      "image/png": "[encoded data removed]",
      "text/plain": [
       "<Figure size 432x288 with 1 Axes>"
      ]
     },
     "metadata": {
      "needs_background": "light"
     },
     "output_type": "display_data"
    },
    {
     "data": {
      "image/png": "[encoded data removed]",
      "text/plain": [
       "<Figure size 432x288 with 1 Axes>"
      ]
     },
     "metadata": {
      "needs_background": "light"
     },
     "output_type": "display_data"
    },
    {
     "data": {
      "image/png": "[encoded data removed]",
      "text/plain": [
       "<Figure size 432x288 with 1 Axes>"
      ]
     },
     "metadata": {
      "needs_background": "light"
     },
     "output_type": "display_data"
    },
    {
     "data": {
      "image/png": "[encoded data removed]",
      "text/plain": [
       "<Figure size 432x288 with 1 Axes>"
      ]
     },
     "metadata": {
      "needs_background": "light"
     },
     "output_type": "display_data"
    },
    {
     "data": {
      "image/png": "[encoded data removed]",
      "text/plain": [
       "<Figure size 432x288 with 1 Axes>"
      ]
     },
     "metadata": {
      "needs_background": "light"
     },
     "output_type": "display_data"
    },
    {
     "data": {
      "image/png": "[encoded data removed]",
      "text/plain": [
       "<Figure size 432x288 with 1 Axes>"
      ]
     },
     "metadata": {
      "needs_background": "light"
     },
     "output_type": "display_data"
    },
    {
     "data": {
      "image/png": "[encoded data removed]",
      "text/plain": [
       "<Figure size 432x288 with 1 Axes>"
      ]
     },
     "metadata": {
      "needs_background": "light"
     },
     "output_type": "display_data"
    },
    {
     "data": {
      "image/png": "[encoded data removed]",
      "text/plain": [
       "<Figure size 432x288 with 1 Axes>"
      ]
     },
     "metadata": {
      "needs_background": "light"
     },
     "output_type": "display_data"
    },
    {
     "data": {
      "image/png": "[encoded data removed]",
      "text/plain": [
       "<Figure size 432x288 with 1 Axes>"
      ]
     },
     "metadata": {
      "needs_background": "light"
     },
     "output_type": "display_data"
    },
    {
     "data": {
      "image/png": "[encoded data removed]",
      "text/plain": [
       "<Figure size 432x288 with 1 Axes>"
      ]
     },
     "metadata": {
      "needs_background": "light"
     },
     "output_type": "display_data"
    },
    {
     "data": {
      "image/png": "[encoded data removed]",
      "text/plain": [
       "<Figure size 432x288 with 1 Axes>"
      ]
     },
     "metadata": {
      "needs_background": "light"
     },
     "output_type": "display_data"
    }
   ],
   "source": [
    "for obj in range(1,22):\n",
    "    plt.hist(err_compare[obj], label='max')\n",
    "    plt.hist(err_compare_max_shift[obj], label='mean_shift')\n",
    "    plt.title(ycb_dataset.classes[obj])\n",
    "    plt.legend()\n",
    "    plt.show()"
   ]
  },
  {
   "cell_type": "code",
   "execution_count": 3,
   "metadata": {},
   "outputs": [],
   "source": [
    "import numpy as np\n"
   ]
  },
  {
   "cell_type": "code",
   "execution_count": 5,
   "metadata": {},
   "outputs": [
    {
     "ename": "NameError",
     "evalue": "name 'plt' is not defined",
     "output_type": "error",
     "traceback": [
      "\u001b[0;31m---------------------------------------------------------------------------\u001b[0m",
      "\u001b[0;31mNameError\u001b[0m                                 Traceback (most recent call last)",
      "\u001b[0;32m<ipython-input-5-dde9fda130a6>\u001b[0m in \u001b[0;36m<module>\u001b[0;34m()\u001b[0m\n\u001b[1;32m      1\u001b[0m \u001b[0;32mfrom\u001b[0m \u001b[0mmpl_toolkits\u001b[0m\u001b[0;34m.\u001b[0m\u001b[0mmplot3d\u001b[0m \u001b[0;32mimport\u001b[0m \u001b[0mAxes3D\u001b[0m\u001b[0;34m\u001b[0m\u001b[0m\n\u001b[0;32m----> 2\u001b[0;31m \u001b[0mcmap\u001b[0m \u001b[0;34m=\u001b[0m \u001b[0mplt\u001b[0m\u001b[0;34m.\u001b[0m\u001b[0mget_cmap\u001b[0m\u001b[0;34m(\u001b[0m\u001b[0;34m'jet'\u001b[0m\u001b[0;34m)\u001b[0m\u001b[0;34m\u001b[0m\u001b[0m\n\u001b[0m\u001b[1;32m      3\u001b[0m \u001b[0mfig\u001b[0m \u001b[0;34m=\u001b[0m \u001b[0mplt\u001b[0m\u001b[0;34m.\u001b[0m\u001b[0mfigure\u001b[0m\u001b[0;34m(\u001b[0m\u001b[0;34m)\u001b[0m\u001b[0;34m\u001b[0m\u001b[0m\n\u001b[1;32m      4\u001b[0m \u001b[0max\u001b[0m \u001b[0;34m=\u001b[0m \u001b[0mfig\u001b[0m\u001b[0;34m.\u001b[0m\u001b[0madd_subplot\u001b[0m\u001b[0;34m(\u001b[0m\u001b[0;36m1\u001b[0m\u001b[0;34m,\u001b[0m\u001b[0;36m1\u001b[0m\u001b[0;34m,\u001b[0m\u001b[0;36m1\u001b[0m\u001b[0;34m,\u001b[0m \u001b[0mprojection\u001b[0m\u001b[0;34m=\u001b[0m\u001b[0;34m'3d'\u001b[0m\u001b[0;34m)\u001b[0m\u001b[0;34m\u001b[0m\u001b[0m\n\u001b[1;32m      5\u001b[0m scatterSO3(to_np(grid_vertices), to_np(torch.exp(torch.log(dist_est.flatten())*np.pi/9/sigmas[object_id])),\n",
      "\u001b[0;31mNameError\u001b[0m: name 'plt' is not defined"
     ]
    }
   ],
   "source": [
    "from mpl_toolkits.mplot3d import Axes3D\n",
    "cmap = plt.get_cmap('jet')\n",
    "fig = plt.figure()\n",
    "ax = fig.add_subplot(1,1,1, projection='3d')\n",
    "scatterSO3(to_np(grid_vertices), to_np(torch.exp(torch.log(dist_est.flatten())*np.pi/9/sigmas[object_id])),\n",
    "           [to_np(quat)], alpha_max = .5)\n",
    "tetra_interp.setValues(to_np(torch.exp(torch.log(dist_est.flatten())*np.pi/9/sigmas[object_id])))\n",
    "print(tetra_interp.smooth(to_np(quat)))\n",
    "tetra_interp.setValues(to_np(dist_est.flatten()))\n",
    "print(tetra_interp.smooth(to_np(quat)))\n",
    "#pt_gt = quats2Point([pcnn_quat])\n",
    "#ax.scatter(pt_gt[:,0], pt_gt[:,1], pt_gt[:,2], c='K', marker='x')"
   ]
  },
  {
   "cell_type": "code",
   "execution_count": 4,
   "metadata": {},
   "outputs": [
    {
     "data": {
      "text/plain": [
       "array([0.10484988, 0.00935838, 0.16386687, 0.06837537, 0.22288387,\n",
       "       0.12739236, 0.03190086, 0.18640936, 0.09091786, 0.24542635,\n",
       "       0.14993485, 0.05444335, 0.20895184, 0.11346034, 0.01796884,\n",
       "       0.17247734, 0.07698583, 0.23149433, 0.13600283, 0.04051133,\n",
       "       0.19501982, 0.09952832, 0.00403682, 0.15854531, 0.06305381,\n",
       "       0.21756231, 0.12207081, 0.0265793 , 0.1810878 , 0.0855963 ,\n",
       "       0.24010479, 0.14461329, 0.04912179, 0.20363029, 0.10813878,\n",
       "       0.01264728, 0.16715578, 0.07166427, 0.22617277, 0.13068127,\n",
       "       0.03518977, 0.18969826, 0.09420676, 0.24871526, 0.15322375,\n",
       "       0.05773225, 0.21224075, 0.11674925, 0.02125774, 0.17576624,\n",
       "       0.08027474, 0.23478324, 0.13929173, 0.04380023, 0.19830873,\n",
       "       0.10281722, 0.00732572, 0.16183422, 0.06634272, 0.22085121,\n",
       "       0.12535971, 0.02986821, 0.1843767 , 0.0888852 , 0.2433937 ,\n",
       "       0.1479022 , 0.05241069, 0.20691919, 0.11142769, 0.01593618,\n",
       "       0.17044468, 0.07495318, 0.22946168, 0.13397017, 0.03847867,\n",
       "       0.19298717, 0.09749566, 0.00200416, 0.15651266, 0.06102116,\n",
       "       0.21552965, 0.12003815, 0.02454665, 0.17905515, 0.08356364,\n",
       "       0.23807214, 0.14258064, 0.04708913, 0.20159763, 0.10610613,\n",
       "       0.01061463, 0.16512312, 0.06963162, 0.22414012, 0.12864861,\n",
       "       0.03315711, 0.18766561, 0.09217411, 0.2466826 , 0.1511911 ])"
      ]
     },
     "execution_count": 4,
     "metadata": {},
     "output_type": "execute_result"
    }
   ],
   "source": []
  }
 ],
 "metadata": {
  "kernelspec": {
   "display_name": "Python3 (bpy)",
   "language": "python",
   "name": "bpy"
  },
  "language_info": {
   "codemirror_mode": {
    "name": "ipython",
    "version": 3
   },
   "file_extension": ".py",
   "mimetype": "text/x-python",
   "name": "python",
   "nbconvert_exporter": "python",
   "pygments_lexer": "ipython3",
   "version": "3.6.6"
  }
 },
 "nbformat": 4,
 "nbformat_minor": 2
}
