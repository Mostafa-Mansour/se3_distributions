{
 "cells": [
  {
   "cell_type": "code",
   "execution_count": 2,
   "metadata": {},
   "outputs": [
    {
     "name": "stdout",
     "output_type": "stream",
     "text": [
      "env: CUDA_DEVICE_ORDER=PCI_BUS_ID\n",
      "env: CUDA_VISIBLE_DEVICES=2\n"
     ]
    }
   ],
   "source": [
    "%matplotlib inline\n",
    "%env CUDA_DEVICE_ORDER=PCI_BUS_ID\n",
    "%env CUDA_VISIBLE_DEVICES=2\n",
    "\n",
    "import os\n",
    "import cv2\n",
    "import numpy as np\n",
    "import torch\n",
    "from torch.autograd import Variable\n",
    "import quat_math\n",
    "import pickle\n",
    "import glob\n",
    "\n",
    "from PIL import Image\n",
    "import scipy.io as scio\n",
    "from functools import partial\n",
    "from object_pose_utils.utils import to_np, to_var\n",
    "from object_pose_utils.utils.display import *\n",
    "\n",
    "import matplotlib.pyplot as plt\n",
    "import pylab\n",
    "pylab.rcParams['figure.figsize'] = 20, 12\n",
    "from mpl_toolkits.mplot3d import Axes3D  # noqa: F401 unused import\n",
    "\n",
    "import warnings\n",
    "warnings.filterwarnings('ignore')"
   ]
  },
  {
   "cell_type": "markdown",
   "metadata": {},
   "source": [
    "## Dataset Information"
   ]
  },
  {
   "cell_type": "code",
   "execution_count": 2,
   "metadata": {},
   "outputs": [],
   "source": [
    "from object_pose_utils.datasets.ycb_dataset import YcbDataset as YCBDataset\n",
    "from object_pose_utils.datasets.pose_dataset import OutputTypes as otypes\n",
    "\n",
    "dataset_root = '/ssd0/datasets/ycb/YCB_Video_Dataset'\n",
    "object_list = list(range(1,22))\n",
    "mode = \"test\"\n",
    "\n",
    "output_format = [otypes.OBJECT_LABEL,\n",
    "                 otypes.QUATERNION, \n",
    "                 otypes.TRANSLATION, \n",
    "                 otypes.TRANSFORM_MATRIX,\n",
    "                ]\n",
    "\n",
    "dataset = YCBDataset(dataset_root, mode=mode,\n",
    "                     object_list = list(range(1,22)),\n",
    "                     output_data = output_format,\n",
    "                     resample_on_error = False,\n",
    "                     add_syn_background = False,\n",
    "                     add_syn_noise = False,\n",
    "                     use_posecnn_data = True,\n",
    "                     #preprocessors = [InplaneRotator()],\n",
    "                     #postprocessors = [ImageNormalizer()],\n",
    "                     image_size = [640, 480], num_points=1000)\n",
    "\n",
    "feature_root = '/scratch/bokorn/results/dense_fusion_local_orig_feat/'\n",
    "grid_vertices = torch.load(os.path.join(feature_root, 'grid',\n",
    "    '{}_vertices.pt'.format(dataset.classes[1])))"
   ]
  },
  {
   "cell_type": "code",
   "execution_count": null,
   "metadata": {},
   "outputs": [],
   "source": []
  },
  {
   "cell_type": "code",
   "execution_count": null,
   "metadata": {},
   "outputs": [],
   "source": []
  },
  {
   "cell_type": "code",
   "execution_count": 11,
   "metadata": {},
   "outputs": [],
   "source": [
    "from se3_distributions.losses.bingham_loss import isoLikelihood, duelLikelihood, mLikelihood"
   ]
  },
  {
   "cell_type": "code",
   "execution_count": 12,
   "metadata": {},
   "outputs": [],
   "source": [
    "results_bing = 'ral_results/single_img_bing_iso_bing_duel_results.npz'\n",
    "\n",
    "bing_data = np.load(results_bing, allow_pickle=True)\n",
    "bing_lik_distribution = bing_data['lik_distribution'].item()['bing_duel']"
   ]
  },
  {
   "cell_type": "code",
   "execution_count": 13,
   "metadata": {},
   "outputs": [
    {
     "ename": "NameError",
     "evalue": "name 'dataset' is not defined",
     "output_type": "error",
     "traceback": [
      "\u001b[0;31m---------------------------------------------------------------------------\u001b[0m",
      "\u001b[0;31mNameError\u001b[0m                                 Traceback (most recent call last)",
      "\u001b[0;32m<ipython-input-13-9edb3b61ced0>\u001b[0m in \u001b[0;36m<module>\u001b[0;34m()\u001b[0m\n\u001b[1;32m      4\u001b[0m \u001b[0;34m\u001b[0m\u001b[0m\n\u001b[1;32m      5\u001b[0m \u001b[0;32mwith\u001b[0m \u001b[0mtorch\u001b[0m\u001b[0;34m.\u001b[0m\u001b[0mno_grad\u001b[0m\u001b[0;34m(\u001b[0m\u001b[0;34m)\u001b[0m\u001b[0;34m:\u001b[0m\u001b[0;34m\u001b[0m\u001b[0m\n\u001b[0;32m----> 6\u001b[0;31m     \u001b[0;32mfor\u001b[0m \u001b[0mj\u001b[0m\u001b[0;34m,\u001b[0m \u001b[0mdata\u001b[0m \u001b[0;32min\u001b[0m \u001b[0menumerate\u001b[0m\u001b[0;34m(\u001b[0m\u001b[0mtqdm\u001b[0m\u001b[0;34m(\u001b[0m\u001b[0mdataset\u001b[0m\u001b[0;34m)\u001b[0m\u001b[0;34m)\u001b[0m\u001b[0;34m:\u001b[0m\u001b[0;34m\u001b[0m\u001b[0m\n\u001b[0m\u001b[1;32m      7\u001b[0m         \u001b[0mobj\u001b[0m\u001b[0;34m,\u001b[0m \u001b[0mquat\u001b[0m\u001b[0;34m,\u001b[0m \u001b[0mtrans\u001b[0m\u001b[0;34m,\u001b[0m \u001b[0mmat\u001b[0m \u001b[0;34m=\u001b[0m \u001b[0mdata\u001b[0m\u001b[0;34m\u001b[0m\u001b[0m\n\u001b[1;32m      8\u001b[0m         \u001b[0mpath\u001b[0m \u001b[0;34m=\u001b[0m \u001b[0mdataset\u001b[0m\u001b[0;34m.\u001b[0m\u001b[0mgetPath\u001b[0m\u001b[0;34m(\u001b[0m\u001b[0mj\u001b[0m\u001b[0;34m)\u001b[0m\u001b[0;34m\u001b[0m\u001b[0m\n",
      "\u001b[0;31mNameError\u001b[0m: name 'dataset' is not defined"
     ]
    }
   ],
   "source": [
    "from tqdm import tqdm_notebook as tqdm\n",
    "\n",
    "bing_parameters = {}\n",
    "\n",
    "with torch.no_grad():\n",
    "    for j, data in enumerate(tqdm(dataset)):\n",
    "        obj, quat, trans, mat = data\n",
    "        path = dataset.getPath(j)\n",
    "        vid_id, img_id = path.split('/')\n",
    "        obj_id = obj.item()\n",
    "        \n",
    "        if(j not in bing_lik_distribution[obj_id].keys()):\n",
    "            continue\n",
    "        bing_dist = bing_lik_distribution[obj_id][j]\n",
    "        \n",
    "        if(obj_id not in bing_parameters.keys()):\n",
    "            bing_parameters[obj_id] = {}\n",
    "        if(vid_id not in bing_parameters[obj_id].keys()):\n",
    "            bing_parameters[obj_id][vid_id] = {}\n",
    "\n",
    "        bing_parameters[obj_id][vid_id][img_id] = {'sig':to_np(bing_dist.sig).item(), \n",
    "                                                   'mean':to_np(bing_dist.mean_q)}\n",
    "        "
   ]
  },
  {
   "cell_type": "code",
   "execution_count": 16,
   "metadata": {},
   "outputs": [],
   "source": [
    "results_hist = 'ral_results/pcnn_single_img_hist_comp_fc6_results.npz'\n",
    "\n",
    "hist_data = np.load(results_hist, allow_pickle=True)\n",
    "hist_lik_distribution = hist_data['lik_distribution'].item()['hist_comp_fc6']"
   ]
  },
  {
   "cell_type": "code",
   "execution_count": 19,
   "metadata": {},
   "outputs": [
    {
     "data": {
      "application/vnd.jupyter.widget-view+json": {
       "model_id": "48af76c3ed8a46e8b89ad527a2265da1",
       "version_major": 2,
       "version_minor": 0
      },
      "text/plain": [
       "HBox(children=(IntProgress(value=0, max=14025), HTML(value='')))"
      ]
     },
     "metadata": {},
     "output_type": "display_data"
    }
   ],
   "source": [
    "from tqdm import tqdm_notebook as tqdm\n",
    "\n",
    "hist_parameters = {}\n",
    "\n",
    "with torch.no_grad():\n",
    "    for j, data in enumerate(tqdm(dataset)):\n",
    "        obj, quat, trans, mat = data\n",
    "        path = dataset.getPath(j)\n",
    "        vid_id, img_id = path.split('/')\n",
    "        obj_id = obj.item()\n",
    "        \n",
    "        if(j not in hist_lik_distribution[obj_id].keys()):\n",
    "            continue\n",
    "        bin_vals = hist_lik_distribution[obj_id][j]\n",
    "        \n",
    "        if(obj_id not in hist_parameters.keys()):\n",
    "            hist_parameters[obj_id] = {}\n",
    "        if(vid_id not in hist_parameters[obj_id].keys()):\n",
    "            hist_parameters[obj_id][vid_id] = {}\n",
    "        hist_parameters[obj_id][vid_id][img_id] = {'bin_vals':bin_vals.flatten()}\n",
    "        \n",
    "        "
   ]
  },
  {
   "cell_type": "code",
   "execution_count": 3,
   "metadata": {},
   "outputs": [
    {
     "ename": "NameError",
     "evalue": "name 'bing_parameters' is not defined",
     "output_type": "error",
     "traceback": [
      "\u001b[0;31m---------------------------------------------------------------------------\u001b[0m",
      "\u001b[0;31mNameError\u001b[0m                                 Traceback (most recent call last)",
      "\u001b[0;32m<ipython-input-3-a3f8076be933>\u001b[0m in \u001b[0;36m<module>\u001b[0;34m()\u001b[0m\n\u001b[1;32m      1\u001b[0m np.savez('tracking_distributions.npz', \n\u001b[0;32m----> 2\u001b[0;31m          \u001b[0mbing_parameters\u001b[0m\u001b[0;34m=\u001b[0m\u001b[0mbing_parameters\u001b[0m\u001b[0;34m,\u001b[0m\u001b[0;34m\u001b[0m\u001b[0m\n\u001b[0m\u001b[1;32m      3\u001b[0m          hist_parameters=hist_parameters)\n",
      "\u001b[0;31mNameError\u001b[0m: name 'bing_parameters' is not defined"
     ]
    }
   ],
   "source": [
    "#np.savez('tracking_distributions.npz', \n",
    "#         bing_parameters=bing_parameters, \n",
    "#         hist_parameters=hist_parameters)"
   ]
  },
  {
   "cell_type": "code",
   "execution_count": 4,
   "metadata": {},
   "outputs": [],
   "source": [
    "tracking_distributions = np.load('tracking_distributions.npz', allow_pickle=True)"
   ]
  },
  {
   "cell_type": "code",
   "execution_count": 5,
   "metadata": {},
   "outputs": [],
   "source": [
    "bing_parameters = tracking_distributions['bing_parameters'].item()\n",
    "hist_parameters = tracking_distributions['hist_parameters'].item()"
   ]
  },
  {
   "cell_type": "code",
   "execution_count": 7,
   "metadata": {},
   "outputs": [
    {
     "data": {
      "text/plain": [
       "{'bin_vals': array([7.5199401e-13, 8.3389767e-07, 1.5088676e-12, ..., 6.3490960e-15,\n",
       "        9.6765661e-14, 5.8215780e-16], dtype=float32)}"
      ]
     },
     "execution_count": 7,
     "metadata": {},
     "output_type": "execute_result"
    }
   ],
   "source": [
    "hist_parameters[1]['0048']['000001']\n",
    "bing_parameters[1]['0048']['000001']\n"
   ]
  },
  {
   "cell_type": "code",
   "execution_count": 8,
   "metadata": {},
   "outputs": [],
   "source": [
    "from object_pose_utils.datasets.ycb_dataset import YcbDataset as YCBDataset\n",
    "from object_pose_utils.datasets.image_processing import ImageNormalizer\n",
    "from object_pose_utils.datasets.inplane_rotation_augmentation import InplaneRotator\n",
    "\n",
    "from object_pose_utils.datasets.pose_dataset import OutputTypes as otypes\n",
    "\n",
    "dataset_root = '/ssd0/datasets/ycb/YCB_Video_Dataset'\n",
    "object_list = list(range(1,22))\n",
    "mode = \"test\"\n",
    "\n",
    "output_format = [otypes.OBJECT_LABEL,\n",
    "                 otypes.QUATERNION, \n",
    "                 otypes.TRANSLATION, \n",
    "                 otypes.TRANSFORM_MATRIX,\n",
    "                ]\n",
    "\n",
    "dataset = YCBDataset(dataset_root, mode=mode,\n",
    "                     object_list = list(range(1,22)),\n",
    "                     output_data = output_format,\n",
    "                     resample_on_error = False,\n",
    "                     add_syn_background = False,\n",
    "                     add_syn_noise = False,\n",
    "                     use_posecnn_data = True,\n",
    "                     #preprocessors = [InplaneRotator()],\n",
    "                     #postprocessors = [ImageNormalizer()],\n",
    "                     image_size = [640, 480], num_points=1000)"
   ]
  },
  {
   "cell_type": "code",
   "execution_count": 12,
   "metadata": {},
   "outputs": [
    {
     "name": "stdout",
     "output_type": "stream",
     "text": [
      "{'bin_vals': array([7.5199401e-13, 8.3389767e-07, 1.5088676e-12, ..., 6.3490960e-15,\n",
      "       9.6765661e-14, 5.8215780e-16], dtype=float32)}\n",
      "{'sig': 144.1236114501953, 'mean': array([-0.74177265,  0.279474  , -0.2430372 , -0.5591071 ], dtype=float32)}\n"
     ]
    }
   ],
   "source": [
    "obj, quat, trans, mat = dataset[0]\n",
    "\n",
    "vid_id, frame_id = dataset.getPath(0).split('/')\n",
    "print(hist_parameters[obj.item()][vid_id][frame_id])\n",
    "print(bing_parameters[obj.item()][vid_id][frame_id])"
   ]
  },
  {
   "cell_type": "code",
   "execution_count": 9,
   "metadata": {},
   "outputs": [],
   "source": [
    "scio.savemat('tracking_distributions.mat', {'bing_parameters':bing_parameters, 'hist_parameters':hist_parameters})"
   ]
  }
 ],
 "metadata": {
  "kernelspec": {
   "display_name": "Python3 (bpy)",
   "language": "python",
   "name": "bpy"
  },
  "language_info": {
   "codemirror_mode": {
    "name": "ipython",
    "version": 3
   },
   "file_extension": ".py",
   "mimetype": "text/x-python",
   "name": "python",
   "nbconvert_exporter": "python",
   "pygments_lexer": "ipython3",
   "version": "3.6.6"
  }
 },
 "nbformat": 4,
 "nbformat_minor": 2
}
