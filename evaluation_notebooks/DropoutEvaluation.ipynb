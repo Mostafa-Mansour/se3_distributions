{
 "cells": [
  {
   "cell_type": "code",
   "execution_count": 1,
   "metadata": {},
   "outputs": [],
   "source": [
    "%matplotlib inline\n",
    "import os\n",
    "import cv2\n",
    "import numpy as np\n",
    "import torch\n",
    "from torch.autograd import Variable\n",
    "import quat_math\n",
    "import pickle\n",
    "\n",
    "from PIL import Image\n",
    "import scipy.io as scio\n",
    "from functools import partial\n",
    "from object_pose_utils.utils import to_np, to_var\n",
    "\n",
    "import matplotlib.pyplot as plt\n",
    "import pylab\n",
    "pylab.rcParams['figure.figsize'] = 20, 12\n",
    "from mpl_toolkits.mplot3d import Axes3D  # noqa: F401 unused import\n",
    "import warnings\n",
    "warnings.filterwarnings('ignore')"
   ]
  },
  {
   "cell_type": "code",
   "execution_count": 2,
   "metadata": {},
   "outputs": [],
   "source": [
    "from quat_math import quat2AxisAngle\n",
    "\n",
    "def quats2Point(quats):\n",
    "    pts = []\n",
    "    for q in quats:\n",
    "        xi, theta = quat2AxisAngle(q)\n",
    "        pts.append(xi*theta)\n",
    "    return np.array(pts)\n",
    "\n",
    "def scatterSO3(vertices, vals, q_gt = None, alpha_max = 1.0):\n",
    "    #c = cmap(vals)\n",
    "    a = np.maximum(0,np.minimum(1, (vals - min(vals))/(max(vals) - min(vals))))\n",
    "    c = cmap(a)\n",
    "    \n",
    "    c[:,3] = alpha_max*a\n",
    "\n",
    "    pts = quats2Point(vertices)\n",
    "    ax.scatter(pts[:,0], pts[:,1], pts[:,2], s=a*10, c=c)\n",
    "\n",
    "    if(q_gt is not None):\n",
    "        pt_gt = quats2Point(q_gt)\n",
    "        ax.scatter(pt_gt[:,0], pt_gt[:,1], pt_gt[:,2], c='r', marker='x')"
   ]
  },
  {
   "cell_type": "code",
   "execution_count": 3,
   "metadata": {},
   "outputs": [],
   "source": [
    "from object_pose_utils.datasets.ycb_dataset import YcbDataset as YCBDataset\n",
    "\n",
    "from object_pose_utils.datasets.image_processing import ImageNormalizer\n",
    "from object_pose_utils.datasets.pose_dataset import OutputTypes as otypes\n",
    "from object_pose_utils.datasets.inplane_rotation_augmentation import InplaneRotator\n",
    "\n",
    "dataset_root = '/ssd0/datasets/ycb/YCB_Video_Dataset'\n",
    "object_list = list(range(1,22))\n",
    "mode = \"test\"\n",
    "\n",
    "output_format = [otypes.OBJECT_LABEL,\n",
    "                 otypes.QUATERNION, \n",
    "                 otypes.IMAGE_CROPPED, \n",
    "                 otypes.DEPTH_POINTS_MASKED_AND_INDEXES]\n",
    "\n"
   ]
  },
  {
   "cell_type": "code",
   "execution_count": 4,
   "metadata": {},
   "outputs": [],
   "source": [
    "from dense_fusion.network import PoseNetDropout\n",
    "model_checkpoint = '/home/bokorn/src/DenseFusion/trained_models/ycb_dropout/pose_model_17_0.023200422725836868.pth'\n",
    "\n",
    "estimator = PoseNetDropout(num_points = 1000, num_obj = 21)\n",
    "estimator.load_state_dict(torch.load(model_checkpoint, map_location=lambda storage, loc: storage))\n",
    "estimator.cuda();"
   ]
  },
  {
   "cell_type": "code",
   "execution_count": 5,
   "metadata": {},
   "outputs": [
    {
     "data": {
      "text/plain": [
       "PoseNet(\n",
       "  (cnn): ModifiedResnet(\n",
       "    (model): DataParallel(\n",
       "      (module): PSPNet(\n",
       "        (feats): ResNet(\n",
       "          (conv1): Conv2d(3, 64, kernel_size=(7, 7), stride=(2, 2), padding=(3, 3), bias=False)\n",
       "          (relu): ReLU(inplace)\n",
       "          (maxpool): MaxPool2d(kernel_size=3, stride=2, padding=1, dilation=1, ceil_mode=False)\n",
       "          (layer1): Sequential(\n",
       "            (0): BasicBlock(\n",
       "              (conv1): Conv2d(64, 64, kernel_size=(3, 3), stride=(1, 1), padding=(1, 1), bias=False)\n",
       "              (relu): ReLU(inplace)\n",
       "              (conv2): Conv2d(64, 64, kernel_size=(3, 3), stride=(1, 1), padding=(1, 1), bias=False)\n",
       "            )\n",
       "            (1): BasicBlock(\n",
       "              (conv1): Conv2d(64, 64, kernel_size=(3, 3), stride=(1, 1), padding=(1, 1), bias=False)\n",
       "              (relu): ReLU(inplace)\n",
       "              (conv2): Conv2d(64, 64, kernel_size=(3, 3), stride=(1, 1), padding=(1, 1), bias=False)\n",
       "            )\n",
       "          )\n",
       "          (layer2): Sequential(\n",
       "            (0): BasicBlock(\n",
       "              (conv1): Conv2d(64, 128, kernel_size=(3, 3), stride=(2, 2), padding=(1, 1), bias=False)\n",
       "              (relu): ReLU(inplace)\n",
       "              (conv2): Conv2d(128, 128, kernel_size=(3, 3), stride=(1, 1), padding=(1, 1), bias=False)\n",
       "              (downsample): Sequential(\n",
       "                (0): Conv2d(64, 128, kernel_size=(1, 1), stride=(2, 2), bias=False)\n",
       "              )\n",
       "            )\n",
       "            (1): BasicBlock(\n",
       "              (conv1): Conv2d(128, 128, kernel_size=(3, 3), stride=(1, 1), padding=(1, 1), bias=False)\n",
       "              (relu): ReLU(inplace)\n",
       "              (conv2): Conv2d(128, 128, kernel_size=(3, 3), stride=(1, 1), padding=(1, 1), bias=False)\n",
       "            )\n",
       "          )\n",
       "          (layer3): Sequential(\n",
       "            (0): BasicBlock(\n",
       "              (conv1): Conv2d(128, 256, kernel_size=(3, 3), stride=(1, 1), padding=(1, 1), bias=False)\n",
       "              (relu): ReLU(inplace)\n",
       "              (conv2): Conv2d(256, 256, kernel_size=(3, 3), stride=(1, 1), padding=(1, 1), bias=False)\n",
       "              (downsample): Sequential(\n",
       "                (0): Conv2d(128, 256, kernel_size=(1, 1), stride=(1, 1), bias=False)\n",
       "              )\n",
       "            )\n",
       "            (1): BasicBlock(\n",
       "              (conv1): Conv2d(256, 256, kernel_size=(3, 3), stride=(1, 1), padding=(2, 2), dilation=(2, 2), bias=False)\n",
       "              (relu): ReLU(inplace)\n",
       "              (conv2): Conv2d(256, 256, kernel_size=(3, 3), stride=(1, 1), padding=(2, 2), dilation=(2, 2), bias=False)\n",
       "            )\n",
       "          )\n",
       "          (layer4): Sequential(\n",
       "            (0): BasicBlock(\n",
       "              (conv1): Conv2d(256, 512, kernel_size=(3, 3), stride=(1, 1), padding=(1, 1), bias=False)\n",
       "              (relu): ReLU(inplace)\n",
       "              (conv2): Conv2d(512, 512, kernel_size=(3, 3), stride=(1, 1), padding=(1, 1), bias=False)\n",
       "              (downsample): Sequential(\n",
       "                (0): Conv2d(256, 512, kernel_size=(1, 1), stride=(1, 1), bias=False)\n",
       "              )\n",
       "            )\n",
       "            (1): BasicBlock(\n",
       "              (conv1): Conv2d(512, 512, kernel_size=(3, 3), stride=(1, 1), padding=(4, 4), dilation=(4, 4), bias=False)\n",
       "              (relu): ReLU(inplace)\n",
       "              (conv2): Conv2d(512, 512, kernel_size=(3, 3), stride=(1, 1), padding=(4, 4), dilation=(4, 4), bias=False)\n",
       "            )\n",
       "          )\n",
       "        )\n",
       "        (psp): PSPModule(\n",
       "          (stages): ModuleList(\n",
       "            (0): Sequential(\n",
       "              (0): AdaptiveAvgPool2d(output_size=(1, 1))\n",
       "              (1): Conv2d(512, 512, kernel_size=(1, 1), stride=(1, 1), bias=False)\n",
       "            )\n",
       "            (1): Sequential(\n",
       "              (0): AdaptiveAvgPool2d(output_size=(2, 2))\n",
       "              (1): Conv2d(512, 512, kernel_size=(1, 1), stride=(1, 1), bias=False)\n",
       "            )\n",
       "            (2): Sequential(\n",
       "              (0): AdaptiveAvgPool2d(output_size=(3, 3))\n",
       "              (1): Conv2d(512, 512, kernel_size=(1, 1), stride=(1, 1), bias=False)\n",
       "            )\n",
       "            (3): Sequential(\n",
       "              (0): AdaptiveAvgPool2d(output_size=(6, 6))\n",
       "              (1): Conv2d(512, 512, kernel_size=(1, 1), stride=(1, 1), bias=False)\n",
       "            )\n",
       "          )\n",
       "          (bottleneck): Conv2d(2560, 1024, kernel_size=(1, 1), stride=(1, 1))\n",
       "          (relu): ReLU()\n",
       "        )\n",
       "        (drop_1): Dropout2d(p=0.3)\n",
       "        (up_1): PSPUpsample(\n",
       "          (conv): Sequential(\n",
       "            (0): Upsample(scale_factor=2, mode=bilinear)\n",
       "            (1): Conv2d(1024, 256, kernel_size=(3, 3), stride=(1, 1), padding=(1, 1))\n",
       "            (2): PReLU(num_parameters=1)\n",
       "          )\n",
       "        )\n",
       "        (up_2): PSPUpsample(\n",
       "          (conv): Sequential(\n",
       "            (0): Upsample(scale_factor=2, mode=bilinear)\n",
       "            (1): Conv2d(256, 64, kernel_size=(3, 3), stride=(1, 1), padding=(1, 1))\n",
       "            (2): PReLU(num_parameters=1)\n",
       "          )\n",
       "        )\n",
       "        (up_3): PSPUpsample(\n",
       "          (conv): Sequential(\n",
       "            (0): Upsample(scale_factor=2, mode=bilinear)\n",
       "            (1): Conv2d(64, 64, kernel_size=(3, 3), stride=(1, 1), padding=(1, 1))\n",
       "            (2): PReLU(num_parameters=1)\n",
       "          )\n",
       "        )\n",
       "        (drop_2): Dropout2d(p=0.15)\n",
       "        (final): Sequential(\n",
       "          (0): Conv2d(64, 32, kernel_size=(1, 1), stride=(1, 1))\n",
       "          (1): LogSoftmax()\n",
       "        )\n",
       "        (classifier): Sequential(\n",
       "          (0): Linear(in_features=256, out_features=256, bias=True)\n",
       "          (1): ReLU()\n",
       "          (2): Linear(in_features=256, out_features=21, bias=True)\n",
       "        )\n",
       "      )\n",
       "    )\n",
       "  )\n",
       "  (feat): PoseNetFeat(\n",
       "    (conv1): Conv1d(3, 64, kernel_size=(1,), stride=(1,))\n",
       "    (conv2): Conv1d(64, 128, kernel_size=(1,), stride=(1,))\n",
       "    (e_conv1): Conv1d(32, 64, kernel_size=(1,), stride=(1,))\n",
       "    (e_conv2): Conv1d(64, 128, kernel_size=(1,), stride=(1,))\n",
       "    (conv5): Conv1d(256, 512, kernel_size=(1,), stride=(1,))\n",
       "    (conv6): Conv1d(512, 1024, kernel_size=(1,), stride=(1,))\n",
       "    (ap1): AvgPool1d(kernel_size=(1000,), stride=(1000,), padding=(0,))\n",
       "  )\n",
       "  (conv1_r): Conv1d(1408, 640, kernel_size=(1,), stride=(1,))\n",
       "  (conv1_t): Conv1d(1408, 640, kernel_size=(1,), stride=(1,))\n",
       "  (conv1_c): Conv1d(1408, 640, kernel_size=(1,), stride=(1,))\n",
       "  (conv2_r): Conv1d(640, 256, kernel_size=(1,), stride=(1,))\n",
       "  (conv2_t): Conv1d(640, 256, kernel_size=(1,), stride=(1,))\n",
       "  (conv2_c): Conv1d(640, 256, kernel_size=(1,), stride=(1,))\n",
       "  (conv3_r): Conv1d(256, 128, kernel_size=(1,), stride=(1,))\n",
       "  (conv3_t): Conv1d(256, 128, kernel_size=(1,), stride=(1,))\n",
       "  (conv3_c): Conv1d(256, 128, kernel_size=(1,), stride=(1,))\n",
       "  (conv4_r): Conv1d(128, 84, kernel_size=(1,), stride=(1,))\n",
       "  (conv4_t): Conv1d(128, 63, kernel_size=(1,), stride=(1,))\n",
       "  (conv4_c): Conv1d(128, 21, kernel_size=(1,), stride=(1,))\n",
       ")"
      ]
     },
     "execution_count": 5,
     "metadata": {},
     "output_type": "execute_result"
    }
   ],
   "source": [
    "from dense_fusion.network import PoseNet\n",
    "\n",
    "estimator_mean = PoseNet(num_points = 1000, num_obj = 21)\n",
    "estimator_mean.load_state_dict(torch.load(model_checkpoint, map_location=lambda storage, loc: storage))\n",
    "estimator_mean.cuda();\n",
    "estimator_mean.eval()"
   ]
  },
  {
   "cell_type": "code",
   "execution_count": 7,
   "metadata": {
    "scrolled": true
   },
   "outputs": [
    {
     "data": {
      "application/vnd.jupyter.widget-view+json": {
       "model_id": "105dfa700d9340239e57f80d47affe0b",
       "version_major": 2,
       "version_minor": 0
      },
      "text/plain": [
       "HBox(children=(IntProgress(value=0, max=21), HTML(value='')))"
      ]
     },
     "metadata": {},
     "output_type": "display_data"
    },
    {
     "data": {
      "application/vnd.jupyter.widget-view+json": {
       "model_id": "2569b220fc4f454e906358e1dde81fc9",
       "version_major": 2,
       "version_minor": 0
      },
      "text/plain": [
       "HBox(children=(IntProgress(value=0, max=1006), HTML(value='')))"
      ]
     },
     "metadata": {},
     "output_type": "display_data"
    },
    {
     "data": {
      "application/vnd.jupyter.widget-view+json": {
       "model_id": "60317811b8d748a89c803992a3b4bac0",
       "version_major": 2,
       "version_minor": 0
      },
      "text/plain": [
       "HBox(children=(IntProgress(value=0, max=868), HTML(value='')))"
      ]
     },
     "metadata": {},
     "output_type": "display_data"
    },
    {
     "data": {
      "application/vnd.jupyter.widget-view+json": {
       "model_id": "2fb698cba5354d5f9adfdab84d798482",
       "version_major": 2,
       "version_minor": 0
      },
      "text/plain": [
       "HBox(children=(IntProgress(value=0, max=1182), HTML(value='')))"
      ]
     },
     "metadata": {},
     "output_type": "display_data"
    },
    {
     "data": {
      "application/vnd.jupyter.widget-view+json": {
       "model_id": "1cfb0608d9684e12838046fbb4358d31",
       "version_major": 2,
       "version_minor": 0
      },
      "text/plain": [
       "HBox(children=(IntProgress(value=0, max=1440), HTML(value='')))"
      ]
     },
     "metadata": {},
     "output_type": "display_data"
    },
    {
     "name": "stdout",
     "output_type": "stream",
     "text": [
      "Exception on index 49: Mask 0050/000633 has less than minimum number of pixels (49 < 50)\n",
      "Exception on index 50: Mask 0050/000640 has less than minimum number of pixels (41 < 50)\n",
      "Exception on index 51: Mask 0050/000642 has less than minimum number of pixels (45 < 50)\n",
      "Exception on index 52: Mask 0050/000644 has less than minimum number of pixels (18 < 50)\n",
      "Exception on index 54: Mask 0050/000653 has less than minimum number of pixels (31 < 50)\n",
      "Exception on index 55: Mask 0050/000660 has less than minimum number of pixels (16 < 50)\n",
      "Exception on index 57: Mask 0050/000671 has less than minimum number of pixels (31 < 50)\n",
      "Exception on index 58: Mask 0050/000681 has less than minimum number of pixels (7 < 50)\n",
      "Exception on index 59: Mask 0050/000682 has less than minimum number of pixels (2 < 50)\n",
      "Exception on index 60: Mask 0050/000701 has less than minimum number of pixels (41 < 50)\n",
      "Exception on index 553: No points in mask\n",
      "Exception on index 559: No points in mask\n",
      "Exception on index 560: No points in mask\n",
      "Exception on index 561: No points in mask\n",
      "Exception on index 562: No points in mask\n",
      "Exception on index 563: No points in mask\n",
      "Exception on index 564: No points in mask\n",
      "Exception on index 565: No points in mask\n",
      "Exception on index 566: No points in mask\n",
      "Exception on index 567: No points in mask\n",
      "Exception on index 568: No points in mask\n",
      "Exception on index 569: No points in mask\n",
      "Exception on index 570: No points in mask\n",
      "Exception on index 571: No points in mask\n",
      "Exception on index 572: No points in mask\n",
      "Exception on index 573: No points in mask\n",
      "Exception on index 574: No points in mask\n",
      "Exception on index 575: No points in mask\n",
      "Exception on index 576: No points in mask\n",
      "Exception on index 577: No points in mask\n",
      "Exception on index 578: No points in mask\n",
      "Exception on index 579: No points in mask\n",
      "Exception on index 580: No points in mask\n",
      "Exception on index 581: No points in mask\n",
      "Exception on index 582: No points in mask\n",
      "Exception on index 583: No points in mask\n",
      "Exception on index 584: No points in mask\n",
      "Exception on index 587: No points in mask\n",
      "Exception on index 588: No points in mask\n",
      "Exception on index 589: No points in mask\n",
      "Exception on index 590: No points in mask\n",
      "Exception on index 591: No points in mask\n",
      "Exception on index 592: No points in mask\n",
      "Exception on index 624: No points in mask\n",
      "Exception on index 625: No points in mask\n",
      "Exception on index 626: No points in mask\n",
      "Exception on index 627: No points in mask\n",
      "Exception on index 628: No points in mask\n",
      "Exception on index 629: No points in mask\n",
      "Exception on index 630: No points in mask\n",
      "Exception on index 631: No points in mask\n",
      "Exception on index 632: No points in mask\n",
      "Exception on index 633: No points in mask\n",
      "Exception on index 634: No points in mask\n",
      "Exception on index 635: No points in mask\n",
      "Exception on index 636: No points in mask\n",
      "Exception on index 637: No points in mask\n",
      "Exception on index 638: No points in mask\n",
      "Exception on index 639: No points in mask\n",
      "Exception on index 640: No points in mask\n",
      "Exception on index 641: No points in mask\n",
      "Exception on index 642: No points in mask\n",
      "Exception on index 643: No points in mask\n",
      "Exception on index 644: No points in mask\n",
      "Exception on index 680: No points in mask\n",
      "Exception on index 681: No points in mask\n",
      "Exception on index 682: No points in mask\n",
      "Exception on index 683: No points in mask\n",
      "Exception on index 684: No points in mask\n",
      "Exception on index 685: No points in mask\n",
      "Exception on index 686: No points in mask\n",
      "Exception on index 687: No points in mask\n",
      "Exception on index 688: No points in mask\n",
      "Exception on index 689: No points in mask\n",
      "Exception on index 690: No points in mask\n",
      "Exception on index 708: No points in mask\n",
      "Exception on index 710: No points in mask\n",
      "Exception on index 711: No points in mask\n",
      "Exception on index 712: No points in mask\n",
      "Exception on index 713: No points in mask\n",
      "Exception on index 714: No points in mask\n",
      "Exception on index 715: No points in mask\n",
      "Exception on index 716: No points in mask\n",
      "Exception on index 717: No points in mask\n",
      "Exception on index 718: No points in mask\n",
      "Exception on index 719: No points in mask\n",
      "Exception on index 720: No points in mask\n",
      "Exception on index 721: No points in mask\n",
      "Exception on index 722: No points in mask\n",
      "Exception on index 723: No points in mask\n",
      "Exception on index 724: No points in mask\n",
      "Exception on index 725: No points in mask\n",
      "Exception on index 726: No points in mask\n",
      "Exception on index 727: No points in mask\n",
      "Exception on index 728: No points in mask\n",
      "Exception on index 729: No points in mask\n",
      "Exception on index 730: No points in mask\n",
      "Exception on index 731: No points in mask\n",
      "Exception on index 732: No points in mask\n",
      "Exception on index 733: No points in mask\n",
      "Exception on index 734: No points in mask\n",
      "Exception on index 735: No points in mask\n",
      "Exception on index 736: No points in mask\n",
      "Exception on index 737: No points in mask\n",
      "Exception on index 738: No points in mask\n",
      "Exception on index 739: No points in mask\n",
      "Exception on index 740: No points in mask\n",
      "Exception on index 741: No points in mask\n",
      "Exception on index 742: No points in mask\n",
      "Exception on index 743: No points in mask\n",
      "Exception on index 744: No points in mask\n",
      "Exception on index 745: No points in mask\n",
      "Exception on index 746: No points in mask\n",
      "Exception on index 747: No points in mask\n",
      "Exception on index 748: No points in mask\n",
      "Exception on index 749: No points in mask\n",
      "Exception on index 750: No points in mask\n",
      "Exception on index 751: No points in mask\n",
      "Exception on index 752: No points in mask\n",
      "Exception on index 753: No points in mask\n",
      "Exception on index 754: No points in mask\n",
      "Exception on index 758: No points in mask\n",
      "Exception on index 759: No points in mask\n",
      "Exception on index 760: No points in mask\n",
      "Exception on index 768: No points in mask\n",
      "Exception on index 769: No points in mask\n",
      "Exception on index 770: No points in mask\n",
      "Exception on index 771: No points in mask\n",
      "Exception on index 772: No points in mask\n",
      "Exception on index 910: No points in mask\n",
      "Exception on index 911: No points in mask\n",
      "Exception on index 912: No points in mask\n",
      "Exception on index 913: No points in mask\n",
      "Exception on index 978: No points in mask\n",
      "Exception on index 979: No points in mask\n",
      "Exception on index 980: No points in mask\n",
      "Exception on index 981: No points in mask\n",
      "Exception on index 982: No points in mask\n",
      "Exception on index 983: No points in mask\n",
      "Exception on index 984: No points in mask\n",
      "Exception on index 985: No points in mask\n",
      "Exception on index 986: No points in mask\n",
      "Exception on index 987: No points in mask\n",
      "Exception on index 988: No points in mask\n",
      "Exception on index 989: No points in mask\n",
      "Exception on index 990: No points in mask\n",
      "Exception on index 991: No points in mask\n",
      "Exception on index 992: No points in mask\n",
      "Exception on index 993: No points in mask\n",
      "Exception on index 994: No points in mask\n",
      "Exception on index 995: No points in mask\n",
      "Exception on index 1012: No points in mask\n",
      "Exception on index 1013: No points in mask\n",
      "Exception on index 1014: No points in mask\n",
      "Exception on index 1015: No points in mask\n",
      "Exception on index 1016: No points in mask\n",
      "Exception on index 1017: No points in mask\n",
      "Exception on index 1018: No points in mask\n",
      "Exception on index 1019: No points in mask\n"
     ]
    },
    {
     "data": {
      "application/vnd.jupyter.widget-view+json": {
       "model_id": "0bdaed1126a94365b55ffb08db6223bc",
       "version_major": 2,
       "version_minor": 0
      },
      "text/plain": [
       "HBox(children=(IntProgress(value=0, max=357), HTML(value='')))"
      ]
     },
     "metadata": {},
     "output_type": "display_data"
    },
    {
     "data": {
      "application/vnd.jupyter.widget-view+json": {
       "model_id": "2c80753fad8d4f119681ca31292176d4",
       "version_major": 2,
       "version_minor": 0
      },
      "text/plain": [
       "HBox(children=(IntProgress(value=0, max=1148), HTML(value='')))"
      ]
     },
     "metadata": {},
     "output_type": "display_data"
    },
    {
     "data": {
      "application/vnd.jupyter.widget-view+json": {
       "model_id": "ef0b499924514f90ad460704b9c85538",
       "version_major": 2,
       "version_minor": 0
      },
      "text/plain": [
       "HBox(children=(IntProgress(value=0, max=214), HTML(value='')))"
      ]
     },
     "metadata": {},
     "output_type": "display_data"
    },
    {
     "data": {
      "application/vnd.jupyter.widget-view+json": {
       "model_id": "b1bdcd668e8a4346bcfeb76dd2aea92a",
       "version_major": 2,
       "version_minor": 0
      },
      "text/plain": [
       "HBox(children=(IntProgress(value=0, max=214), HTML(value='')))"
      ]
     },
     "metadata": {},
     "output_type": "display_data"
    },
    {
     "data": {
      "application/vnd.jupyter.widget-view+json": {
       "model_id": "637c78204ee74fb09e921665caabf1a3",
       "version_major": 2,
       "version_minor": 0
      },
      "text/plain": [
       "HBox(children=(IntProgress(value=0, max=766), HTML(value='')))"
      ]
     },
     "metadata": {},
     "output_type": "display_data"
    },
    {
     "name": "stdout",
     "output_type": "stream",
     "text": [
      "Exception on index 87: Mask 0049/000833 has less than minimum number of pixels (47 < 50)\n",
      "Exception on index 108: Mask 0049/001157 has less than minimum number of pixels (2 < 50)\n",
      "Exception on index 111: Mask 0049/001179 has less than minimum number of pixels (47 < 50)\n",
      "Exception on index 115: Mask 0049/001222 has less than minimum number of pixels (13 < 50)\n",
      "Exception on index 116: Mask 0049/001229 has less than minimum number of pixels (10 < 50)\n",
      "Exception on index 118: Mask 0049/001247 has less than minimum number of pixels (50 < 50)\n",
      "Exception on index 129: Mask 0049/001340 has less than minimum number of pixels (40 < 50)\n",
      "Exception on index 138: Mask 0049/001441 has less than minimum number of pixels (25 < 50)\n",
      "Exception on index 322: No points in mask\n",
      "Exception on index 323: No points in mask\n",
      "Exception on index 324: No points in mask\n",
      "Exception on index 325: No points in mask\n",
      "Exception on index 326: No points in mask\n",
      "Exception on index 327: No points in mask\n",
      "Exception on index 334: No points in mask\n",
      "Exception on index 335: No points in mask\n",
      "Exception on index 336: No points in mask\n",
      "Exception on index 337: No points in mask\n",
      "Exception on index 338: No points in mask\n",
      "Exception on index 339: No points in mask\n",
      "Exception on index 340: No points in mask\n",
      "Exception on index 341: No points in mask\n",
      "Exception on index 342: No points in mask\n",
      "Exception on index 343: No points in mask\n",
      "Exception on index 344: No points in mask\n",
      "Exception on index 345: No points in mask\n",
      "Exception on index 346: No points in mask\n"
     ]
    },
    {
     "data": {
      "application/vnd.jupyter.widget-view+json": {
       "model_id": "a0c4678f54374cb1857109cd1cfeca27",
       "version_major": 2,
       "version_minor": 0
      },
      "text/plain": [
       "HBox(children=(IntProgress(value=0, max=379), HTML(value='')))"
      ]
     },
     "metadata": {},
     "output_type": "display_data"
    },
    {
     "data": {
      "application/vnd.jupyter.widget-view+json": {
       "model_id": "30a7907524684bef9fb8333073c8e02f",
       "version_major": 2,
       "version_minor": 0
      },
      "text/plain": [
       "HBox(children=(IntProgress(value=0, max=570), HTML(value='')))"
      ]
     },
     "metadata": {},
     "output_type": "display_data"
    },
    {
     "data": {
      "application/vnd.jupyter.widget-view+json": {
       "model_id": "b8b397fd28074ae9a075ff2c0a9a18a8",
       "version_major": 2,
       "version_minor": 0
      },
      "text/plain": [
       "HBox(children=(IntProgress(value=0, max=1029), HTML(value='')))"
      ]
     },
     "metadata": {},
     "output_type": "display_data"
    },
    {
     "data": {
      "application/vnd.jupyter.widget-view+json": {
       "model_id": "1a085ee58be14d7f8d8976635bf0cfac",
       "version_major": 2,
       "version_minor": 0
      },
      "text/plain": [
       "HBox(children=(IntProgress(value=0, max=406), HTML(value='')))"
      ]
     },
     "metadata": {},
     "output_type": "display_data"
    },
    {
     "data": {
      "application/vnd.jupyter.widget-view+json": {
       "model_id": "7c5d1388504147b9b23bce3cfc053b41",
       "version_major": 2,
       "version_minor": 0
      },
      "text/plain": [
       "HBox(children=(IntProgress(value=0, max=636), HTML(value='')))"
      ]
     },
     "metadata": {},
     "output_type": "display_data"
    },
    {
     "data": {
      "application/vnd.jupyter.widget-view+json": {
       "model_id": "544a94e620dd4c1e8c8b7d357b003b65",
       "version_major": 2,
       "version_minor": 0
      },
      "text/plain": [
       "HBox(children=(IntProgress(value=0, max=1057), HTML(value='')))"
      ]
     },
     "metadata": {},
     "output_type": "display_data"
    },
    {
     "name": "stdout",
     "output_type": "stream",
     "text": [
      "Exception on index 659: No points in mask\n",
      "Exception on index 661: No points in mask\n",
      "Exception on index 665: No points in mask\n",
      "Exception on index 666: No points in mask\n",
      "Exception on index 671: No points in mask\n",
      "Exception on index 672: No points in mask\n",
      "Exception on index 673: No points in mask\n",
      "Exception on index 674: No points in mask\n"
     ]
    },
    {
     "data": {
      "application/vnd.jupyter.widget-view+json": {
       "model_id": "3110cd164a844226b730a1d41a9cee5d",
       "version_major": 2,
       "version_minor": 0
      },
      "text/plain": [
       "HBox(children=(IntProgress(value=0, max=242), HTML(value='')))"
      ]
     },
     "metadata": {},
     "output_type": "display_data"
    },
    {
     "data": {
      "application/vnd.jupyter.widget-view+json": {
       "model_id": "ef1f4f19b8764355b58ee0bf884545fa",
       "version_major": 2,
       "version_minor": 0
      },
      "text/plain": [
       "HBox(children=(IntProgress(value=0, max=181), HTML(value='')))"
      ]
     },
     "metadata": {},
     "output_type": "display_data"
    },
    {
     "name": "stdout",
     "output_type": "stream",
     "text": [
      "Exception on index 174: No points in mask\n",
      "Exception on index 175: No points in mask\n",
      "Exception on index 176: No points in mask\n",
      "Exception on index 177: No points in mask\n",
      "Exception on index 178: No points in mask\n",
      "Exception on index 179: No points in mask\n",
      "Exception on index 180: No points in mask\n"
     ]
    },
    {
     "data": {
      "application/vnd.jupyter.widget-view+json": {
       "model_id": "302b0713f535468da8334fa4945d2cac",
       "version_major": 2,
       "version_minor": 0
      },
      "text/plain": [
       "HBox(children=(IntProgress(value=0, max=648), HTML(value='')))"
      ]
     },
     "metadata": {},
     "output_type": "display_data"
    },
    {
     "data": {
      "application/vnd.jupyter.widget-view+json": {
       "model_id": "9fc2e2cdb8e940889a34410d198a6cb1",
       "version_major": 2,
       "version_minor": 0
      },
      "text/plain": [
       "HBox(children=(IntProgress(value=0, max=712), HTML(value='')))"
      ]
     },
     "metadata": {},
     "output_type": "display_data"
    },
    {
     "data": {
      "application/vnd.jupyter.widget-view+json": {
       "model_id": "943656eee8d74ee59e83aba27c60820e",
       "version_major": 2,
       "version_minor": 0
      },
      "text/plain": [
       "HBox(children=(IntProgress(value=0, max=682), HTML(value='')))"
      ]
     },
     "metadata": {},
     "output_type": "display_data"
    },
    {
     "data": {
      "application/vnd.jupyter.widget-view+json": {
       "model_id": "7f701d24796d403c9033102029d3c2b0",
       "version_major": 2,
       "version_minor": 0
      },
      "text/plain": [
       "HBox(children=(IntProgress(value=0, max=288), HTML(value='')))"
      ]
     },
     "metadata": {},
     "output_type": "display_data"
    },
    {
     "name": "stdout",
     "output_type": "stream",
     "text": [
      "\n"
     ]
    }
   ],
   "source": [
    "from se3_distributions.datasets.ycb_dataset import getYCBSymmeties\n",
    "from object_pose_utils.utils.pose_processing import symmetricAngularDistance, meanShift\n",
    "import pathlib\n",
    "\n",
    "\n",
    "import scipy.io as scio\n",
    "from tqdm import tqdm_notebook as tqdm\n",
    "\n",
    "num_samples = 30\n",
    "\n",
    "with torch.no_grad():\n",
    "    for object_id in tqdm(object_list):\n",
    "        sym_axis, sym_ang = getYCBSymmeties(object_id)\n",
    "        ycb_dataset = YCBDataset(dataset_root, mode=mode, \n",
    "                                 object_list = [object_id], \n",
    "                                 output_data = output_format, \n",
    "                                 preprocessors = [InplaneRotator(np.pi/2)],\n",
    "                                 postprocessors = [ImageNormalizer()],\n",
    "                                 resample_on_error = False,\n",
    "                                 image_size = [640, 480], num_points=1000)\n",
    "\n",
    "        pathlib.Path('results/data'.format(ycb_dataset.classes[object_id])).mkdir(parents=True, exist_ok=True)\n",
    "        \n",
    "        for j, data in tqdm(enumerate(ycb_dataset), total=len(ycb_dataset)):\n",
    "            obj, quat, img, points, choose, = data\n",
    "            if(len(obj) == 0):\n",
    "                continue\n",
    "            \n",
    "            idx = obj - 1\n",
    "            points, choose, img, idx = Variable(points.unsqueeze(0)).cuda(), \\\n",
    "                                       Variable(choose.unsqueeze(0)).cuda(), \\\n",
    "                                       Variable(img.unsqueeze(0)).cuda(), \\\n",
    "                                       Variable(idx.unsqueeze(0)).cuda()\n",
    "            \n",
    "            pred_qs = []\n",
    "            ap_x, emb, bs = estimator.feature(img, points, choose)\n",
    "            for _ in range(num_samples):\n",
    "                pred_r, pred_t, pred_c = estimator.evaluate(ap_x, idx, bs)\n",
    "                pred_q = pred_r[0,torch.argmax(pred_c)][[1,2,3,0]]\n",
    "                pred_q /= pred_q.norm()\n",
    "                pred_qs.append(to_np(pred_q))\n",
    "            pred_qs = np.stack(pred_qs)\n",
    "\n",
    "            mean_r, pred_t, pred_c, emb = estimator_mean(img, points, choose, idx)\n",
    "            mean_q = mean_r[0,torch.argmax(pred_c)][[1,2,3,0]]\n",
    "            mean_q /= mean_q.norm()\n",
    "            \n",
    "            savepath = 'results/{}'.format(ycb_dataset.getPath(j))\n",
    "            pathlib.Path(savepath).mkdir(parents=True, exist_ok=True)\n",
    "            \n",
    "            scio.savemat('{}/{}_dropout_samples_ROT.mat'.format(savepath, \n",
    "                         ycb_dataset.classes[object_id]),\n",
    "                        {'index':j,\n",
    "                         'quat':to_np(quat),\n",
    "                         'pred_qs':pred_qs,\n",
    "                         'mean_q':to_np(mean_q),\n",
    "                         })"
   ]
  },
  {
   "cell_type": "code",
   "execution_count": 10,
   "metadata": {},
   "outputs": [
    {
     "name": "stdout",
     "output_type": "stream",
     "text": [
      "002_master_chef_can_dropout_samples.mat\r\n",
      "002_master_chef_can_fc6_reg_results.mat\r\n",
      "002_master_chef_can_fc6_results.mat\r\n",
      "002_master_chef_can_feat_global_reg_results.mat\r\n",
      "002_master_chef_can_feat_global_results.mat\r\n",
      "002_master_chef_can_feat_global_sigma_results.mat\r\n",
      "007_tuna_fish_can_dropout_samples.mat\r\n",
      "007_tuna_fish_can_fc6_reg_results.mat\r\n",
      "007_tuna_fish_can_fc6_results.mat\r\n",
      "007_tuna_fish_can_feat_global_reg_results.mat\r\n",
      "007_tuna_fish_can_feat_global_results.mat\r\n",
      "007_tuna_fish_can_feat_global_sigma_results.mat\r\n",
      "025_mug_dropout_samples.mat\r\n",
      "025_mug_fc6_reg_results.mat\r\n",
      "025_mug_fc6_results.mat\r\n",
      "025_mug_feat_global_reg_results.mat\r\n",
      "025_mug_feat_global_results.mat\r\n",
      "025_mug_feat_global_sigma_results.mat\r\n",
      "051_large_clamp_dropout_samples.mat\r\n",
      "051_large_clamp_fc6_reg_results.mat\r\n",
      "051_large_clamp_fc6_results.mat\r\n",
      "051_large_clamp_feat_global_reg_results.mat\r\n",
      "051_large_clamp_feat_global_results.mat\r\n",
      "051_large_clamp_feat_global_sigma_results.mat\r\n",
      "052_extra_large_clamp_dropout_samples.mat\r\n",
      "052_extra_large_clamp_fc6_reg_results.mat\r\n",
      "052_extra_large_clamp_fc6_results.mat\r\n",
      "052_extra_large_clamp_feat_global_reg_results.mat\r\n",
      "052_extra_large_clamp_feat_global_results.mat\r\n",
      "052_extra_large_clamp_feat_global_sigma_results.mat\r\n"
     ]
    }
   ],
   "source": [
    "ls results/0048/000001/"
   ]
  },
  {
   "cell_type": "code",
   "execution_count": 7,
   "metadata": {},
   "outputs": [
    {
     "ename": "NameError",
     "evalue": "name 'estimator_dropout' is not defined",
     "output_type": "error",
     "traceback": [
      "\u001b[0;31m---------------------------------------------------------------------------\u001b[0m",
      "\u001b[0;31mNameError\u001b[0m                                 Traceback (most recent call last)",
      "\u001b[0;32m<ipython-input-7-e5527da32da5>\u001b[0m in \u001b[0;36m<module>\u001b[0;34m()\u001b[0m\n\u001b[0;32m----> 1\u001b[0;31m \u001b[0mestimator_dropout\u001b[0m \u001b[0;34m=\u001b[0m \u001b[0mestimator_dropout\u001b[0m\u001b[0;34m.\u001b[0m\u001b[0meval\u001b[0m\u001b[0;34m(\u001b[0m\u001b[0;34m)\u001b[0m\u001b[0;34m;\u001b[0m\u001b[0;34m\u001b[0m\u001b[0m\n\u001b[0m",
      "\u001b[0;31mNameError\u001b[0m: name 'estimator_dropout' is not defined"
     ]
    }
   ],
   "source": [
    "estimator_dropout = estimator_dropout.eval();"
   ]
  },
  {
   "cell_type": "code",
   "execution_count": null,
   "metadata": {},
   "outputs": [],
   "source": [
    "\n",
    "pred_r, pred_t, pred_c, emb = estimator(img, points, choose, idx)\n",
    "pred_q = pred_r[0,torch.argmax(pred_c)][[1,2,3,0]]\n",
    "pred_q /= pred_q.norm()\n",
    "\n",
    "symmetricAngularDistance(pred_q.unsqueeze(0), quat.unsqueeze(0).cuda(),\n",
    "                         sym_axis, sym_ang).item()*180/np.pi"
   ]
  },
  {
   "cell_type": "code",
   "execution_count": null,
   "metadata": {},
   "outputs": [],
   "source": [
    "estimator_mean.eval()\n",
    "pred_r, pred_t, pred_c, emb = estimator_mean(img, points, choose, idx)\n",
    "pred_q = pred_r[0,torch.argmax(pred_c)][[1,2,3,0]]\n",
    "pred_q /= pred_q.norm()\n",
    "\n",
    "symmetricAngularDistance(pred_q.unsqueeze(0), quat.unsqueeze(0).cuda(),\n",
    "                         sym_axis, sym_ang).item()*180/np.pi"
   ]
  }
 ],
 "metadata": {
  "kernelspec": {
   "display_name": "Python3 (bpy)",
   "language": "python",
   "name": "bpy"
  },
  "language_info": {
   "codemirror_mode": {
    "name": "ipython",
    "version": 3
   },
   "file_extension": ".py",
   "mimetype": "text/x-python",
   "name": "python",
   "nbconvert_exporter": "python",
   "pygments_lexer": "ipython3",
   "version": "3.6.6"
  }
 },
 "nbformat": 4,
 "nbformat_minor": 2
}
