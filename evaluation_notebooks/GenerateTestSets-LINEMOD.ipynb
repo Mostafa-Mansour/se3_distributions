{
 "cells": [
  {
   "cell_type": "code",
   "execution_count": 1,
   "metadata": {},
   "outputs": [
    {
     "name": "stdout",
     "output_type": "stream",
     "text": [
      "env: CUDA_DEVICE_ORDER=PCI_BUS_ID\n",
      "env: CUDA_VISIBLE_DEVICES=3\n"
     ]
    }
   ],
   "source": [
    "%matplotlib inline\n",
    "%env CUDA_DEVICE_ORDER=PCI_BUS_ID\n",
    "%env CUDA_VISIBLE_DEVICES=3\n",
    "\n",
    "import os\n",
    "import cv2\n",
    "import numpy as np\n",
    "import torch\n",
    "from torch.autograd import Variable\n",
    "import quat_math\n",
    "import pickle\n",
    "import glob\n",
    "\n",
    "from PIL import Image\n",
    "import scipy.io as scio\n",
    "from functools import partial\n",
    "from object_pose_utils.utils import to_np, to_var\n",
    "from object_pose_utils.utils.display import *\n",
    "\n",
    "import matplotlib.pyplot as plt\n",
    "import pylab\n",
    "pylab.rcParams['figure.figsize'] = 20, 12\n",
    "from mpl_toolkits.mplot3d import Axes3D  # noqa: F401 unused import\n",
    "\n",
    "import warnings\n",
    "warnings.filterwarnings('ignore')"
   ]
  },
  {
   "cell_type": "markdown",
   "metadata": {},
   "source": [
    "## Select Object Indices of Interest\n",
    "\n",
    "| Object Indices |[]()|[]()|\n",
    "|---|---|---|\n",
    "| __1.__ 002_master_chef_can | __8.__ 009_gelatin_box      | __15.__ 035_power_drill       |\n",
    "| __2.__ 003_cracker_box     | __9.__ 010_potted_meat_can  | __16.__ 036_wood_block        |\n",
    "| __3.__ 004_sugar_box       | __10.__ 011_banana          | __17.__ 037_scissors          |\n",
    "| __4.__ 005_tomato_soup_can | __11.__ 019_pitcher_base    | __18.__ 040_large_marker      |\n",
    "| __5.__ 006_mustard_bottle  | __12.__ 021_bleach_cleanser | __19.__ 051_large_clamp       |\n",
    "| __6.__ 007_tuna_fish_can   | __13.__ 024_bowl            | __20.__ 052_extra_large_clamp |\n",
    "| __7.__ 008_pudding_box     | __14.__ 025_mug             | __21.__ 061_foam_brick        |"
   ]
  },
  {
   "cell_type": "code",
   "execution_count": 2,
   "metadata": {},
   "outputs": [],
   "source": [
    "from transforms3d.quaternions import quat2mat, mat2quat\n",
    "\n",
    "def getPoseCNNQuat(data, obj):\n",
    "    pose_idx = np.where(data['rois'][:,1].flatten()==obj)[0]\n",
    "    if(len(pose_idx) == 0):\n",
    "        return None\n",
    "    else:\n",
    "        pose_idx = pose_idx[0]\n",
    "    pose = data['poses'][pose_idx]\n",
    "    q = pose[:4][[1,2,3,0]]\n",
    "    q /= np.linalg.norm(q)\n",
    "    t = pose[4:7]\n",
    "    return q"
   ]
  },
  {
   "cell_type": "markdown",
   "metadata": {},
   "source": [
    "## LINEMOD Dataset"
   ]
  },
  {
   "cell_type": "code",
   "execution_count": 4,
   "metadata": {},
   "outputs": [],
   "source": [
    "from object_pose_utils.datasets.linemod_dataset import LinemodDataset\n",
    "from object_pose_utils.datasets.image_processing import ImageNormalizer\n",
    "#from object_pose_utils.datasets.inplane_rotation_augmentation import InplaneRotator\n",
    "\n",
    "from object_pose_utils.datasets.pose_dataset import OutputTypes as otypes\n",
    "\n",
    "dataset_root = \"/scratch/datasets/linemod/Linemod_preprocessed/\"\n",
    "object_list = [1,2,4,5,6,8,9,10,11,12,13,14,15]\n",
    "mode = \"test\"\n",
    "num_objects = 13 #number of object classes in the dataset\n",
    "num_points = 500 #number of points on the input pointcloud\n",
    "\n",
    "output_format = [otypes.OBJECT_LABEL,\n",
    "                 otypes.QUATERNION, \n",
    "                 otypes.TRANSLATION, \n",
    "                 otypes.IMAGE_CROPPED,\n",
    "                 otypes.DEPTH_POINTS_MASKED_AND_INDEXES,\n",
    "                ]\n",
    "\n",
    "dataset = LinemodDataset(dataset_root, mode=mode,                          \n",
    "                         segnet_masks = True,\n",
    "                         object_list = object_list,\n",
    "                         output_data = output_format,\n",
    "                         resample_on_error = False,\n",
    "                         add_syn_background = False,\n",
    "                         add_syn_noise = False,\n",
    "                         use_posecnn_data = True,\n",
    "                         #preprocessors = [InplaneRotator()],\n",
    "                         postprocessors = [ImageNormalizer()],\n",
    "                         image_size = [640, 480], num_points=500)\n"
   ]
  },
  {
   "cell_type": "markdown",
   "metadata": {},
   "source": [
    "## Pose Estimator"
   ]
  },
  {
   "cell_type": "code",
   "execution_count": 15,
   "metadata": {},
   "outputs": [],
   "source": [
    "df_weights = '/home/bokorn/src/DenseFusion/trained_checkpoints/linemod/pose_model_9_0.01310166542980859.pth'\n",
    "df_refine_weights = '/home/bokorn/src/DenseFusion/trained_checkpoints/linemod/pose_refine_model_493_0.006761023565178073.pth'"
   ]
  },
  {
   "cell_type": "code",
   "execution_count": 22,
   "metadata": {},
   "outputs": [
    {
     "data": {
      "application/vnd.jupyter.widget-view+json": {
       "model_id": "72b217f453f74d2d99c9948febc19f98",
       "version_major": 2,
       "version_minor": 0
      },
      "text/plain": [
       "HBox(children=(IntProgress(value=0, max=14025), HTML(value='')))"
      ]
     },
     "metadata": {},
     "output_type": "display_data"
    },
    {
     "name": "stdout",
     "output_type": "stream",
     "text": [
      "Exception on index 3099: Mask 0050/000588 has less than minimum number of pixels (49 < 50)\n",
      "Exception on index 3100: Mask 0050/000605 has less than minimum number of pixels (0 < 50)\n",
      "Exception on index 3101: Mask 0050/000610 has less than minimum number of pixels (0 < 50)\n",
      "Exception on index 3102: Mask 0050/000620 has less than minimum number of pixels (0 < 50)\n",
      "Exception on index 3103: Mask 0050/000623 has less than minimum number of pixels (0 < 50)\n",
      "Exception on index 3104: Mask 0050/000629 has less than minimum number of pixels (0 < 50)\n",
      "Exception on index 3105: Mask 0050/000633 has less than minimum number of pixels (0 < 50)\n",
      "Exception on index 3106: Mask 0050/000640 has less than minimum number of pixels (0 < 50)\n",
      "Exception on index 3107: Mask 0050/000642 has less than minimum number of pixels (0 < 50)\n",
      "Exception on index 3108: Mask 0050/000644 has less than minimum number of pixels (0 < 50)\n",
      "Exception on index 3109: Mask 0050/000651 has less than minimum number of pixels (0 < 50)\n",
      "Exception on index 3110: Mask 0050/000653 has less than minimum number of pixels (0 < 50)\n",
      "Exception on index 3111: Mask 0050/000660 has less than minimum number of pixels (0 < 50)\n",
      "Exception on index 3112: Mask 0050/000662 has less than minimum number of pixels (0 < 50)\n",
      "Exception on index 3113: Mask 0050/000671 has less than minimum number of pixels (0 < 50)\n",
      "Exception on index 3114: Mask 0050/000681 has less than minimum number of pixels (0 < 50)\n",
      "Exception on index 3115: Mask 0050/000682 has less than minimum number of pixels (0 < 50)\n",
      "Exception on index 3116: Mask 0050/000701 has less than minimum number of pixels (0 < 50)\n",
      "Exception on index 3117: Mask 0050/000712 has less than minimum number of pixels (0 < 50)\n",
      "Exception on index 3118: Mask 0050/000721 has less than minimum number of pixels (0 < 50)\n",
      "Exception on index 3119: Mask 0050/000722 has less than minimum number of pixels (0 < 50)\n",
      "Exception on index 3120: Mask 0050/000735 has less than minimum number of pixels (0 < 50)\n",
      "Exception on index 3121: Mask 0050/000737 has less than minimum number of pixels (0 < 50)\n",
      "Exception on index 3122: Mask 0050/000751 has less than minimum number of pixels (0 < 50)\n",
      "Exception on index 3123: Mask 0050/000757 has less than minimum number of pixels (0 < 50)\n",
      "Exception on index 3124: Mask 0050/000769 has less than minimum number of pixels (0 < 50)\n",
      "Exception on index 3125: Mask 0050/000775 has less than minimum number of pixels (0 < 50)\n",
      "Exception on index 3126: Mask 0050/000786 has less than minimum number of pixels (0 < 50)\n",
      "Exception on index 3127: Mask 0050/000790 has less than minimum number of pixels (0 < 50)\n",
      "Exception on index 3128: Mask 0050/000798 has less than minimum number of pixels (0 < 50)\n",
      "Exception on index 3129: Mask 0050/000802 has less than minimum number of pixels (0 < 50)\n",
      "Exception on index 3130: Mask 0050/000811 has less than minimum number of pixels (0 < 50)\n",
      "Exception on index 3131: Mask 0050/000822 has less than minimum number of pixels (0 < 50)\n",
      "Exception on index 3132: Mask 0050/000830 has less than minimum number of pixels (0 < 50)\n",
      "Exception on index 3133: Mask 0050/000831 has less than minimum number of pixels (0 < 50)\n",
      "Exception on index 3134: Mask 0050/000846 has less than minimum number of pixels (0 < 50)\n",
      "Exception on index 3137: Mask 0050/000887 has less than minimum number of pixels (23 < 50)\n",
      "Exception on index 6530: Mask 0049/001052 has less than minimum number of pixels (31 < 50)\n",
      "Exception on index 6531: Mask 0049/001067 has less than minimum number of pixels (44 < 50)\n",
      "Exception on index 6556: Mask 0049/001319 has less than minimum number of pixels (47 < 50)\n",
      "Exception on index 6558: Mask 0049/001340 has less than minimum number of pixels (48 < 50)\n",
      "Exception on index 6837: Mask 0059/000037 has less than minimum number of pixels (0 < 50)\n",
      "Exception on index 6842: Mask 0059/000088 has less than minimum number of pixels (0 < 50)\n",
      "Exception on index 6861: Mask 0059/000162 has less than minimum number of pixels (2 < 50)\n",
      "Exception on index 6862: Mask 0059/000163 has less than minimum number of pixels (7 < 50)\n",
      "Exception on index 12401: Mask 0048/000656 has less than minimum number of pixels (0 < 50)\n",
      "Exception on index 12412: Mask 0048/000806 has less than minimum number of pixels (0 < 50)\n",
      "Exception on index 13051: Mask 0054/001882 has less than minimum number of pixels (48 < 50)\n",
      "Exception on index 13052: Mask 0054/001888 has less than minimum number of pixels (28 < 50)\n",
      "Exception on index 13054: Mask 0054/001918 has less than minimum number of pixels (0 < 50)\n",
      "Exception on index 13558: Mask 0057/000830 has less than minimum number of pixels (0 < 50)\n",
      "Exception on index 13579: Mask 0057/000940 has less than minimum number of pixels (0 < 50)\n",
      "Exception on index 13580: Mask 0057/000942 has less than minimum number of pixels (0 < 50)\n",
      "Exception on index 13587: Mask 0057/000965 has less than minimum number of pixels (12 < 50)\n",
      "Exception on index 13589: Mask 0057/000973 has less than minimum number of pixels (50 < 50)\n",
      "Exception on index 13595: Mask 0057/000991 has less than minimum number of pixels (12 < 50)\n",
      "Exception on index 13596: Mask 0057/000998 has less than minimum number of pixels (0 < 50)\n",
      "Exception on index 13603: Mask 0057/001054 has less than minimum number of pixels (0 < 50)\n",
      "Exception on index 13604: Mask 0057/001057 has less than minimum number of pixels (25 < 50)\n",
      "Exception on index 13605: Mask 0057/001066 has less than minimum number of pixels (8 < 50)\n",
      "Exception on index 13606: Mask 0057/001071 has less than minimum number of pixels (0 < 50)\n",
      "Exception on index 13607: Mask 0057/001073 has less than minimum number of pixels (1 < 50)\n",
      "Exception on index 13608: Mask 0057/001076 has less than minimum number of pixels (16 < 50)\n",
      "Exception on index 13609: Mask 0057/001078 has less than minimum number of pixels (6 < 50)\n",
      "Exception on index 13610: Mask 0057/001081 has less than minimum number of pixels (0 < 50)\n",
      "Exception on index 13611: Mask 0057/001082 has less than minimum number of pixels (0 < 50)\n",
      "Exception on index 13612: Mask 0057/001083 has less than minimum number of pixels (2 < 50)\n",
      "Exception on index 13613: Mask 0057/001086 has less than minimum number of pixels (5 < 50)\n",
      "Exception on index 13614: Mask 0057/001087 has less than minimum number of pixels (37 < 50)\n",
      "Exception on index 13615: Mask 0057/001092 has less than minimum number of pixels (27 < 50)\n",
      "Exception on index 13617: Mask 0057/001099 has less than minimum number of pixels (3 < 50)\n",
      "Exception on index 13618: Mask 0057/001101 has less than minimum number of pixels (32 < 50)\n",
      "Exception on index 13619: Mask 0057/001108 has less than minimum number of pixels (0 < 50)\n",
      "Exception on index 13621: Mask 0057/001118 has less than minimum number of pixels (2 < 50)\n",
      "Exception on index 13622: Mask 0057/001131 has less than minimum number of pixels (5 < 50)\n",
      "Exception on index 13625: Mask 0057/001138 has less than minimum number of pixels (2 < 50)\n",
      "Exception on index 13628: Mask 0057/001148 has less than minimum number of pixels (2 < 50)\n",
      "Exception on index 13638: Mask 0057/001181 has less than minimum number of pixels (3 < 50)\n",
      "Exception on index 13640: Mask 0057/001190 has less than minimum number of pixels (0 < 50)\n",
      "Exception on index 13691: Mask 0057/001530 has less than minimum number of pixels (4 < 50)\n",
      "Exception on index 13695: Mask 0057/001549 has less than minimum number of pixels (0 < 50)\n",
      "Exception on index 13696: Mask 0057/001560 has less than minimum number of pixels (0 < 50)\n",
      "Exception on index 13698: Mask 0057/001566 has less than minimum number of pixels (44 < 50)\n",
      "Exception on index 13699: Mask 0057/001570 has less than minimum number of pixels (0 < 50)\n",
      "Exception on index 13701: Mask 0057/001589 has less than minimum number of pixels (30 < 50)\n",
      "Exception on index 13702: Mask 0057/001593 has less than minimum number of pixels (37 < 50)\n",
      "Exception on index 13705: Mask 0057/001621 has less than minimum number of pixels (3 < 50)\n",
      "Exception on index 13706: Mask 0057/001628 has less than minimum number of pixels (0 < 50)\n",
      "Exception on index 13708: Mask 0057/001647 has less than minimum number of pixels (29 < 50)\n",
      "Exception on index 13709: Mask 0057/001671 has less than minimum number of pixels (0 < 50)\n",
      "Exception on index 13711: Mask 0057/001691 has less than minimum number of pixels (30 < 50)\n"
     ]
    },
    {
     "name": "stdout",
     "output_type": "stream",
     "text": [
      "Exception on index 13714: Mask 0057/001705 has less than minimum number of pixels (11 < 50)\n",
      "Exception on index 13715: Mask 0057/001708 has less than minimum number of pixels (0 < 50)\n",
      "Exception on index 13716: Mask 0057/001709 has less than minimum number of pixels (0 < 50)\n",
      "Exception on index 13717: Mask 0057/001712 has less than minimum number of pixels (0 < 50)\n",
      "Exception on index 13724: Mask 0057/001740 has less than minimum number of pixels (36 < 50)\n",
      "Exception on index 13728: Mask 0057/001747 has less than minimum number of pixels (0 < 50)\n",
      "Exception on index 13729: Mask 0057/001748 has less than minimum number of pixels (0 < 50)\n",
      "Exception on index 13732: Mask 0057/001774 has less than minimum number of pixels (24 < 50)\n",
      "\n"
     ]
    }
   ],
   "source": [
    "from dense_fusion.network import PoseNet, PoseRefineNet\n",
    "from generic_pose.utils.evaluation_utils import fullEvaluateDenseFusion\n",
    "\n",
    "from tqdm import tqdm_notebook as tqdm\n",
    "import pickle\n",
    "\n",
    "if(df_refine_weights is not None):\n",
    "    df_refine_estimator = PoseRefineNet(num_points = num_points, num_obj = num_objects)\n",
    "    df_refine_estimator.load_state_dict(torch.load(df_refine_weights))\n",
    "    df_refine_estimator.cuda();\n",
    "    df_refine_estimator.eval();\n",
    "else:\n",
    "    df_refine_estimator = None\n",
    "\n",
    "df_estimator = PoseNet(num_points = num_points, num_obj = num_objects)\n",
    "\n",
    "df_estimator.load_state_dict(torch.load(df_weights))\n",
    "df_estimator.cuda();\n",
    "df_estimator.eval();\n",
    "\n",
    "results = {}\n",
    "\n",
    "with torch.no_grad():\n",
    "    for j, data in enumerate(tqdm(dataset)):\n",
    "        obj, quat, trans, img, points, choose = data\n",
    "\n",
    "        if(len(obj) == 0):\n",
    "            results[j] = None\n",
    "            continue\n",
    "\n",
    "        obj = torch.nonzero(torch.LongTensor(dataset.object_labels) == obj)[0] + 1\n",
    "        \n",
    "        res = fullEvaluateDenseFusion(df_estimator, img, points, choose, obj)\n",
    "        max_q, max_t, max_c, max_feat, pred_q, pred_t, pred_c, refine_q, refine_t, global_feat = res\n",
    "        \n",
    "        results[j] = {'max_q':max_q,\n",
    "                      'max_t':max_t,\n",
    "                      'max_c':max_c,\n",
    "                      'max_feat':max_feat,\n",
    "                      'pred_q':pred_q,\n",
    "                      'pred_t':pred_t,\n",
    "                      'pred_c':pred_c,\n",
    "                      'refine_q':refine_q,\n",
    "                      'refine_t':refine_t,\n",
    "                      'global_feat':global_feat}\n",
    "\n",
    "results_filename = 'results_linemod_test_df_' + '.'.join(df_weights.split('/')[-1].split('.')[:-1])\n",
    "if(df_refine_weights is not None):\n",
    "    results_filename += '_' + '.'.join(df_refine_weights.split('/')[-1].split('.')[:-1])\n",
    "results_filename += '.pkl'\n",
    "\n",
    "with open(results_filename, 'wb') as f:\n",
    "    pickle.dump(results, f, protocol=pickle.HIGHEST_PROTOCOL)"
   ]
  },
  {
   "cell_type": "code",
   "execution_count": 20,
   "metadata": {},
   "outputs": [
    {
     "data": {
      "text/plain": [
       "True"
      ]
     },
     "execution_count": 20,
     "metadata": {},
     "output_type": "execute_result"
    }
   ],
   "source": [
    "df_weights.split('/')[-2] == 'ycb_global'"
   ]
  }
 ],
 "metadata": {
  "kernelspec": {
   "display_name": "Python3 (bpy)",
   "language": "python",
   "name": "bpy"
  },
  "language_info": {
   "codemirror_mode": {
    "name": "ipython",
    "version": 3
   },
   "file_extension": ".py",
   "mimetype": "text/x-python",
   "name": "python",
   "nbconvert_exporter": "python",
   "pygments_lexer": "ipython3",
   "version": "3.6.6"
  }
 },
 "nbformat": 4,
 "nbformat_minor": 2
}
