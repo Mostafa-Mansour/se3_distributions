{
 "cells": [
  {
   "cell_type": "code",
   "execution_count": 5,
   "metadata": {},
   "outputs": [],
   "source": [
    "%matplotlib inline\n",
    "import os\n",
    "import cv2\n",
    "import numpy as np\n",
    "import torch\n",
    "from torch.autograd import Variable\n",
    "import quat_math\n",
    "import pickle\n",
    "\n",
    "from PIL import Image\n",
    "import scipy.io as scio\n",
    "from functools import partial\n",
    "from object_pose_utils.utils import to_np, to_var\n",
    "\n",
    "import matplotlib.pyplot as plt\n",
    "import pylab\n",
    "pylab.rcParams['figure.figsize'] = 20, 12\n",
    "from mpl_toolkits.mplot3d import Axes3D  # noqa: F401 unused import\n",
    "\n",
    "import warnings\n",
    "warnings.filterwarnings('ignore')"
   ]
  },
  {
   "cell_type": "code",
   "execution_count": 6,
   "metadata": {},
   "outputs": [],
   "source": [
    "from object_pose_utils.utils.display import *"
   ]
  },
  {
   "cell_type": "markdown",
   "metadata": {},
   "source": [
    "## Select Object Indices of Interest\n",
    "\n",
    "| Object Indices |[]()|[]()|\n",
    "|---|---|---|\n",
    "| __1.__ 002_master_chef_can | __8.__ 009_gelatin_box      | __15.__ 035_power_drill       |\n",
    "| __2.__ 003_cracker_box     | __9.__ 010_potted_meat_can  | __16.__ 036_wood_block        |\n",
    "| __3.__ 004_sugar_box       | __10.__ 011_banana          | __17.__ 037_scissors          |\n",
    "| __4.__ 005_tomato_soup_can | __11.__ 019_pitcher_base    | __18.__ 040_large_marker      |\n",
    "| __5.__ 006_mustard_bottle  | __12.__ 021_bleach_cleanser | __19.__ 051_large_clamp       |\n",
    "| __6.__ 007_tuna_fish_can   | __13.__ 024_bowl            | __20.__ 052_extra_large_clamp |\n",
    "| __7.__ 008_pudding_box     | __14.__ 025_mug             | __21.__ 061_foam_brick        |"
   ]
  },
  {
   "cell_type": "code",
   "execution_count": 7,
   "metadata": {},
   "outputs": [],
   "source": [
    "from transforms3d.quaternions import quat2mat, mat2quat\n",
    "\n",
    "def getPoseCNNQuat(data, obj):\n",
    "    pose_idx = np.where(data['rois'][:,1].flatten()==obj)[0]\n",
    "    if(len(pose_idx) == 0):\n",
    "        return None\n",
    "    else:\n",
    "        pose_idx = pose_idx[0]\n",
    "    pose = data['poses'][pose_idx]\n",
    "    q = pose[:4][[1,2,3,0]]\n",
    "    q /= np.linalg.norm(q)\n",
    "    t = pose[4:7]\n",
    "    return q\n"
   ]
  },
  {
   "cell_type": "code",
   "execution_count": 8,
   "metadata": {},
   "outputs": [],
   "source": [
    "def evaluateFeature(model, objs, features,\n",
    "                    grid_features = None,\n",
    "                    grid_size = 3885):    \n",
    "    num_features = features.shape[0]\n",
    "    feature_size = features.shape[1]\n",
    "\n",
    "    rep_indices = np.repeat(np.arange(num_features), grid_size)\n",
    "    if(grid_features is not None):\n",
    "        g_features = []\n",
    "        for idx in objs:\n",
    "            g_features.append(grid_features[idx.item()])\n",
    "        g_features = torch.stack(g_features)\n",
    "\n",
    "        lik_est = model(to_var(g_features.view(-1, feature_size)).cuda(),\n",
    "                        to_var(features).cuda()[rep_indices])\n",
    "        lik_est = lik_est.view(num_features, grid_size, -1).transpose(1,2)\n",
    "    else:\n",
    "        lik_est = model(to_var(features).cuda())\n",
    "        lik_est = lik_est.view(num_features, -1, grid_size)\n",
    "        \n",
    "    if(lik_est.shape[1] > 1):\n",
    "        obj_idxs = (objs.cuda()-1).view(-1,1,1).repeat(1, 1, grid_size)\n",
    "        lik_est = lik_est.gather(1, obj_idxs)[:,0,:]\n",
    "    else:\n",
    "        lik_est = lik_est.view(num_features, grid_size)\n",
    "    \n",
    "    return lik_est"
   ]
  },
  {
   "cell_type": "code",
   "execution_count": 9,
   "metadata": {},
   "outputs": [],
   "source": [
    "from object_pose_utils.datasets.ycb_dataset import YcbDataset as YCBDataset\n",
    "from object_pose_utils.datasets.feature_dataset import FeatureDataset\n",
    "\n",
    "from object_pose_utils.datasets.image_processing import ImageNormalizer\n",
    "from object_pose_utils.datasets.pose_dataset import OutputTypes as otypes\n",
    "\n",
    "dataset_root = '/ssd0/datasets/ycb/YCB_Video_Dataset'\n",
    "object_list = list(range(1,22))\n",
    "mode = \"test\"\n",
    "\n",
    "output_format = [otypes.OBJECT_LABEL,\n",
    "                 otypes.QUATERNION, \n",
    "                 otypes.IMAGE_CROPPED, \n",
    "                 otypes.DEPTH_POINTS_MASKED_AND_INDEXES]\n",
    "\n"
   ]
  },
  {
   "cell_type": "code",
   "execution_count": 10,
   "metadata": {},
   "outputs": [],
   "source": [
    "test_feature_root = '/scratch/bokorn/results/dense_fusion_local_feat_test/'\n",
    "feature_root = '/scratch/bokorn/results/dense_fusion_global_feat/'\n",
    "feature_key = 'feat_global'\n",
    "\n",
    "reg_model_checkpoint = '/scratch/bokorn/results/log_lik/df_global_reg/{}/lr_1e-5/**/weights/final_*.pth'\n",
    "feature_size = 1024"
   ]
  },
  {
   "cell_type": "code",
   "execution_count": 11,
   "metadata": {},
   "outputs": [
    {
     "ename": "NameError",
     "evalue": "name 'glob' is not defined",
     "output_type": "error",
     "traceback": [
      "\u001b[0;31m---------------------------------------------------------------------------\u001b[0m",
      "\u001b[0;31mNameError\u001b[0m                                 Traceback (most recent call last)",
      "\u001b[0;32m<ipython-input-11-161f8917babf>\u001b[0m in \u001b[0;36m<module>\u001b[0;34m()\u001b[0m\n\u001b[1;32m     10\u001b[0m \u001b[0mgrid_size\u001b[0m \u001b[0;34m=\u001b[0m \u001b[0;36m3885\u001b[0m\u001b[0;34m\u001b[0m\u001b[0m\n\u001b[1;32m     11\u001b[0m \u001b[0;34m\u001b[0m\u001b[0m\n\u001b[0;32m---> 12\u001b[0;31m \u001b[0mmodel_checkpoint\u001b[0m \u001b[0;34m=\u001b[0m \u001b[0msorted\u001b[0m\u001b[0;34m(\u001b[0m\u001b[0mglob\u001b[0m\u001b[0;34m.\u001b[0m\u001b[0mglob\u001b[0m\u001b[0;34m(\u001b[0m\u001b[0mshared_reg_model_checkpoint\u001b[0m\u001b[0;34m,\u001b[0m \u001b[0mrecursive\u001b[0m\u001b[0;34m=\u001b[0m\u001b[0;32mTrue\u001b[0m\u001b[0;34m)\u001b[0m\u001b[0;34m)\u001b[0m\u001b[0;34m[\u001b[0m\u001b[0;34m-\u001b[0m\u001b[0;36m1\u001b[0m\u001b[0;34m]\u001b[0m\u001b[0;34m\u001b[0m\u001b[0m\n\u001b[0m\u001b[1;32m     13\u001b[0m \u001b[0mshared_estimator\u001b[0m \u001b[0;34m=\u001b[0m \u001b[0mSigmoidNet\u001b[0m\u001b[0;34m(\u001b[0m\u001b[0mfeature_size\u001b[0m\u001b[0;34m,\u001b[0m \u001b[0;36m21\u001b[0m\u001b[0;34m*\u001b[0m\u001b[0mgrid_size\u001b[0m\u001b[0;34m)\u001b[0m\u001b[0;34m\u001b[0m\u001b[0m\n\u001b[1;32m     14\u001b[0m \u001b[0mshared_estimator\u001b[0m\u001b[0;34m.\u001b[0m\u001b[0mload_state_dict\u001b[0m\u001b[0;34m(\u001b[0m\u001b[0mtorch\u001b[0m\u001b[0;34m.\u001b[0m\u001b[0mload\u001b[0m\u001b[0;34m(\u001b[0m\u001b[0mmodel_checkpoint\u001b[0m\u001b[0;34m)\u001b[0m\u001b[0;34m)\u001b[0m\u001b[0;34m\u001b[0m\u001b[0m\n",
      "\u001b[0;31mNameError\u001b[0m: name 'glob' is not defined"
     ]
    }
   ],
   "source": [
    "#feature_root = '/scratch/bokorn/results/posecnn_feat_all/'\n",
    "#test_feature_root = feature_root\n",
    "#feature_key = 'fc6'\n",
    "\n",
    "#reg_model_checkpoint = '/scratch/bokorn/results/all_ycb/pcnn_fc6_grid/{}/trainval_no_augs/**/final_20001.pth'\n",
    "#feature_size = 4096\n",
    "\n",
    "shared_reg_model_checkpoint = '/scratch/bokorn/results/log_lik/df_global_reg/lr_1e-5/**/weights/checkpoint_*.pth'\n",
    "feature_size = 1024\n",
    "grid_size = 3885\n",
    "\n",
    "model_checkpoint = sorted(glob.glob(shared_reg_model_checkpoint, recursive=True))[-1]\n",
    "shared_estimator = SigmoidNet(feature_size, 21*grid_size)\n",
    "shared_estimator.load_state_dict(torch.load(model_checkpoint))\n",
    "shared_estimator.cuda();\n",
    "shared_estimator.eval();"
   ]
  },
  {
   "cell_type": "code",
   "execution_count": 7,
   "metadata": {},
   "outputs": [],
   "source": [
    "from se3_distributions.models.compare_networks import SigmoidNet\n",
    "from object_pose_utils.utils.interpolation import TetraInterpolation\n",
    "tetra_interp = TetraInterpolation(2)\n"
   ]
  },
  {
   "cell_type": "code",
   "execution_count": null,
   "metadata": {},
   "outputs": [],
   "source": [
    "from object_pose_utils.datasets.pose_dataset import OutputTypes as otypes\n",
    "from object_pose_utils.datasets.ycb_dataset import YcbDataset as YCBDataset\n",
    "from object_pose_utils.datasets.image_processing import ImageNormalizer\n",
    "from dense_fusion.network import PoseNet, PoseNetGlobal\n",
    "\n",
    "dataset_root = '/ssd0/datasets/ycb/YCB_Video_Dataset/'\n",
    "output_format = [otypes.OBJECT_LABEL,\n",
    "                 otypes.QUATERNION, otypes.IMAGE_CROPPED,\n",
    "                 otypes.DEPTH_POINTS_MASKED_AND_INDEXES]\n",
    "\n",
    "dataset = YCBDataset(dataset_root, mode='test',\n",
    "                     object_list = list(range(1,22)),\n",
    "                     output_data = output_format,\n",
    "                     resample_on_error = False,\n",
    "                     add_syn_background = False,\n",
    "                     add_syn_noise = False,\n",
    "                     use_posecnn_data=True,\n",
    "                     postprocessors = [ImageNormalizer()],\n",
    "                     image_size = [640, 480], num_points=1000)"
   ]
  },
  {
   "cell_type": "code",
   "execution_count": 154,
   "metadata": {},
   "outputs": [],
   "source": [
    "from dense_fusion.network import PoseNet, PoseNetGlobal\n",
    "\n",
    "df_weights = '/home/bokorn/src/DenseFusion/trained_checkpoints/ycb/pose_model_26_0.012863246640872631.pth'\n",
    "df_estimator = PoseNet(num_points = 1000, num_obj = 21)\n",
    "df_estimator.load_state_dict(torch.load(df_weights))\n",
    "df_estimator.cuda();\n",
    "df_estimator.eval();\n",
    "\n",
    "\n",
    "df_global_weights = '/home/bokorn/src/DenseFusion/trained_models/ycb_global/pose_model_13_0.02780649198161978.pth'\n",
    "df_global_estimator = PoseNetGlobal(num_points = 1000, num_obj = 21)\n",
    "df_global_estimator.load_state_dict(torch.load(df_global_weights))\n",
    "df_global_estimator.cuda();\n",
    "df_global_estimator.eval();\n"
   ]
  },
  {
   "cell_type": "code",
   "execution_count": 176,
   "metadata": {},
   "outputs": [
    {
     "ename": "IndexError",
     "evalue": "list index out of range",
     "output_type": "error",
     "traceback": [
      "\u001b[0;31m---------------------------------------------------------------------------\u001b[0m",
      "\u001b[0;31mIndexError\u001b[0m                                Traceback (most recent call last)",
      "\u001b[0;32m<ipython-input-176-6bd379cd6cbe>\u001b[0m in \u001b[0;36m<module>\u001b[0;34m()\u001b[0m\n\u001b[1;32m      1\u001b[0m \u001b[0mestimator_idv\u001b[0m \u001b[0;34m=\u001b[0m \u001b[0;34m{\u001b[0m\u001b[0;34m}\u001b[0m\u001b[0;34m\u001b[0m\u001b[0m\n\u001b[1;32m      2\u001b[0m \u001b[0;32mfor\u001b[0m \u001b[0mobject_id\u001b[0m \u001b[0;32min\u001b[0m \u001b[0mlist\u001b[0m\u001b[0;34m(\u001b[0m\u001b[0mrange\u001b[0m\u001b[0;34m(\u001b[0m\u001b[0;36m1\u001b[0m\u001b[0;34m,\u001b[0m\u001b[0;36m22\u001b[0m\u001b[0;34m)\u001b[0m\u001b[0;34m)\u001b[0m\u001b[0;34m:\u001b[0m\u001b[0;34m\u001b[0m\u001b[0m\n\u001b[0;32m----> 3\u001b[0;31m     \u001b[0mmodel_checkpoint\u001b[0m \u001b[0;34m=\u001b[0m \u001b[0msorted\u001b[0m\u001b[0;34m(\u001b[0m\u001b[0mglob\u001b[0m\u001b[0;34m.\u001b[0m\u001b[0mglob\u001b[0m\u001b[0;34m(\u001b[0m\u001b[0mreg_model_checkpoint\u001b[0m\u001b[0;34m.\u001b[0m\u001b[0mformat\u001b[0m\u001b[0;34m(\u001b[0m\u001b[0mobject_id\u001b[0m\u001b[0;34m)\u001b[0m\u001b[0;34m,\u001b[0m \u001b[0mrecursive\u001b[0m\u001b[0;34m=\u001b[0m\u001b[0;32mTrue\u001b[0m\u001b[0;34m)\u001b[0m\u001b[0;34m)\u001b[0m\u001b[0;34m[\u001b[0m\u001b[0;34m-\u001b[0m\u001b[0;36m1\u001b[0m\u001b[0;34m]\u001b[0m\u001b[0;34m\u001b[0m\u001b[0m\n\u001b[0m\u001b[1;32m      4\u001b[0m     \u001b[0mestimator_idv\u001b[0m\u001b[0;34m[\u001b[0m\u001b[0mobject_id\u001b[0m\u001b[0;34m]\u001b[0m \u001b[0;34m=\u001b[0m \u001b[0mSigmoidNet\u001b[0m\u001b[0;34m(\u001b[0m\u001b[0mfeature_size\u001b[0m\u001b[0;34m,\u001b[0m \u001b[0mgrid_size\u001b[0m\u001b[0;34m)\u001b[0m\u001b[0;34m\u001b[0m\u001b[0m\n\u001b[1;32m      5\u001b[0m     \u001b[0mestimator_idv\u001b[0m\u001b[0;34m[\u001b[0m\u001b[0mobject_id\u001b[0m\u001b[0;34m]\u001b[0m\u001b[0;34m.\u001b[0m\u001b[0mload_state_dict\u001b[0m\u001b[0;34m(\u001b[0m\u001b[0mtorch\u001b[0m\u001b[0;34m.\u001b[0m\u001b[0mload\u001b[0m\u001b[0;34m(\u001b[0m\u001b[0mmodel_checkpoint\u001b[0m\u001b[0;34m)\u001b[0m\u001b[0;34m)\u001b[0m\u001b[0;34m\u001b[0m\u001b[0m\n",
      "\u001b[0;31mIndexError\u001b[0m: list index out of range"
     ]
    }
   ],
   "source": [
    "estimator_idv = {}\n",
    "for object_id in list(range(1,22)):\n",
    "    model_checkpoint = sorted(glob.glob(reg_model_checkpoint.format(object_id), recursive=True))[-1]\n",
    "    estimator_idv[object_id] = SigmoidNet(feature_size, grid_size)\n",
    "    estimator_idv[object_id].load_state_dict(torch.load(model_checkpoint))\n",
    "    estimator_idv[object_id].cuda();\n",
    "    estimator_idv[object_id].eval();\n",
    "    "
   ]
  },
  {
   "cell_type": "code",
   "execution_count": 143,
   "metadata": {},
   "outputs": [],
   "source": [
    "import glob\n",
    "from se3_distributions.datasets.ycb_dataset import getYCBSymmeties\n",
    "from object_pose_utils.utils.pose_processing import symmetricAngularDistance, meanShift\n",
    "\n",
    "grid_size = 3885\n",
    "\n",
    "for object_id in [13]:\n",
    "    model_checkpoint = sorted(glob.glob(reg_model_checkpoint.format(object_id), recursive=True))[-1]\n",
    "    estimator = SigmoidNet(feature_size, grid_size)\n",
    "    estimator.load_state_dict(torch.load(model_checkpoint))\n",
    "    estimator.cuda();\n",
    "    estimator.eval();\n",
    "\n",
    "    sym_axis, sym_ang = getYCBSymmeties(object_id)\n",
    "    ycb_dataset = FeatureDataset(dataset_root = dataset_root,\n",
    "                                 feature_root = test_feature_root,\n",
    "                                 feature_key = feature_key,\n",
    "                                 resample_on_error = False,\n",
    "                                 mode=mode, object_list = [object_id])\n",
    "\n",
    "    train_dataset = FeatureDataset(dataset_root = dataset_root,\n",
    "                               feature_root = feature_root,\n",
    "                               #feature_key = feature_key,\n",
    "                               resample_on_error = False,\n",
    "                               mode='train', object_list = [object_id])\n",
    "    \n",
    "    grid_vertices = torch.load(os.path.join(feature_root, 'grid',\n",
    "        '{}_vertices.pt'.format(ycb_dataset.classes[object_id])))\n"
   ]
  },
  {
   "cell_type": "code",
   "execution_count": null,
   "metadata": {},
   "outputs": [],
   "source": []
  },
  {
   "cell_type": "code",
   "execution_count": null,
   "metadata": {
    "scrolled": false
   },
   "outputs": [],
   "source": [
    "idx = np.random.randint(len(dataset))\n",
    "data = dataset[idx]\n",
    "obj, quat, img, points, choose = data\n",
    "#print(obj)\n",
    "imshowTorch(img, normalized=True)\n",
    "plt.show()\n",
    "\n",
    "df_obj_idx = obj - 1\n",
    "img = img.unsqueeze(0).cuda()\n",
    "points = points.unsqueeze(0).cuda()\n",
    "choose = choose.unsqueeze(0).cuda()\n",
    "df_obj_idx = df_obj_idx.unsqueeze(0).cuda()\n",
    "#pred_r, pred_t, pred_c, emb, feat_local, feat = df_estimator.allFeatures(img, points, choose, df_obj_idx)\n",
    "#lik_est = evaluateFeature(shared_estimator, obj, feat, None)\n",
    "#scatterSO3(to_np(grid_vertices), to_np(lik_est[0]), [to_np(quat)])\n",
    "#plt.show()\n",
    "\n",
    "feat = df_global_estimator.globalFeature(img, points, choose, df_obj_idx)\n",
    "lik_est = evaluateFeature(shared_estimator, obj, feat, None)\n",
    "scatterSO3(to_np(grid_vertices), to_np(lik_est[0]), [to_np(quat)])\n",
    "plt.show()\n",
    "\n",
    "feat = df_global_estimator.globalFeature(img, points, choose, df_obj_idx)\n",
    "lik_est = evaluateFeature(estimator_idv[obj.item()], obj, feat, None)\n",
    "scatterSO3(to_np(grid_vertices), to_np(lik_est[0]), [to_np(quat)])\n",
    "plt.show()"
   ]
  },
  {
   "cell_type": "code",
   "execution_count": 4,
   "metadata": {},
   "outputs": [
    {
     "ename": "NameError",
     "evalue": "name 'ycb_dataset' is not defined",
     "output_type": "error",
     "traceback": [
      "\u001b[0;31m---------------------------------------------------------------------------\u001b[0m",
      "\u001b[0;31mNameError\u001b[0m                                 Traceback (most recent call last)",
      "\u001b[0;32m<ipython-input-4-ebb312244346>\u001b[0m in \u001b[0;36m<module>\u001b[0;34m()\u001b[0m\n\u001b[0;32m----> 1\u001b[0;31m \u001b[0;32mfor\u001b[0m \u001b[0mdata\u001b[0m \u001b[0;32min\u001b[0m \u001b[0mycb_dataset\u001b[0m\u001b[0;34m:\u001b[0m\u001b[0;34m\u001b[0m\u001b[0m\n\u001b[0m\u001b[1;32m      2\u001b[0m     \u001b[0mobj\u001b[0m\u001b[0;34m,\u001b[0m \u001b[0mfeat\u001b[0m\u001b[0;34m,\u001b[0m \u001b[0mquat\u001b[0m \u001b[0;34m=\u001b[0m \u001b[0mdata\u001b[0m\u001b[0;34m\u001b[0m\u001b[0m\n\u001b[1;32m      3\u001b[0m     \u001b[0;32mbreak\u001b[0m\u001b[0;34m\u001b[0m\u001b[0m\n\u001b[1;32m      4\u001b[0m \u001b[0;34m\u001b[0m\u001b[0m\n\u001b[1;32m      5\u001b[0m \u001b[0;31m#for train_data in train_dataset:\u001b[0m\u001b[0;34m\u001b[0m\u001b[0;34m\u001b[0m\u001b[0m\n",
      "\u001b[0;31mNameError\u001b[0m: name 'ycb_dataset' is not defined"
     ]
    }
   ],
   "source": [
    "for data in ycb_dataset:\n",
    "    obj, feat, quat = data\n",
    "    break\n",
    "\n",
    "#for train_data in train_dataset:\n",
    "#    obj, feat, quat = train_data\n",
    "#    break    \n",
    "    \n",
    "feat = to_var(feat).unsqueeze(0)\n",
    "print(to_np(feat[0]))\n",
    "lik_est = shared_estimator(feat)\n",
    "lik_est = lik_est.view(1, -1, grid_size)\n",
    "\n",
    "if(lik_est.shape[1] > 1):\n",
    "    obj_idxs = (obj.cuda()-1).view(-1,1,1).repeat(1, 1, grid_size)\n",
    "    lik_est = lik_est.gather(1, obj_idxs)[:,0,:]\n",
    "else:\n",
    "    lik_est = lik_est.view(num_features, grid_size)\n",
    "\n",
    "print(to_np(lik_est[0]))\n",
    "\n",
    "scatterSO3(to_np(grid_vertices), to_np(lik_est[0]), [to_np(quat)])\n",
    "plt.show()"
   ]
  },
  {
   "cell_type": "code",
   "execution_count": 128,
   "metadata": {},
   "outputs": [
    {
     "data": {
      "text/plain": [
       "3"
      ]
     },
     "execution_count": 128,
     "metadata": {},
     "output_type": "execute_result"
    }
   ],
   "source": [
    "np.sum(to_np(lik_est[0])>.000005)"
   ]
  },
  {
   "cell_type": "code",
   "execution_count": 131,
   "metadata": {},
   "outputs": [
    {
     "data": {
      "image/png": "[encoded data removed]",
      "text/plain": [
       "<Figure size 432x288 with 1 Axes>"
      ]
     },
     "metadata": {
      "needs_background": "light"
     },
     "output_type": "display_data"
    }
   ],
   "source": [
    "for train_data in train_dataset:\n",
    "    break\n",
    "\n",
    "    \n",
    "obj, feat, quat = train_data\n",
    "feat = to_var(feat).unsqueeze(0)\n",
    "\n",
    "lik_est = estimator(feat)\n",
    "scatterSO3(to_np(grid_vertices), to_np(lik_est[0]), [to_np(quat)])\n",
    "plt.show()"
   ]
  },
  {
   "cell_type": "code",
   "execution_count": 106,
   "metadata": {},
   "outputs": [
    {
     "data": {
      "text/plain": [
       "'/scratch/bokorn/results/log_lik/df_global_reg/13/lr_1e-5/2019-09-03_05-55-38/weights/final_22001.pth'"
      ]
     },
     "execution_count": 106,
     "metadata": {},
     "output_type": "execute_result"
    }
   ],
   "source": [
    "model_checkpoint"
   ]
  },
  {
   "cell_type": "code",
   "execution_count": 24,
   "metadata": {},
   "outputs": [
    {
     "name": "stdout",
     "output_type": "stream",
     "text": [
      "\u001b[0m\u001b[01;34m0048\u001b[0m/  \u001b[01;34m0050\u001b[0m/  \u001b[01;34m0052\u001b[0m/  \u001b[01;34m0054\u001b[0m/  \u001b[01;34m0056\u001b[0m/  \u001b[01;34m0058\u001b[0m/\r\n",
      "\u001b[01;34m0049\u001b[0m/  \u001b[01;34m0051\u001b[0m/  \u001b[01;34m0053\u001b[0m/  \u001b[01;34m0055\u001b[0m/  \u001b[01;34m0057\u001b[0m/  \u001b[01;34m0059\u001b[0m/\r\n"
     ]
    }
   ],
   "source": [
    "ls /scratch/bokorn/results/dense_fusion_local_feat_test/data"
   ]
  },
  {
   "cell_type": "code",
   "execution_count": null,
   "metadata": {},
   "outputs": [],
   "source": [
    "ls /scratch/bokorn/results/dense_fusion_global_feat/data/"
   ]
  },
  {
   "cell_type": "code",
   "execution_count": 30,
   "metadata": {},
   "outputs": [
    {
     "data": {
      "application/vnd.jupyter.widget-view+json": {
       "model_id": "4b2a1fbac68448cbb1c68c818b19c7d2",
       "version_major": 2,
       "version_minor": 0
      },
      "text/plain": [
       "HBox(children=(IntProgress(value=0, max=21), HTML(value='')))"
      ]
     },
     "metadata": {},
     "output_type": "display_data"
    },
    {
     "data": {
      "application/vnd.jupyter.widget-view+json": {
       "model_id": "378d10dbd1c049c1bb41f3ee5fd87d9e",
       "version_major": 2,
       "version_minor": 0
      },
      "text/plain": [
       "HBox(children=(IntProgress(value=0, max=1006), HTML(value='')))"
      ]
     },
     "metadata": {},
     "output_type": "display_data"
    },
    {
     "data": {
      "application/vnd.jupyter.widget-view+json": {
       "model_id": "34b7ad4ae3a945e691598f86da73b6c6",
       "version_major": 2,
       "version_minor": 0
      },
      "text/plain": [
       "HBox(children=(IntProgress(value=0, max=868), HTML(value='')))"
      ]
     },
     "metadata": {},
     "output_type": "display_data"
    },
    {
     "data": {
      "application/vnd.jupyter.widget-view+json": {
       "model_id": "63d015a866fa4c269e2619e74b39b95e",
       "version_major": 2,
       "version_minor": 0
      },
      "text/plain": [
       "HBox(children=(IntProgress(value=0, max=1182), HTML(value='')))"
      ]
     },
     "metadata": {},
     "output_type": "display_data"
    },
    {
     "data": {
      "application/vnd.jupyter.widget-view+json": {
       "model_id": "70abef1d86a040d7b95d6644ae0bf122",
       "version_major": 2,
       "version_minor": 0
      },
      "text/plain": [
       "HBox(children=(IntProgress(value=0, max=1440), HTML(value='')))"
      ]
     },
     "metadata": {},
     "output_type": "display_data"
    },
    {
     "name": "stdout",
     "output_type": "stream",
     "text": [
      "Exception on index 49: [Errno 2] No such file or directory: '/scratch/bokorn/results/dense_fusion_local_feat_rot/data/0050/000633_005_tomato_soup_can_feat.npz'\n",
      "Exception on index 50: [Errno 2] No such file or directory: '/scratch/bokorn/results/dense_fusion_local_feat_rot/data/0050/000640_005_tomato_soup_can_feat.npz'\n",
      "Exception on index 51: [Errno 2] No such file or directory: '/scratch/bokorn/results/dense_fusion_local_feat_rot/data/0050/000642_005_tomato_soup_can_feat.npz'\n",
      "Exception on index 52: [Errno 2] No such file or directory: '/scratch/bokorn/results/dense_fusion_local_feat_rot/data/0050/000644_005_tomato_soup_can_feat.npz'\n",
      "Exception on index 54: [Errno 2] No such file or directory: '/scratch/bokorn/results/dense_fusion_local_feat_rot/data/0050/000653_005_tomato_soup_can_feat.npz'\n",
      "Exception on index 55: [Errno 2] No such file or directory: '/scratch/bokorn/results/dense_fusion_local_feat_rot/data/0050/000660_005_tomato_soup_can_feat.npz'\n",
      "Exception on index 57: [Errno 2] No such file or directory: '/scratch/bokorn/results/dense_fusion_local_feat_rot/data/0050/000671_005_tomato_soup_can_feat.npz'\n",
      "Exception on index 58: [Errno 2] No such file or directory: '/scratch/bokorn/results/dense_fusion_local_feat_rot/data/0050/000681_005_tomato_soup_can_feat.npz'\n",
      "Exception on index 59: [Errno 2] No such file or directory: '/scratch/bokorn/results/dense_fusion_local_feat_rot/data/0050/000682_005_tomato_soup_can_feat.npz'\n",
      "Exception on index 60: [Errno 2] No such file or directory: '/scratch/bokorn/results/dense_fusion_local_feat_rot/data/0050/000701_005_tomato_soup_can_feat.npz'\n",
      "Exception on index 553: [Errno 2] No such file or directory: '/scratch/bokorn/results/dense_fusion_local_feat_rot/data/0055/000022_005_tomato_soup_can_feat.npz'\n",
      "Exception on index 559: [Errno 2] No such file or directory: '/scratch/bokorn/results/dense_fusion_local_feat_rot/data/0055/000089_005_tomato_soup_can_feat.npz'\n",
      "Exception on index 560: [Errno 2] No such file or directory: '/scratch/bokorn/results/dense_fusion_local_feat_rot/data/0055/000094_005_tomato_soup_can_feat.npz'\n",
      "Exception on index 561: [Errno 2] No such file or directory: '/scratch/bokorn/results/dense_fusion_local_feat_rot/data/0055/000100_005_tomato_soup_can_feat.npz'\n",
      "Exception on index 562: [Errno 2] No such file or directory: '/scratch/bokorn/results/dense_fusion_local_feat_rot/data/0055/000107_005_tomato_soup_can_feat.npz'\n",
      "Exception on index 563: [Errno 2] No such file or directory: '/scratch/bokorn/results/dense_fusion_local_feat_rot/data/0055/000122_005_tomato_soup_can_feat.npz'\n",
      "Exception on index 564: [Errno 2] No such file or directory: '/scratch/bokorn/results/dense_fusion_local_feat_rot/data/0055/000128_005_tomato_soup_can_feat.npz'\n",
      "Exception on index 565: [Errno 2] No such file or directory: '/scratch/bokorn/results/dense_fusion_local_feat_rot/data/0055/000155_005_tomato_soup_can_feat.npz'\n",
      "Exception on index 566: [Errno 2] No such file or directory: '/scratch/bokorn/results/dense_fusion_local_feat_rot/data/0055/000179_005_tomato_soup_can_feat.npz'\n",
      "Exception on index 567: [Errno 2] No such file or directory: '/scratch/bokorn/results/dense_fusion_local_feat_rot/data/0055/000204_005_tomato_soup_can_feat.npz'\n",
      "Exception on index 568: [Errno 2] No such file or directory: '/scratch/bokorn/results/dense_fusion_local_feat_rot/data/0055/000205_005_tomato_soup_can_feat.npz'\n",
      "Exception on index 569: [Errno 2] No such file or directory: '/scratch/bokorn/results/dense_fusion_local_feat_rot/data/0055/000218_005_tomato_soup_can_feat.npz'\n",
      "Exception on index 570: [Errno 2] No such file or directory: '/scratch/bokorn/results/dense_fusion_local_feat_rot/data/0055/000219_005_tomato_soup_can_feat.npz'\n",
      "Exception on index 571: [Errno 2] No such file or directory: '/scratch/bokorn/results/dense_fusion_local_feat_rot/data/0055/000229_005_tomato_soup_can_feat.npz'\n",
      "Exception on index 572: [Errno 2] No such file or directory: '/scratch/bokorn/results/dense_fusion_local_feat_rot/data/0055/000231_005_tomato_soup_can_feat.npz'\n",
      "Exception on index 573: [Errno 2] No such file or directory: '/scratch/bokorn/results/dense_fusion_local_feat_rot/data/0055/000240_005_tomato_soup_can_feat.npz'\n",
      "Exception on index 574: [Errno 2] No such file or directory: '/scratch/bokorn/results/dense_fusion_local_feat_rot/data/0055/000245_005_tomato_soup_can_feat.npz'\n",
      "Exception on index 575: [Errno 2] No such file or directory: '/scratch/bokorn/results/dense_fusion_local_feat_rot/data/0055/000255_005_tomato_soup_can_feat.npz'\n",
      "Exception on index 576: [Errno 2] No such file or directory: '/scratch/bokorn/results/dense_fusion_local_feat_rot/data/0055/000259_005_tomato_soup_can_feat.npz'\n",
      "Exception on index 577: [Errno 2] No such file or directory: '/scratch/bokorn/results/dense_fusion_local_feat_rot/data/0055/000271_005_tomato_soup_can_feat.npz'\n",
      "Exception on index 578: [Errno 2] No such file or directory: '/scratch/bokorn/results/dense_fusion_local_feat_rot/data/0055/000273_005_tomato_soup_can_feat.npz'\n",
      "Exception on index 579: [Errno 2] No such file or directory: '/scratch/bokorn/results/dense_fusion_local_feat_rot/data/0055/000278_005_tomato_soup_can_feat.npz'\n",
      "Exception on index 580: [Errno 2] No such file or directory: '/scratch/bokorn/results/dense_fusion_local_feat_rot/data/0055/000289_005_tomato_soup_can_feat.npz'\n",
      "Exception on index 581: [Errno 2] No such file or directory: '/scratch/bokorn/results/dense_fusion_local_feat_rot/data/0055/000303_005_tomato_soup_can_feat.npz'\n",
      "Exception on index 582: [Errno 2] No such file or directory: '/scratch/bokorn/results/dense_fusion_local_feat_rot/data/0055/000305_005_tomato_soup_can_feat.npz'\n",
      "Exception on index 583: [Errno 2] No such file or directory: '/scratch/bokorn/results/dense_fusion_local_feat_rot/data/0055/000320_005_tomato_soup_can_feat.npz'\n",
      "Exception on index 584: [Errno 2] No such file or directory: '/scratch/bokorn/results/dense_fusion_local_feat_rot/data/0055/000346_005_tomato_soup_can_feat.npz'\n",
      "Exception on index 587: [Errno 2] No such file or directory: '/scratch/bokorn/results/dense_fusion_local_feat_rot/data/0055/000354_005_tomato_soup_can_feat.npz'\n",
      "Exception on index 588: [Errno 2] No such file or directory: '/scratch/bokorn/results/dense_fusion_local_feat_rot/data/0055/000355_005_tomato_soup_can_feat.npz'\n",
      "Exception on index 589: [Errno 2] No such file or directory: '/scratch/bokorn/results/dense_fusion_local_feat_rot/data/0055/000356_005_tomato_soup_can_feat.npz'\n",
      "Exception on index 590: [Errno 2] No such file or directory: '/scratch/bokorn/results/dense_fusion_local_feat_rot/data/0055/000358_005_tomato_soup_can_feat.npz'\n",
      "Exception on index 591: [Errno 2] No such file or directory: '/scratch/bokorn/results/dense_fusion_local_feat_rot/data/0055/000359_005_tomato_soup_can_feat.npz'\n",
      "Exception on index 592: [Errno 2] No such file or directory: '/scratch/bokorn/results/dense_fusion_local_feat_rot/data/0055/000360_005_tomato_soup_can_feat.npz'\n",
      "Exception on index 624: [Errno 2] No such file or directory: '/scratch/bokorn/results/dense_fusion_local_feat_rot/data/0055/000546_005_tomato_soup_can_feat.npz'\n",
      "Exception on index 625: [Errno 2] No such file or directory: '/scratch/bokorn/results/dense_fusion_local_feat_rot/data/0055/000562_005_tomato_soup_can_feat.npz'\n",
      "Exception on index 626: [Errno 2] No such file or directory: '/scratch/bokorn/results/dense_fusion_local_feat_rot/data/0055/000563_005_tomato_soup_can_feat.npz'\n",
      "Exception on index 627: [Errno 2] No such file or directory: '/scratch/bokorn/results/dense_fusion_local_feat_rot/data/0055/000588_005_tomato_soup_can_feat.npz'\n",
      "Exception on index 628: [Errno 2] No such file or directory: '/scratch/bokorn/results/dense_fusion_local_feat_rot/data/0055/000598_005_tomato_soup_can_feat.npz'\n",
      "Exception on index 629: [Errno 2] No such file or directory: '/scratch/bokorn/results/dense_fusion_local_feat_rot/data/0055/000603_005_tomato_soup_can_feat.npz'\n",
      "Exception on index 630: [Errno 2] No such file or directory: '/scratch/bokorn/results/dense_fusion_local_feat_rot/data/0055/000610_005_tomato_soup_can_feat.npz'\n",
      "Exception on index 631: [Errno 2] No such file or directory: '/scratch/bokorn/results/dense_fusion_local_feat_rot/data/0055/000612_005_tomato_soup_can_feat.npz'\n",
      "Exception on index 632: [Errno 2] No such file or directory: '/scratch/bokorn/results/dense_fusion_local_feat_rot/data/0055/000618_005_tomato_soup_can_feat.npz'\n",
      "Exception on index 633: [Errno 2] No such file or directory: '/scratch/bokorn/results/dense_fusion_local_feat_rot/data/0055/000621_005_tomato_soup_can_feat.npz'\n",
      "Exception on index 634: [Errno 2] No such file or directory: '/scratch/bokorn/results/dense_fusion_local_feat_rot/data/0055/000622_005_tomato_soup_can_feat.npz'\n",
      "Exception on index 635: [Errno 2] No such file or directory: '/scratch/bokorn/results/dense_fusion_local_feat_rot/data/0055/000638_005_tomato_soup_can_feat.npz'\n",
      "Exception on index 636: [Errno 2] No such file or directory: '/scratch/bokorn/results/dense_fusion_local_feat_rot/data/0055/000641_005_tomato_soup_can_feat.npz'\n",
      "Exception on index 637: [Errno 2] No such file or directory: '/scratch/bokorn/results/dense_fusion_local_feat_rot/data/0055/000649_005_tomato_soup_can_feat.npz'\n"
     ]
    },
    {
     "name": "stdout",
     "output_type": "stream",
     "text": [
      "Exception on index 638: [Errno 2] No such file or directory: '/scratch/bokorn/results/dense_fusion_local_feat_rot/data/0055/000654_005_tomato_soup_can_feat.npz'\n",
      "Exception on index 639: [Errno 2] No such file or directory: '/scratch/bokorn/results/dense_fusion_local_feat_rot/data/0055/000663_005_tomato_soup_can_feat.npz'\n",
      "Exception on index 640: [Errno 2] No such file or directory: '/scratch/bokorn/results/dense_fusion_local_feat_rot/data/0055/000668_005_tomato_soup_can_feat.npz'\n",
      "Exception on index 641: [Errno 2] No such file or directory: '/scratch/bokorn/results/dense_fusion_local_feat_rot/data/0055/000686_005_tomato_soup_can_feat.npz'\n",
      "Exception on index 642: [Errno 2] No such file or directory: '/scratch/bokorn/results/dense_fusion_local_feat_rot/data/0055/000687_005_tomato_soup_can_feat.npz'\n",
      "Exception on index 643: [Errno 2] No such file or directory: '/scratch/bokorn/results/dense_fusion_local_feat_rot/data/0055/000702_005_tomato_soup_can_feat.npz'\n",
      "Exception on index 644: [Errno 2] No such file or directory: '/scratch/bokorn/results/dense_fusion_local_feat_rot/data/0055/000710_005_tomato_soup_can_feat.npz'\n",
      "Exception on index 680: [Errno 2] No such file or directory: '/scratch/bokorn/results/dense_fusion_local_feat_rot/data/0055/000937_005_tomato_soup_can_feat.npz'\n",
      "Exception on index 681: [Errno 2] No such file or directory: '/scratch/bokorn/results/dense_fusion_local_feat_rot/data/0055/000944_005_tomato_soup_can_feat.npz'\n",
      "Exception on index 682: [Errno 2] No such file or directory: '/scratch/bokorn/results/dense_fusion_local_feat_rot/data/0055/000951_005_tomato_soup_can_feat.npz'\n",
      "Exception on index 683: [Errno 2] No such file or directory: '/scratch/bokorn/results/dense_fusion_local_feat_rot/data/0055/000958_005_tomato_soup_can_feat.npz'\n",
      "Exception on index 684: [Errno 2] No such file or directory: '/scratch/bokorn/results/dense_fusion_local_feat_rot/data/0055/000968_005_tomato_soup_can_feat.npz'\n",
      "Exception on index 685: [Errno 2] No such file or directory: '/scratch/bokorn/results/dense_fusion_local_feat_rot/data/0055/000983_005_tomato_soup_can_feat.npz'\n",
      "Exception on index 686: [Errno 2] No such file or directory: '/scratch/bokorn/results/dense_fusion_local_feat_rot/data/0055/000989_005_tomato_soup_can_feat.npz'\n",
      "Exception on index 687: [Errno 2] No such file or directory: '/scratch/bokorn/results/dense_fusion_local_feat_rot/data/0055/000997_005_tomato_soup_can_feat.npz'\n",
      "Exception on index 688: [Errno 2] No such file or directory: '/scratch/bokorn/results/dense_fusion_local_feat_rot/data/0055/001009_005_tomato_soup_can_feat.npz'\n",
      "Exception on index 689: [Errno 2] No such file or directory: '/scratch/bokorn/results/dense_fusion_local_feat_rot/data/0055/001019_005_tomato_soup_can_feat.npz'\n",
      "Exception on index 690: [Errno 2] No such file or directory: '/scratch/bokorn/results/dense_fusion_local_feat_rot/data/0055/001025_005_tomato_soup_can_feat.npz'\n",
      "Exception on index 708: [Errno 2] No such file or directory: '/scratch/bokorn/results/dense_fusion_local_feat_rot/data/0055/001132_005_tomato_soup_can_feat.npz'\n",
      "Exception on index 710: [Errno 2] No such file or directory: '/scratch/bokorn/results/dense_fusion_local_feat_rot/data/0055/001147_005_tomato_soup_can_feat.npz'\n",
      "Exception on index 711: [Errno 2] No such file or directory: '/scratch/bokorn/results/dense_fusion_local_feat_rot/data/0055/001151_005_tomato_soup_can_feat.npz'\n",
      "Exception on index 712: [Errno 2] No such file or directory: '/scratch/bokorn/results/dense_fusion_local_feat_rot/data/0055/001161_005_tomato_soup_can_feat.npz'\n",
      "Exception on index 713: [Errno 2] No such file or directory: '/scratch/bokorn/results/dense_fusion_local_feat_rot/data/0055/001164_005_tomato_soup_can_feat.npz'\n",
      "Exception on index 714: [Errno 2] No such file or directory: '/scratch/bokorn/results/dense_fusion_local_feat_rot/data/0055/001176_005_tomato_soup_can_feat.npz'\n",
      "Exception on index 715: [Errno 2] No such file or directory: '/scratch/bokorn/results/dense_fusion_local_feat_rot/data/0055/001177_005_tomato_soup_can_feat.npz'\n",
      "Exception on index 716: [Errno 2] No such file or directory: '/scratch/bokorn/results/dense_fusion_local_feat_rot/data/0055/001187_005_tomato_soup_can_feat.npz'\n",
      "Exception on index 717: [Errno 2] No such file or directory: '/scratch/bokorn/results/dense_fusion_local_feat_rot/data/0055/001188_005_tomato_soup_can_feat.npz'\n",
      "Exception on index 718: [Errno 2] No such file or directory: '/scratch/bokorn/results/dense_fusion_local_feat_rot/data/0055/001189_005_tomato_soup_can_feat.npz'\n",
      "Exception on index 719: [Errno 2] No such file or directory: '/scratch/bokorn/results/dense_fusion_local_feat_rot/data/0055/001200_005_tomato_soup_can_feat.npz'\n",
      "Exception on index 720: [Errno 2] No such file or directory: '/scratch/bokorn/results/dense_fusion_local_feat_rot/data/0055/001202_005_tomato_soup_can_feat.npz'\n",
      "Exception on index 721: [Errno 2] No such file or directory: '/scratch/bokorn/results/dense_fusion_local_feat_rot/data/0055/001215_005_tomato_soup_can_feat.npz'\n",
      "Exception on index 722: [Errno 2] No such file or directory: '/scratch/bokorn/results/dense_fusion_local_feat_rot/data/0055/001216_005_tomato_soup_can_feat.npz'\n",
      "Exception on index 723: [Errno 2] No such file or directory: '/scratch/bokorn/results/dense_fusion_local_feat_rot/data/0055/001229_005_tomato_soup_can_feat.npz'\n",
      "Exception on index 724: [Errno 2] No such file or directory: '/scratch/bokorn/results/dense_fusion_local_feat_rot/data/0055/001237_005_tomato_soup_can_feat.npz'\n",
      "Exception on index 725: [Errno 2] No such file or directory: '/scratch/bokorn/results/dense_fusion_local_feat_rot/data/0055/001244_005_tomato_soup_can_feat.npz'\n",
      "Exception on index 726: [Errno 2] No such file or directory: '/scratch/bokorn/results/dense_fusion_local_feat_rot/data/0055/001252_005_tomato_soup_can_feat.npz'\n",
      "Exception on index 727: [Errno 2] No such file or directory: '/scratch/bokorn/results/dense_fusion_local_feat_rot/data/0055/001265_005_tomato_soup_can_feat.npz'\n",
      "Exception on index 728: [Errno 2] No such file or directory: '/scratch/bokorn/results/dense_fusion_local_feat_rot/data/0055/001266_005_tomato_soup_can_feat.npz'\n",
      "Exception on index 729: [Errno 2] No such file or directory: '/scratch/bokorn/results/dense_fusion_local_feat_rot/data/0055/001276_005_tomato_soup_can_feat.npz'\n",
      "Exception on index 730: [Errno 2] No such file or directory: '/scratch/bokorn/results/dense_fusion_local_feat_rot/data/0055/001283_005_tomato_soup_can_feat.npz'\n",
      "Exception on index 731: [Errno 2] No such file or directory: '/scratch/bokorn/results/dense_fusion_local_feat_rot/data/0055/001291_005_tomato_soup_can_feat.npz'\n",
      "Exception on index 732: [Errno 2] No such file or directory: '/scratch/bokorn/results/dense_fusion_local_feat_rot/data/0055/001298_005_tomato_soup_can_feat.npz'\n",
      "Exception on index 733: [Errno 2] No such file or directory: '/scratch/bokorn/results/dense_fusion_local_feat_rot/data/0055/001307_005_tomato_soup_can_feat.npz'\n",
      "Exception on index 734: [Errno 2] No such file or directory: '/scratch/bokorn/results/dense_fusion_local_feat_rot/data/0055/001308_005_tomato_soup_can_feat.npz'\n",
      "Exception on index 735: [Errno 2] No such file or directory: '/scratch/bokorn/results/dense_fusion_local_feat_rot/data/0055/001317_005_tomato_soup_can_feat.npz'\n",
      "Exception on index 736: [Errno 2] No such file or directory: '/scratch/bokorn/results/dense_fusion_local_feat_rot/data/0055/001327_005_tomato_soup_can_feat.npz'\n",
      "Exception on index 737: [Errno 2] No such file or directory: '/scratch/bokorn/results/dense_fusion_local_feat_rot/data/0055/001330_005_tomato_soup_can_feat.npz'\n",
      "Exception on index 738: [Errno 2] No such file or directory: '/scratch/bokorn/results/dense_fusion_local_feat_rot/data/0055/001336_005_tomato_soup_can_feat.npz'\n",
      "Exception on index 739: [Errno 2] No such file or directory: '/scratch/bokorn/results/dense_fusion_local_feat_rot/data/0055/001341_005_tomato_soup_can_feat.npz'\n",
      "Exception on index 740: [Errno 2] No such file or directory: '/scratch/bokorn/results/dense_fusion_local_feat_rot/data/0055/001347_005_tomato_soup_can_feat.npz'\n",
      "Exception on index 741: [Errno 2] No such file or directory: '/scratch/bokorn/results/dense_fusion_local_feat_rot/data/0055/001351_005_tomato_soup_can_feat.npz'\n",
      "Exception on index 742: [Errno 2] No such file or directory: '/scratch/bokorn/results/dense_fusion_local_feat_rot/data/0055/001355_005_tomato_soup_can_feat.npz'\n",
      "Exception on index 743: [Errno 2] No such file or directory: '/scratch/bokorn/results/dense_fusion_local_feat_rot/data/0055/001358_005_tomato_soup_can_feat.npz'\n",
      "Exception on index 744: [Errno 2] No such file or directory: '/scratch/bokorn/results/dense_fusion_local_feat_rot/data/0055/001359_005_tomato_soup_can_feat.npz'\n",
      "Exception on index 745: [Errno 2] No such file or directory: '/scratch/bokorn/results/dense_fusion_local_feat_rot/data/0055/001362_005_tomato_soup_can_feat.npz'\n"
     ]
    },
    {
     "name": "stdout",
     "output_type": "stream",
     "text": [
      "Exception on index 746: [Errno 2] No such file or directory: '/scratch/bokorn/results/dense_fusion_local_feat_rot/data/0055/001366_005_tomato_soup_can_feat.npz'\n",
      "Exception on index 747: [Errno 2] No such file or directory: '/scratch/bokorn/results/dense_fusion_local_feat_rot/data/0055/001367_005_tomato_soup_can_feat.npz'\n",
      "Exception on index 748: [Errno 2] No such file or directory: '/scratch/bokorn/results/dense_fusion_local_feat_rot/data/0055/001369_005_tomato_soup_can_feat.npz'\n",
      "Exception on index 749: [Errno 2] No such file or directory: '/scratch/bokorn/results/dense_fusion_local_feat_rot/data/0055/001372_005_tomato_soup_can_feat.npz'\n",
      "Exception on index 750: [Errno 2] No such file or directory: '/scratch/bokorn/results/dense_fusion_local_feat_rot/data/0055/001374_005_tomato_soup_can_feat.npz'\n",
      "Exception on index 751: [Errno 2] No such file or directory: '/scratch/bokorn/results/dense_fusion_local_feat_rot/data/0055/001381_005_tomato_soup_can_feat.npz'\n",
      "Exception on index 752: [Errno 2] No such file or directory: '/scratch/bokorn/results/dense_fusion_local_feat_rot/data/0055/001390_005_tomato_soup_can_feat.npz'\n",
      "Exception on index 753: [Errno 2] No such file or directory: '/scratch/bokorn/results/dense_fusion_local_feat_rot/data/0055/001400_005_tomato_soup_can_feat.npz'\n",
      "Exception on index 754: [Errno 2] No such file or directory: '/scratch/bokorn/results/dense_fusion_local_feat_rot/data/0055/001407_005_tomato_soup_can_feat.npz'\n",
      "Exception on index 758: [Errno 2] No such file or directory: '/scratch/bokorn/results/dense_fusion_local_feat_rot/data/0055/001453_005_tomato_soup_can_feat.npz'\n",
      "Exception on index 759: [Errno 2] No such file or directory: '/scratch/bokorn/results/dense_fusion_local_feat_rot/data/0055/001468_005_tomato_soup_can_feat.npz'\n",
      "Exception on index 760: [Errno 2] No such file or directory: '/scratch/bokorn/results/dense_fusion_local_feat_rot/data/0055/001478_005_tomato_soup_can_feat.npz'\n",
      "Exception on index 768: [Errno 2] No such file or directory: '/scratch/bokorn/results/dense_fusion_local_feat_rot/data/0055/001532_005_tomato_soup_can_feat.npz'\n",
      "Exception on index 769: [Errno 2] No such file or directory: '/scratch/bokorn/results/dense_fusion_local_feat_rot/data/0055/001543_005_tomato_soup_can_feat.npz'\n",
      "Exception on index 770: [Errno 2] No such file or directory: '/scratch/bokorn/results/dense_fusion_local_feat_rot/data/0055/001563_005_tomato_soup_can_feat.npz'\n",
      "Exception on index 771: [Errno 2] No such file or directory: '/scratch/bokorn/results/dense_fusion_local_feat_rot/data/0055/001567_005_tomato_soup_can_feat.npz'\n",
      "Exception on index 772: [Errno 2] No such file or directory: '/scratch/bokorn/results/dense_fusion_local_feat_rot/data/0055/001585_005_tomato_soup_can_feat.npz'\n",
      "Exception on index 910: [Errno 2] No such file or directory: '/scratch/bokorn/results/dense_fusion_local_feat_rot/data/0057/000845_005_tomato_soup_can_feat.npz'\n",
      "Exception on index 911: [Errno 2] No such file or directory: '/scratch/bokorn/results/dense_fusion_local_feat_rot/data/0057/000847_005_tomato_soup_can_feat.npz'\n",
      "Exception on index 912: [Errno 2] No such file or directory: '/scratch/bokorn/results/dense_fusion_local_feat_rot/data/0057/000849_005_tomato_soup_can_feat.npz'\n",
      "Exception on index 913: [Errno 2] No such file or directory: '/scratch/bokorn/results/dense_fusion_local_feat_rot/data/0057/000851_005_tomato_soup_can_feat.npz'\n",
      "Exception on index 978: [Errno 2] No such file or directory: '/scratch/bokorn/results/dense_fusion_local_feat_rot/data/0057/001170_005_tomato_soup_can_feat.npz'\n",
      "Exception on index 979: [Errno 2] No such file or directory: '/scratch/bokorn/results/dense_fusion_local_feat_rot/data/0057/001173_005_tomato_soup_can_feat.npz'\n",
      "Exception on index 980: [Errno 2] No such file or directory: '/scratch/bokorn/results/dense_fusion_local_feat_rot/data/0057/001176_005_tomato_soup_can_feat.npz'\n",
      "Exception on index 981: [Errno 2] No such file or directory: '/scratch/bokorn/results/dense_fusion_local_feat_rot/data/0057/001181_005_tomato_soup_can_feat.npz'\n",
      "Exception on index 982: [Errno 2] No such file or directory: '/scratch/bokorn/results/dense_fusion_local_feat_rot/data/0057/001185_005_tomato_soup_can_feat.npz'\n",
      "Exception on index 983: [Errno 2] No such file or directory: '/scratch/bokorn/results/dense_fusion_local_feat_rot/data/0057/001190_005_tomato_soup_can_feat.npz'\n",
      "Exception on index 984: [Errno 2] No such file or directory: '/scratch/bokorn/results/dense_fusion_local_feat_rot/data/0057/001215_005_tomato_soup_can_feat.npz'\n",
      "Exception on index 985: [Errno 2] No such file or directory: '/scratch/bokorn/results/dense_fusion_local_feat_rot/data/0057/001245_005_tomato_soup_can_feat.npz'\n",
      "Exception on index 986: [Errno 2] No such file or directory: '/scratch/bokorn/results/dense_fusion_local_feat_rot/data/0057/001250_005_tomato_soup_can_feat.npz'\n",
      "Exception on index 987: [Errno 2] No such file or directory: '/scratch/bokorn/results/dense_fusion_local_feat_rot/data/0057/001257_005_tomato_soup_can_feat.npz'\n",
      "Exception on index 988: [Errno 2] No such file or directory: '/scratch/bokorn/results/dense_fusion_local_feat_rot/data/0057/001258_005_tomato_soup_can_feat.npz'\n",
      "Exception on index 989: [Errno 2] No such file or directory: '/scratch/bokorn/results/dense_fusion_local_feat_rot/data/0057/001268_005_tomato_soup_can_feat.npz'\n",
      "Exception on index 990: [Errno 2] No such file or directory: '/scratch/bokorn/results/dense_fusion_local_feat_rot/data/0057/001269_005_tomato_soup_can_feat.npz'\n",
      "Exception on index 991: [Errno 2] No such file or directory: '/scratch/bokorn/results/dense_fusion_local_feat_rot/data/0057/001275_005_tomato_soup_can_feat.npz'\n",
      "Exception on index 992: [Errno 2] No such file or directory: '/scratch/bokorn/results/dense_fusion_local_feat_rot/data/0057/001276_005_tomato_soup_can_feat.npz'\n",
      "Exception on index 993: [Errno 2] No such file or directory: '/scratch/bokorn/results/dense_fusion_local_feat_rot/data/0057/001282_005_tomato_soup_can_feat.npz'\n",
      "Exception on index 994: [Errno 2] No such file or directory: '/scratch/bokorn/results/dense_fusion_local_feat_rot/data/0057/001290_005_tomato_soup_can_feat.npz'\n",
      "Exception on index 995: [Errno 2] No such file or directory: '/scratch/bokorn/results/dense_fusion_local_feat_rot/data/0057/001292_005_tomato_soup_can_feat.npz'\n",
      "Exception on index 1012: [Errno 2] No such file or directory: '/scratch/bokorn/results/dense_fusion_local_feat_rot/data/0057/001435_005_tomato_soup_can_feat.npz'\n",
      "Exception on index 1013: [Errno 2] No such file or directory: '/scratch/bokorn/results/dense_fusion_local_feat_rot/data/0057/001440_005_tomato_soup_can_feat.npz'\n",
      "Exception on index 1014: [Errno 2] No such file or directory: '/scratch/bokorn/results/dense_fusion_local_feat_rot/data/0057/001441_005_tomato_soup_can_feat.npz'\n",
      "Exception on index 1015: [Errno 2] No such file or directory: '/scratch/bokorn/results/dense_fusion_local_feat_rot/data/0057/001442_005_tomato_soup_can_feat.npz'\n",
      "Exception on index 1016: [Errno 2] No such file or directory: '/scratch/bokorn/results/dense_fusion_local_feat_rot/data/0057/001447_005_tomato_soup_can_feat.npz'\n",
      "Exception on index 1017: [Errno 2] No such file or directory: '/scratch/bokorn/results/dense_fusion_local_feat_rot/data/0057/001458_005_tomato_soup_can_feat.npz'\n",
      "Exception on index 1018: [Errno 2] No such file or directory: '/scratch/bokorn/results/dense_fusion_local_feat_rot/data/0057/001464_005_tomato_soup_can_feat.npz'\n",
      "Exception on index 1019: [Errno 2] No such file or directory: '/scratch/bokorn/results/dense_fusion_local_feat_rot/data/0057/001465_005_tomato_soup_can_feat.npz'\n"
     ]
    },
    {
     "data": {
      "application/vnd.jupyter.widget-view+json": {
       "model_id": "cf7a4ddada884af6864f06885d855047",
       "version_major": 2,
       "version_minor": 0
      },
      "text/plain": [
       "HBox(children=(IntProgress(value=0, max=357), HTML(value='')))"
      ]
     },
     "metadata": {},
     "output_type": "display_data"
    },
    {
     "data": {
      "application/vnd.jupyter.widget-view+json": {
       "model_id": "21176a34aeeb4929863700f712be346d",
       "version_major": 2,
       "version_minor": 0
      },
      "text/plain": [
       "HBox(children=(IntProgress(value=0, max=1148), HTML(value='')))"
      ]
     },
     "metadata": {},
     "output_type": "display_data"
    },
    {
     "data": {
      "application/vnd.jupyter.widget-view+json": {
       "model_id": "76b0a3dc3740407da30e6229edb54959",
       "version_major": 2,
       "version_minor": 0
      },
      "text/plain": [
       "HBox(children=(IntProgress(value=0, max=214), HTML(value='')))"
      ]
     },
     "metadata": {},
     "output_type": "display_data"
    },
    {
     "data": {
      "application/vnd.jupyter.widget-view+json": {
       "model_id": "d3266896b1354000ae22fa0a0e77d694",
       "version_major": 2,
       "version_minor": 0
      },
      "text/plain": [
       "HBox(children=(IntProgress(value=0, max=214), HTML(value='')))"
      ]
     },
     "metadata": {},
     "output_type": "display_data"
    },
    {
     "data": {
      "application/vnd.jupyter.widget-view+json": {
       "model_id": "61e95390e2a941bab1371f126e7cae1e",
       "version_major": 2,
       "version_minor": 0
      },
      "text/plain": [
       "HBox(children=(IntProgress(value=0, max=766), HTML(value='')))"
      ]
     },
     "metadata": {},
     "output_type": "display_data"
    },
    {
     "name": "stdout",
     "output_type": "stream",
     "text": [
      "Exception on index 87: [Errno 2] No such file or directory: '/scratch/bokorn/results/dense_fusion_local_feat_rot/data/0049/000833_010_potted_meat_can_feat.npz'\n",
      "Exception on index 108: [Errno 2] No such file or directory: '/scratch/bokorn/results/dense_fusion_local_feat_rot/data/0049/001157_010_potted_meat_can_feat.npz'\n",
      "Exception on index 111: [Errno 2] No such file or directory: '/scratch/bokorn/results/dense_fusion_local_feat_rot/data/0049/001179_010_potted_meat_can_feat.npz'\n",
      "Exception on index 115: [Errno 2] No such file or directory: '/scratch/bokorn/results/dense_fusion_local_feat_rot/data/0049/001222_010_potted_meat_can_feat.npz'\n",
      "Exception on index 116: [Errno 2] No such file or directory: '/scratch/bokorn/results/dense_fusion_local_feat_rot/data/0049/001229_010_potted_meat_can_feat.npz'\n",
      "Exception on index 118: [Errno 2] No such file or directory: '/scratch/bokorn/results/dense_fusion_local_feat_rot/data/0049/001247_010_potted_meat_can_feat.npz'\n",
      "Exception on index 129: [Errno 2] No such file or directory: '/scratch/bokorn/results/dense_fusion_local_feat_rot/data/0049/001340_010_potted_meat_can_feat.npz'\n",
      "Exception on index 138: [Errno 2] No such file or directory: '/scratch/bokorn/results/dense_fusion_local_feat_rot/data/0049/001441_010_potted_meat_can_feat.npz'\n",
      "Exception on index 322: [Errno 2] No such file or directory: '/scratch/bokorn/results/dense_fusion_local_feat_rot/data/0053/000439_010_potted_meat_can_feat.npz'\n",
      "Exception on index 323: [Errno 2] No such file or directory: '/scratch/bokorn/results/dense_fusion_local_feat_rot/data/0053/000441_010_potted_meat_can_feat.npz'\n",
      "Exception on index 324: [Errno 2] No such file or directory: '/scratch/bokorn/results/dense_fusion_local_feat_rot/data/0053/000443_010_potted_meat_can_feat.npz'\n",
      "Exception on index 325: [Errno 2] No such file or directory: '/scratch/bokorn/results/dense_fusion_local_feat_rot/data/0053/000449_010_potted_meat_can_feat.npz'\n",
      "Exception on index 326: [Errno 2] No such file or directory: '/scratch/bokorn/results/dense_fusion_local_feat_rot/data/0053/000452_010_potted_meat_can_feat.npz'\n",
      "Exception on index 327: [Errno 2] No such file or directory: '/scratch/bokorn/results/dense_fusion_local_feat_rot/data/0053/000454_010_potted_meat_can_feat.npz'\n",
      "Exception on index 334: [Errno 2] No such file or directory: '/scratch/bokorn/results/dense_fusion_local_feat_rot/data/0053/000467_010_potted_meat_can_feat.npz'\n",
      "Exception on index 335: [Errno 2] No such file or directory: '/scratch/bokorn/results/dense_fusion_local_feat_rot/data/0053/000468_010_potted_meat_can_feat.npz'\n",
      "Exception on index 336: [Errno 2] No such file or directory: '/scratch/bokorn/results/dense_fusion_local_feat_rot/data/0053/000469_010_potted_meat_can_feat.npz'\n",
      "Exception on index 337: [Errno 2] No such file or directory: '/scratch/bokorn/results/dense_fusion_local_feat_rot/data/0053/000471_010_potted_meat_can_feat.npz'\n",
      "Exception on index 338: [Errno 2] No such file or directory: '/scratch/bokorn/results/dense_fusion_local_feat_rot/data/0053/000472_010_potted_meat_can_feat.npz'\n",
      "Exception on index 339: [Errno 2] No such file or directory: '/scratch/bokorn/results/dense_fusion_local_feat_rot/data/0053/000474_010_potted_meat_can_feat.npz'\n",
      "Exception on index 340: [Errno 2] No such file or directory: '/scratch/bokorn/results/dense_fusion_local_feat_rot/data/0053/000476_010_potted_meat_can_feat.npz'\n",
      "Exception on index 341: [Errno 2] No such file or directory: '/scratch/bokorn/results/dense_fusion_local_feat_rot/data/0053/000477_010_potted_meat_can_feat.npz'\n",
      "Exception on index 342: [Errno 2] No such file or directory: '/scratch/bokorn/results/dense_fusion_local_feat_rot/data/0053/000479_010_potted_meat_can_feat.npz'\n",
      "Exception on index 343: [Errno 2] No such file or directory: '/scratch/bokorn/results/dense_fusion_local_feat_rot/data/0053/000483_010_potted_meat_can_feat.npz'\n",
      "Exception on index 344: [Errno 2] No such file or directory: '/scratch/bokorn/results/dense_fusion_local_feat_rot/data/0053/000484_010_potted_meat_can_feat.npz'\n",
      "Exception on index 345: [Errno 2] No such file or directory: '/scratch/bokorn/results/dense_fusion_local_feat_rot/data/0053/000486_010_potted_meat_can_feat.npz'\n",
      "Exception on index 346: [Errno 2] No such file or directory: '/scratch/bokorn/results/dense_fusion_local_feat_rot/data/0053/000490_010_potted_meat_can_feat.npz'\n"
     ]
    },
    {
     "data": {
      "application/vnd.jupyter.widget-view+json": {
       "model_id": "9312d6b1ee7a4680a6ef8b3bf0685c9f",
       "version_major": 2,
       "version_minor": 0
      },
      "text/plain": [
       "HBox(children=(IntProgress(value=0, max=379), HTML(value='')))"
      ]
     },
     "metadata": {},
     "output_type": "display_data"
    },
    {
     "data": {
      "application/vnd.jupyter.widget-view+json": {
       "model_id": "7afb7c1a4e024c798d515ec14257a083",
       "version_major": 2,
       "version_minor": 0
      },
      "text/plain": [
       "HBox(children=(IntProgress(value=0, max=570), HTML(value='')))"
      ]
     },
     "metadata": {},
     "output_type": "display_data"
    },
    {
     "data": {
      "application/vnd.jupyter.widget-view+json": {
       "model_id": "842ed1e5111e4ca59dd57ea62bf444f8",
       "version_major": 2,
       "version_minor": 0
      },
      "text/plain": [
       "HBox(children=(IntProgress(value=0, max=1029), HTML(value='')))"
      ]
     },
     "metadata": {},
     "output_type": "display_data"
    },
    {
     "data": {
      "application/vnd.jupyter.widget-view+json": {
       "model_id": "c8e4b9d746ee4a44ace664cceafb9699",
       "version_major": 2,
       "version_minor": 0
      },
      "text/plain": [
       "HBox(children=(IntProgress(value=0, max=406), HTML(value='')))"
      ]
     },
     "metadata": {},
     "output_type": "display_data"
    },
    {
     "data": {
      "application/vnd.jupyter.widget-view+json": {
       "model_id": "845efe11edfb42caba13cdf943169c7b",
       "version_major": 2,
       "version_minor": 0
      },
      "text/plain": [
       "HBox(children=(IntProgress(value=0, max=636), HTML(value='')))"
      ]
     },
     "metadata": {},
     "output_type": "display_data"
    },
    {
     "data": {
      "application/vnd.jupyter.widget-view+json": {
       "model_id": "45bc14d79d274a4d876e26bcfd0b3966",
       "version_major": 2,
       "version_minor": 0
      },
      "text/plain": [
       "HBox(children=(IntProgress(value=0, max=1057), HTML(value='')))"
      ]
     },
     "metadata": {},
     "output_type": "display_data"
    },
    {
     "name": "stdout",
     "output_type": "stream",
     "text": [
      "Exception on index 659: [Errno 2] No such file or directory: '/scratch/bokorn/results/dense_fusion_local_feat_rot/data/0056/000973_035_power_drill_feat.npz'\n",
      "Exception on index 661: [Errno 2] No such file or directory: '/scratch/bokorn/results/dense_fusion_local_feat_rot/data/0056/000981_035_power_drill_feat.npz'\n",
      "Exception on index 665: [Errno 2] No such file or directory: '/scratch/bokorn/results/dense_fusion_local_feat_rot/data/0056/000996_035_power_drill_feat.npz'\n",
      "Exception on index 666: [Errno 2] No such file or directory: '/scratch/bokorn/results/dense_fusion_local_feat_rot/data/0056/001001_035_power_drill_feat.npz'\n",
      "Exception on index 671: [Errno 2] No such file or directory: '/scratch/bokorn/results/dense_fusion_local_feat_rot/data/0056/001036_035_power_drill_feat.npz'\n",
      "Exception on index 672: [Errno 2] No such file or directory: '/scratch/bokorn/results/dense_fusion_local_feat_rot/data/0056/001037_035_power_drill_feat.npz'\n",
      "Exception on index 673: [Errno 2] No such file or directory: '/scratch/bokorn/results/dense_fusion_local_feat_rot/data/0056/001044_035_power_drill_feat.npz'\n",
      "Exception on index 674: [Errno 2] No such file or directory: '/scratch/bokorn/results/dense_fusion_local_feat_rot/data/0056/001046_035_power_drill_feat.npz'\n"
     ]
    },
    {
     "data": {
      "application/vnd.jupyter.widget-view+json": {
       "model_id": "1e1b41e7c972413c88865803b0b829dd",
       "version_major": 2,
       "version_minor": 0
      },
      "text/plain": [
       "HBox(children=(IntProgress(value=0, max=242), HTML(value='')))"
      ]
     },
     "metadata": {},
     "output_type": "display_data"
    },
    {
     "data": {
      "application/vnd.jupyter.widget-view+json": {
       "model_id": "db968816bf764ba2b8877866ff481353",
       "version_major": 2,
       "version_minor": 0
      },
      "text/plain": [
       "HBox(children=(IntProgress(value=0, max=181), HTML(value='')))"
      ]
     },
     "metadata": {},
     "output_type": "display_data"
    },
    {
     "name": "stdout",
     "output_type": "stream",
     "text": [
      "Exception on index 174: [Errno 2] No such file or directory: '/scratch/bokorn/results/dense_fusion_local_feat_rot/data/0051/001914_037_scissors_feat.npz'\n",
      "Exception on index 175: [Errno 2] No such file or directory: '/scratch/bokorn/results/dense_fusion_local_feat_rot/data/0051/001924_037_scissors_feat.npz'\n",
      "Exception on index 176: [Errno 2] No such file or directory: '/scratch/bokorn/results/dense_fusion_local_feat_rot/data/0051/001927_037_scissors_feat.npz'\n",
      "Exception on index 177: [Errno 2] No such file or directory: '/scratch/bokorn/results/dense_fusion_local_feat_rot/data/0051/001932_037_scissors_feat.npz'\n",
      "Exception on index 178: [Errno 2] No such file or directory: '/scratch/bokorn/results/dense_fusion_local_feat_rot/data/0051/001968_037_scissors_feat.npz'\n",
      "Exception on index 179: [Errno 2] No such file or directory: '/scratch/bokorn/results/dense_fusion_local_feat_rot/data/0051/001990_037_scissors_feat.npz'\n",
      "Exception on index 180: [Errno 2] No such file or directory: '/scratch/bokorn/results/dense_fusion_local_feat_rot/data/0051/001996_037_scissors_feat.npz'\n"
     ]
    },
    {
     "data": {
      "application/vnd.jupyter.widget-view+json": {
       "model_id": "cb23ee44f22a4399980c13e843ef1948",
       "version_major": 2,
       "version_minor": 0
      },
      "text/plain": [
       "HBox(children=(IntProgress(value=0, max=648), HTML(value='')))"
      ]
     },
     "metadata": {},
     "output_type": "display_data"
    },
    {
     "data": {
      "application/vnd.jupyter.widget-view+json": {
       "model_id": "52287377a5454e45a22e9f560627df18",
       "version_major": 2,
       "version_minor": 0
      },
      "text/plain": [
       "HBox(children=(IntProgress(value=0, max=712), HTML(value='')))"
      ]
     },
     "metadata": {},
     "output_type": "display_data"
    },
    {
     "data": {
      "application/vnd.jupyter.widget-view+json": {
       "model_id": "8063471ef6ef49668f57e63c51c83048",
       "version_major": 2,
       "version_minor": 0
      },
      "text/plain": [
       "HBox(children=(IntProgress(value=0, max=682), HTML(value='')))"
      ]
     },
     "metadata": {},
     "output_type": "display_data"
    },
    {
     "data": {
      "application/vnd.jupyter.widget-view+json": {
       "model_id": "7e511494e10a438a9e8e8bc30182267e",
       "version_major": 2,
       "version_minor": 0
      },
      "text/plain": [
       "HBox(children=(IntProgress(value=0, max=288), HTML(value='')))"
      ]
     },
     "metadata": {},
     "output_type": "display_data"
    },
    {
     "name": "stdout",
     "output_type": "stream",
     "text": [
      "\n"
     ]
    }
   ],
   "source": [
    "from se3_distributions.datasets.ycb_dataset import getYCBSymmeties\n",
    "from object_pose_utils.utils.pose_processing import symmetricAngularDistance, meanShift\n",
    "import pathlib\n",
    "import glob\n",
    "\n",
    "import scipy.io as scio\n",
    "from tqdm import tqdm_notebook as tqdm\n",
    "\n",
    "grid_size = 3885\n",
    "\n",
    "err_reg = {}\n",
    "err_reg_max_shift = {}\n",
    "\n",
    "lik_reg = {}\n",
    "\n",
    "with torch.no_grad():\n",
    "    for object_id in tqdm(object_list):\n",
    "        model_checkpoint = sorted(glob.glob(reg_model_checkpoint.format(object_id), recursive=True))[-1]\n",
    "        estimator_comp = SigmoidNet(feature_size, grid_size)\n",
    "        estimator_comp.load_state_dict(torch.load(model_checkpoint))\n",
    "        estimator_comp.cuda();\n",
    "        \n",
    "        sym_axis, sym_ang = getYCBSymmeties(object_id)\n",
    "        ycb_dataset = FeatureDataset(dataset_root = dataset_root,\n",
    "                                     feature_root = feature_root,\n",
    "                                     feature_key = feature_key,\n",
    "                                     resample_on_error = False,\n",
    "                                     mode=mode, object_list = [object_id])\n",
    "        grid_vertices = torch.load(os.path.join(feature_root, 'grid',\n",
    "            '{}_vertices.pt'.format(ycb_dataset.classes[object_id])))\n",
    "\n",
    "        grid_size = grid_vertices.shape[0]\n",
    "        \n",
    "        lik_reg[object_id] = []\n",
    "        err_reg[object_id] = []\n",
    "        err_reg_max_shift[object_id] = []\n",
    "        \n",
    "        pathlib.Path('results/data'.format(ycb_dataset.classes[object_id])).mkdir(parents=True, exist_ok=True)\n",
    "        \n",
    "        for j, data in tqdm(enumerate(ycb_dataset), total=len(ycb_dataset)):\n",
    "            obj, feat, quat = data\n",
    "            if(len(obj) == 0):\n",
    "                lik_reg[object_id].append(np.nan)\n",
    "                err_reg[object_id].append(np.nan)\n",
    "                err_reg_max_shift[object_id].append(np.nan)\n",
    "                continue\n",
    "                \n",
    "            feature_data = np.load('{}/data/{}_{}_feat.npz'.format(ycb_dataset.feature_root, \n",
    "                ycb_dataset.getPath(j), ycb_dataset.classes[obj]))\n",
    "\n",
    "            feat = to_var(feat).unsqueeze(0)\n",
    "\n",
    "            dist_est = estimator_comp(feat)\n",
    "            dist_est = dist_est + dist_est.min()\n",
    "            \n",
    "            tetra_interp.setValues(to_np(dist_est.flatten()))\n",
    "            \n",
    "            lik_reg[object_id].append(tetra_interp.smooth(to_np(quat)).item())\n",
    "\n",
    "            mode_quat = grid_vertices[torch.argmax(dist_est)].unsqueeze(0)\n",
    "            \n",
    "            v_shift = meanShift(mode_quat.cuda(), grid_vertices.cuda(), dist_est.t().cuda(),\n",
    "                                sigma=np.pi/9, max_iter = 100)\n",
    "\n",
    "            err_reg[object_id].append(symmetricAngularDistance(mode_quat, quat.unsqueeze(0),\n",
    "                                             sym_axis, sym_ang).item()*180/np.pi)\n",
    "            \n",
    "            err_reg_max_shift[object_id].append(symmetricAngularDistance(v_shift.cpu(), quat.unsqueeze(0),\n",
    "                                           sym_axis, sym_ang).item()*180/np.pi)\n",
    "            \n",
    "            savepath = 'results/{}'.format(ycb_dataset.getPath(j))\n",
    "            pathlib.Path(savepath).mkdir(parents=True, exist_ok=True)\n",
    "            \n",
    "            scio.savemat('{}/{}_{}_clamp_reg_results_ROT.mat'.format(savepath, \n",
    "                                                    ycb_dataset.classes[object_id], \n",
    "                                                    ycb_dataset.feature_key),\n",
    "                        {'index':j,\n",
    "                         'quat':to_np(quat),\n",
    "                         'mode_quat':to_np(mode_quat),\n",
    "                         'dist_est':to_np(dist_est),\n",
    "                         'lik_reg':lik_reg[object_id][-1],\n",
    "                         'err_reg':err_reg[object_id][-1],\n",
    "                         'err_reg_max_shift':err_reg_max_shift[object_id][-1],\n",
    "                         })\n",
    "np.savez('results/{}_clamp_reg_ROT.npz'.format(feature_key), \n",
    "         err_reg=err_reg,\n",
    "         lik_reg=lik_reg,\n",
    "         err_reg_max_shift=err_reg_max_shift)"
   ]
  },
  {
   "cell_type": "code",
   "execution_count": 17,
   "metadata": {},
   "outputs": [],
   "source": []
  },
  {
   "cell_type": "code",
   "execution_count": 52,
   "metadata": {},
   "outputs": [
    {
     "data": {
      "text/plain": [
       "3.373728066048754"
      ]
     },
     "execution_count": 52,
     "metadata": {},
     "output_type": "execute_result"
    }
   ],
   "source": [
    "np.mean(np.array(err_reg[object_id]) - np.array(err_reg_max_shift[object_id]))"
   ]
  },
  {
   "cell_type": "code",
   "execution_count": 76,
   "metadata": {},
   "outputs": [
    {
     "data": {
      "text/plain": [
       "['err_reg', 'lik_reg', 'err_reg_max_shift']"
      ]
     },
     "execution_count": 76,
     "metadata": {},
     "output_type": "execute_result"
    }
   ],
   "source": [
    "data = np.load('results/{}_reg.npz'.format(feature_key),allow_pickle=True)\n",
    "list(data.keys())"
   ]
  },
  {
   "cell_type": "code",
   "execution_count": 80,
   "metadata": {},
   "outputs": [
    {
     "data": {
      "text/plain": [
       "dict_keys([1, 2, 3, 4, 5, 6, 7, 8, 9, 10, 11, 12, 13, 14, 15, 16, 17, 18, 19, 20, 21])"
      ]
     },
     "execution_count": 80,
     "metadata": {},
     "output_type": "execute_result"
    }
   ],
   "source": [
    "data['lik_reg'].item().keys()"
   ]
  },
  {
   "cell_type": "code",
   "execution_count": 83,
   "metadata": {},
   "outputs": [
    {
     "name": "stdout",
     "output_type": "stream",
     "text": [
      "002_master_chef_can -0.38637696593374943 89.21374307303225\n",
      "003_cracker_box 0.2073344222803132 34.75298934722838\n",
      "004_sugar_box 0.5647517596515155 21.758722971707034\n",
      "005_tomato_soup_can 0.19922652743448552 30.59064939936876\n",
      "006_mustard_bottle 0.6591109769981284 22.392229298909417\n",
      "007_tuna_fish_can -0.6963466226711283 63.956717026625284\n",
      "008_pudding_box 0.08829368962914562 34.2539003075583\n",
      "009_gelatin_box 0.47068790002708816 19.11330790263637\n",
      "010_potted_meat_can 0.19027995031947453 42.29257989430809\n",
      "011_banana -0.5164164642303877 107.39923927148072\n",
      "019_pitcher_base 0.6234218152681478 20.745012691169425\n",
      "021_bleach_cleanser 0.06553939053759832 40.0954395212358\n",
      "024_bowl -2.662205887330869 93.77400535140387\n",
      "025_mug -0.40896056599211705 51.996722843467666\n",
      "035_power_drill 0.5864399404101668 20.502484676044656\n",
      "036_wood_block -1.8468870705307472 39.220618093524045\n",
      "037_scissors -2.293236754166506 156.46877397855144\n",
      "040_large_marker -1.6386690858544586 105.87406753444176\n",
      "051_large_clamp -2.2806532961147536 93.23679932792714\n",
      "052_extra_large_clamp -1.7518456134817402 51.119386855604695\n",
      "061_foam_brick -2.6811071763674077 111.34690435916349\n"
     ]
    },
    {
     "name": "stderr",
     "output_type": "stream",
     "text": [
      "/home/bokorn/src/se3_distributions/bpy/lib/python3.6/site-packages/ipykernel_launcher.py:8: RuntimeWarning: invalid value encountered in log\n",
      "  \n"
     ]
    }
   ],
   "source": [
    "\n",
    "data = np.load('results/{}_reg.npz'.format('feat_global'),allow_pickle=True)\n",
    "for obj in range(1,22):\n",
    "    #plt.hist(lik_reg[obj])\n",
    "    #plt.hist(err_reg_max_shift[obj], label='mean_shift')\n",
    "    #plt.title(ycb_dataset.classes[obj])\n",
    "    #plt.legend()\n",
    "    print(ycb_dataset.classes[obj], np.nanmean(np.log(data['lik_reg'].item()[obj])), np.nanmean(np.abs(data['err_reg'].item()[obj])))\n",
    "    #plt.show()"
   ]
  },
  {
   "cell_type": "code",
   "execution_count": 53,
   "metadata": {},
   "outputs": [
    {
     "name": "stdout",
     "output_type": "stream",
     "text": [
      "feat_global\n",
      "1 -0.38637696593374943 89.21374307303225\n",
      "2 0.2073344222803132 34.75298934722838\n",
      "3 0.5647517596515155 21.758722971707034\n",
      "4 0.19922652743448552 30.59064939936876\n",
      "5 0.6591109769981284 22.392229298909417\n",
      "6 -0.6963466226711283 63.956717026625284\n",
      "7 0.08829368962914562 34.2539003075583\n",
      "8 0.47068790002708816 19.11330790263637\n",
      "9 0.19027995031947453 42.29257989430809\n",
      "10 -0.5164164642303877 107.39923927148072\n",
      "11 0.6234218152681478 20.745012691169425\n",
      "12 0.06553939053759832 40.0954395212358\n",
      "13 -2.662205887330869 93.77400535140387\n",
      "14 -0.40896056599211705 51.996722843467666\n",
      "15 0.5864399404101668 20.502484676044656\n",
      "16 -1.8468870705307472 39.220618093524045\n",
      "17 -2.293236754166506 156.46877397855144\n",
      "18 -1.6386690858544586 105.87406753444176\n",
      "19 -2.2806532961147536 93.23679932792714\n",
      "20 -1.7518456134817402 51.119386855604695\n",
      "21 -2.6811071763674077 111.34690435916349\n"
     ]
    },
    {
     "name": "stderr",
     "output_type": "stream",
     "text": [
      "/home/bokorn/src/se3_distributions/bpy/lib/python3.6/site-packages/ipykernel_launcher.py:7: RuntimeWarning: invalid value encountered in log\n",
      "  import sys\n"
     ]
    }
   ],
   "source": [
    "print(feature_key)\n",
    "for obj in range(1,22):\n",
    "    #plt.hist(lik_reg[obj])\n",
    "    #plt.hist(err_reg_max_shift[obj], label='mean_shift')\n",
    "    #plt.title(ycb_dataset.classes[obj])\n",
    "    #plt.legend()\n",
    "    print(obj, np.nanmean(np.log(lik_reg[obj])), np.nanmean(np.abs(err_reg[obj])))\n",
    "    #plt.show()"
   ]
  },
  {
   "cell_type": "code",
   "execution_count": 45,
   "metadata": {},
   "outputs": [
    {
     "name": "stdout",
     "output_type": "stream",
     "text": [
      "1 -2.318162620571506 148.45409228991755\n",
      "2 -2.167720971654134 128.86390270066886\n",
      "3 -2.2226806068874922 102.4797834771266\n",
      "4 -2.0691215335898963 61.10336974449893\n",
      "5 -2.1649429681668315 124.31680117468785\n",
      "6 -2.360725631221771 101.37349081491017\n",
      "7 -2.1018538120420702 99.07093843459529\n",
      "8 -2.008700840178463 73.35644393246955\n",
      "9 -2.168774829826751 58.51431964354313\n",
      "10 -2.3112099092621365 146.45515587272652\n",
      "11 -2.2613990524679743 65.84814259503719\n",
      "12 -2.2755729649266447 128.44892773485608\n",
      "13 -2.244938858039455 101.4411507325818\n",
      "14 -2.280810022538222 148.52547428367913\n",
      "15 -2.1152767075802785 116.12892108309474\n",
      "16 -2.31866573975598 88.86746618850079\n",
      "17 -2.1617013940494028 175.0310194632421\n",
      "18 -2.1475126489030694 151.2793195178578\n",
      "19 -2.3133350952862366 97.47797978588459\n",
      "20 -2.1671224465987446 89.24118457625823\n",
      "21 -2.2120569022249525 65.79263530127723\n"
     ]
    },
    {
     "name": "stderr",
     "output_type": "stream",
     "text": [
      "/home/bokorn/src/se3_distributions/bpy/lib/python3.6/site-packages/ipykernel_launcher.py:6: RuntimeWarning: invalid value encountered in log\n",
      "  \n"
     ]
    }
   ],
   "source": [
    "for obj in range(1,22):\n",
    "    #plt.hist(lik_reg[obj])\n",
    "    #plt.hist(err_reg_max_shift[obj], label='mean_shift')\n",
    "    #plt.title(ycb_dataset.classes[obj])\n",
    "    #plt.legend()\n",
    "    print(obj, np.nanmean(np.log(lik_reg[obj])), np.nanmean(np.abs(err_reg[obj])))\n",
    "    #plt.show()"
   ]
  },
  {
   "cell_type": "code",
   "execution_count": 3,
   "metadata": {},
   "outputs": [],
   "source": [
    "import numpy as np\n",
    "sigmas = np.load('../notebooks/feat_global_sigma.npz')['sigmas']"
   ]
  },
  {
   "cell_type": "code",
   "execution_count": 5,
   "metadata": {},
   "outputs": [
    {
     "ename": "NameError",
     "evalue": "name 'plt' is not defined",
     "output_type": "error",
     "traceback": [
      "\u001b[0;31m---------------------------------------------------------------------------\u001b[0m",
      "\u001b[0;31mNameError\u001b[0m                                 Traceback (most recent call last)",
      "\u001b[0;32m<ipython-input-5-dde9fda130a6>\u001b[0m in \u001b[0;36m<module>\u001b[0;34m()\u001b[0m\n\u001b[1;32m      1\u001b[0m \u001b[0;32mfrom\u001b[0m \u001b[0mmpl_toolkits\u001b[0m\u001b[0;34m.\u001b[0m\u001b[0mmplot3d\u001b[0m \u001b[0;32mimport\u001b[0m \u001b[0mAxes3D\u001b[0m\u001b[0;34m\u001b[0m\u001b[0m\n\u001b[0;32m----> 2\u001b[0;31m \u001b[0mcmap\u001b[0m \u001b[0;34m=\u001b[0m \u001b[0mplt\u001b[0m\u001b[0;34m.\u001b[0m\u001b[0mget_cmap\u001b[0m\u001b[0;34m(\u001b[0m\u001b[0;34m'jet'\u001b[0m\u001b[0;34m)\u001b[0m\u001b[0;34m\u001b[0m\u001b[0m\n\u001b[0m\u001b[1;32m      3\u001b[0m \u001b[0mfig\u001b[0m \u001b[0;34m=\u001b[0m \u001b[0mplt\u001b[0m\u001b[0;34m.\u001b[0m\u001b[0mfigure\u001b[0m\u001b[0;34m(\u001b[0m\u001b[0;34m)\u001b[0m\u001b[0;34m\u001b[0m\u001b[0m\n\u001b[1;32m      4\u001b[0m \u001b[0max\u001b[0m \u001b[0;34m=\u001b[0m \u001b[0mfig\u001b[0m\u001b[0;34m.\u001b[0m\u001b[0madd_subplot\u001b[0m\u001b[0;34m(\u001b[0m\u001b[0;36m1\u001b[0m\u001b[0;34m,\u001b[0m\u001b[0;36m1\u001b[0m\u001b[0;34m,\u001b[0m\u001b[0;36m1\u001b[0m\u001b[0;34m,\u001b[0m \u001b[0mprojection\u001b[0m\u001b[0;34m=\u001b[0m\u001b[0;34m'3d'\u001b[0m\u001b[0;34m)\u001b[0m\u001b[0;34m\u001b[0m\u001b[0m\n\u001b[1;32m      5\u001b[0m scatterSO3(to_np(grid_vertices), to_np(torch.exp(torch.log(dist_est.flatten())*np.pi/9/sigmas[object_id])),\n",
      "\u001b[0;31mNameError\u001b[0m: name 'plt' is not defined"
     ]
    }
   ],
   "source": [
    "from mpl_toolkits.mplot3d import Axes3D\n",
    "cmap = plt.get_cmap('jet')\n",
    "fig = plt.figure()\n",
    "ax = fig.add_subplot(1,1,1, projection='3d')\n",
    "scatterSO3(to_np(grid_vertices), to_np(torch.exp(torch.log(dist_est.flatten())*np.pi/9/sigmas[object_id])),\n",
    "           [to_np(quat)], alpha_max = .5)\n",
    "tetra_interp.setValues(to_np(torch.exp(torch.log(dist_est.flatten())*np.pi/9/sigmas[object_id])))\n",
    "print(tetra_interp.smooth(to_np(quat)))\n",
    "tetra_interp.setValues(to_np(dist_est.flatten()))\n",
    "print(tetra_interp.smooth(to_np(quat)))\n",
    "#pt_gt = quats2Point([pcnn_quat])\n",
    "#ax.scatter(pt_gt[:,0], pt_gt[:,1], pt_gt[:,2], c='K', marker='x')"
   ]
  },
  {
   "cell_type": "code",
   "execution_count": 4,
   "metadata": {},
   "outputs": [
    {
     "data": {
      "text/plain": [
       "array([0.10484988, 0.00935838, 0.16386687, 0.06837537, 0.22288387,\n",
       "       0.12739236, 0.03190086, 0.18640936, 0.09091786, 0.24542635,\n",
       "       0.14993485, 0.05444335, 0.20895184, 0.11346034, 0.01796884,\n",
       "       0.17247734, 0.07698583, 0.23149433, 0.13600283, 0.04051133,\n",
       "       0.19501982, 0.09952832, 0.00403682, 0.15854531, 0.06305381,\n",
       "       0.21756231, 0.12207081, 0.0265793 , 0.1810878 , 0.0855963 ,\n",
       "       0.24010479, 0.14461329, 0.04912179, 0.20363029, 0.10813878,\n",
       "       0.01264728, 0.16715578, 0.07166427, 0.22617277, 0.13068127,\n",
       "       0.03518977, 0.18969826, 0.09420676, 0.24871526, 0.15322375,\n",
       "       0.05773225, 0.21224075, 0.11674925, 0.02125774, 0.17576624,\n",
       "       0.08027474, 0.23478324, 0.13929173, 0.04380023, 0.19830873,\n",
       "       0.10281722, 0.00732572, 0.16183422, 0.06634272, 0.22085121,\n",
       "       0.12535971, 0.02986821, 0.1843767 , 0.0888852 , 0.2433937 ,\n",
       "       0.1479022 , 0.05241069, 0.20691919, 0.11142769, 0.01593618,\n",
       "       0.17044468, 0.07495318, 0.22946168, 0.13397017, 0.03847867,\n",
       "       0.19298717, 0.09749566, 0.00200416, 0.15651266, 0.06102116,\n",
       "       0.21552965, 0.12003815, 0.02454665, 0.17905515, 0.08356364,\n",
       "       0.23807214, 0.14258064, 0.04708913, 0.20159763, 0.10610613,\n",
       "       0.01061463, 0.16512312, 0.06963162, 0.22414012, 0.12864861,\n",
       "       0.03315711, 0.18766561, 0.09217411, 0.2466826 , 0.1511911 ])"
      ]
     },
     "execution_count": 4,
     "metadata": {},
     "output_type": "execute_result"
    }
   ],
   "source": [
    "sigmas"
   ]
  }
 ],
 "metadata": {
  "kernelspec": {
   "display_name": "Python3 (bpy)",
   "language": "python",
   "name": "bpy"
  },
  "language_info": {
   "codemirror_mode": {
    "name": "ipython",
    "version": 3
   },
   "file_extension": ".py",
   "mimetype": "text/x-python",
   "name": "python",
   "nbconvert_exporter": "python",
   "pygments_lexer": "ipython3",
   "version": "3.6.6"
  }
 },
 "nbformat": 4,
 "nbformat_minor": 2
}
