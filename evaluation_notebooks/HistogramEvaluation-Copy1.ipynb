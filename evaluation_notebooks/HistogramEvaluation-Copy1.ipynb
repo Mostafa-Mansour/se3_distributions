{
 "cells": [
  {
   "cell_type": "code",
   "execution_count": 1,
   "metadata": {},
   "outputs": [],
   "source": [
    "%matplotlib inline\n",
    "import os\n",
    "import cv2\n",
    "import numpy as np\n",
    "import torch\n",
    "from torch.autograd import Variable\n",
    "import quat_math\n",
    "import pickle\n",
    "\n",
    "from PIL import Image\n",
    "import scipy.io as scio\n",
    "from functools import partial\n",
    "from object_pose_utils.utils import to_np, to_var\n",
    "\n",
    "import matplotlib.pyplot as plt\n",
    "import pylab\n",
    "pylab.rcParams['figure.figsize'] = 20, 12\n",
    "from mpl_toolkits.mplot3d import Axes3D  # noqa: F401 unused import"
   ]
  },
  {
   "cell_type": "code",
   "execution_count": 2,
   "metadata": {},
   "outputs": [],
   "source": [
    "def imshowCV(img, axis = False, show = True):\n",
    "    if not axis:\n",
    "        plt.axis('off')\n",
    "    plt.imshow(cv2.cvtColor(img, cv2.COLOR_BGR2RGB))\n",
    "    if(show):\n",
    "        plt.show()\n",
    "    \n",
    "def imshow(img, axis = False, colorbar = False, show = True):\n",
    "    if not axis:\n",
    "        plt.axis('off')\n",
    "    plt.imshow(img)\n",
    "    if(colorbar):\n",
    "        plt.colorbar()\n",
    "    if(show):\n",
    "        plt.show()\n",
    "    \n",
    "def torch2Img(img, show = True):\n",
    "    mean = np.array([0.485, 0.456, 0.406])\n",
    "    std = np.array([0.229, 0.224, 0.225])\n",
    "    disp_img = to_np(img)\n",
    "    if len(disp_img.shape) == 4:\n",
    "        disp_img = disp_img[0]\n",
    "    disp_img = disp_img.transpose((1,2,0))\n",
    "    disp_img = disp_img * std + mean\n",
    "    return disp_img\n",
    "    \n",
    "def imshowTorch(img, axis = False, show = True):\n",
    "    if not axis:\n",
    "        plt.axis('off')\n",
    "    disp_img = torch2Img(img)\n",
    "    plt.imshow(disp_img.astype(np.uint8))\n",
    "    if(show):\n",
    "        plt.show()\n",
    "\n",
    "def plotImageScatter(img, choose, show = True):\n",
    "    coords = np.unravel_index(choose, img.shape[:2])    \n",
    "    plt.axis('off')\n",
    "    plt.imshow(img.astype(np.uint8))    \n",
    "    plt.scatter(coords[1], coords[0], 50)\n",
    "    #plt.colorbar()\n",
    "    if(show):\n",
    "        plt.show()"
   ]
  },
  {
   "cell_type": "code",
   "execution_count": 17,
   "metadata": {},
   "outputs": [],
   "source": [
    "from quat_math import quat2AxisAngle\n",
    "\n",
    "def quats2Point(quats):\n",
    "    pts = []\n",
    "    for q in quats:\n",
    "        xi, theta = quat2AxisAngle(q)\n",
    "        pts.append(xi*theta)\n",
    "    return np.array(pts)\n",
    "\n",
    "def scatterSO3(vertices, vals, q_gt = None, alpha_max = 1.0):\n",
    "    #c = cmap(vals)\n",
    "    a = np.maximum(0,np.minimum(1, (vals - min(vals))/(max(vals) - min(vals))))\n",
    "    c = cmap(a)\n",
    "    \n",
    "    c[:,3] = alpha_max*a\n",
    "\n",
    "    pts = quats2Point(vertices)\n",
    "    ax.scatter(pts[:,0], pts[:,1], pts[:,2], s=a*10, c=c)\n",
    "\n",
    "    if(q_gt is not None):\n",
    "        pt_gt = quats2Point(q_gt)\n",
    "        ax.scatter(pt_gt[:,0], pt_gt[:,1], pt_gt[:,2], c='r', marker='x')"
   ]
  },
  {
   "cell_type": "code",
   "execution_count": 64,
   "metadata": {},
   "outputs": [],
   "source": [
    "from transforms3d.quaternions import quat2mat, mat2quat\n",
    "\n",
    "def getPoseCNNQuat(data, obj):\n",
    "    pose_idx = np.where(data['rois'][:,1].flatten()==obj)[0]\n",
    "    if(len(pose_idx) == 0):\n",
    "        return None\n",
    "    else:\n",
    "        pose_idx = pose_idx[0]\n",
    "    pose = data['poses'][pose_idx]\n",
    "    q = pose[:4][[1,2,3,0]]\n",
    "    q /= np.linalg.norm(q)\n",
    "    t = pose[4:7]\n",
    "    return q\n"
   ]
  },
  {
   "cell_type": "code",
   "execution_count": 4,
   "metadata": {},
   "outputs": [],
   "source": [
    "from object_pose_utils.datasets.ycb_dataset import YcbDataset as YCBDataset\n",
    "from object_pose_utils.datasets.feature_dataset import FeatureDataset\n",
    "\n",
    "from object_pose_utils.datasets.image_processing import ImageNormalizer\n",
    "from object_pose_utils.datasets.pose_dataset import OutputTypes as otypes\n",
    "\n",
    "dataset_root = '/ssd0/datasets/ycb/YCB_Video_Dataset'\n",
    "object_list = list(range(1,22))\n",
    "mode = \"test\"\n",
    "\n",
    "output_format = [otypes.OBJECT_LABEL,\n",
    "                 otypes.QUATERNION, \n",
    "                 otypes.IMAGE_CROPPED, \n",
    "                 otypes.DEPTH_POINTS_MASKED_AND_INDEXES]\n",
    "\n"
   ]
  },
  {
   "cell_type": "code",
   "execution_count": 5,
   "metadata": {},
   "outputs": [],
   "source": [
    "test_feature_root = '/scratch/bokorn/results/dense_fusion_local_feat_test/'\n",
    "feature_root = '/scratch/bokorn/results/dense_fusion_local_orig_feat/'\n",
    "feature_key = 'feat_global'\n",
    "\n",
    "comp_model_checkpoint = '/scratch/bokorn/results/multi_object/df_local_global/trainval_lr_1e-5_top_x2000/2019-07-03_11-34-46/all/weights/checkpoint_31000.pth'\n",
    "feature_size = 1024"
   ]
  },
  {
   "cell_type": "code",
   "execution_count": 6,
   "metadata": {},
   "outputs": [],
   "source": [
    "feature_root = '/scratch/bokorn/results/posecnn_feat_all/'\n",
    "test_feature_root = feature_root\n",
    "feature_key = 'fc6'\n",
    "\n",
    "comp_model_checkpoint = '/scratch/bokorn/results/multi_object/pcnn_fc6/trainval_lr_1e-6_top_x2000/2019-07-04_01-06-36/all/weights/checkpoint_44000.pth'\n",
    "feature_size = 4096"
   ]
  },
  {
   "cell_type": "code",
   "execution_count": 29,
   "metadata": {},
   "outputs": [],
   "source": [
    "from se3_distributions.models.compare_networks import SigmoidCompareNet\n",
    "\n",
    "estimator_comp = SigmoidCompareNet(feature_size, 21)\n",
    "estimator_comp.load_state_dict(torch.load(comp_model_checkpoint))\n",
    "estimator_comp.cuda();\n",
    "\n",
    "from object_pose_utils.utils.interpolation import BinghamInterpolation, TetraInterpolation\n",
    "from object_pose_utils.utils.bingham import isobingham_likelihood\n",
    "tetra_interp = TetraInterpolation(2)\n"
   ]
  },
  {
   "cell_type": "code",
   "execution_count": null,
   "metadata": {},
   "outputs": [
    {
     "data": {
      "application/vnd.jupyter.widget-view+json": {
       "model_id": "1baf69d5378d4a9f86292b8a233bf9a2",
       "version_major": 2,
       "version_minor": 0
      },
      "text/plain": [
       "HBox(children=(IntProgress(value=0, max=21), HTML(value='')))"
      ]
     },
     "metadata": {},
     "output_type": "display_data"
    },
    {
     "data": {
      "application/vnd.jupyter.widget-view+json": {
       "model_id": "7366f321d3474808946b38f2012704e1",
       "version_major": 2,
       "version_minor": 0
      },
      "text/plain": [
       "HBox(children=(IntProgress(value=0, max=1006), HTML(value='')))"
      ]
     },
     "metadata": {},
     "output_type": "display_data"
    },
    {
     "data": {
      "application/vnd.jupyter.widget-view+json": {
       "model_id": "c490ad8475ea4560bbaed509047ff76b",
       "version_major": 2,
       "version_minor": 0
      },
      "text/plain": [
       "HBox(children=(IntProgress(value=0, max=868), HTML(value='')))"
      ]
     },
     "metadata": {},
     "output_type": "display_data"
    }
   ],
   "source": [
    "from se3_distributions.datasets.ycb_dataset import getYCBSymmeties\n",
    "from object_pose_utils.utils.pose_processing import symmetricAngularDistance, meanShift\n",
    "\n",
    "\n",
    "import scipy.io as scio\n",
    "from tqdm import tqdm_notebook as tqdm\n",
    "\n",
    "grid_size = 3885\n",
    "rep_indices = np.repeat(np.arange(1), grid_size)\n",
    "\n",
    "err_compare = {}\n",
    "err_bing = {}\n",
    "\n",
    "lik_compare = {}\n",
    "lik_bing = {}\n",
    "\n",
    "with torch.no_grad():\n",
    "    for object_id in tqdm(object_list):\n",
    "        sym_axis, sym_ang = getYCBSymmeties(object_id)\n",
    "        ycb_dataset = FeatureDataset(dataset_root = dataset_root,\n",
    "                                     feature_root = test_feature_root,\n",
    "                                     feature_key = feature_key,\n",
    "                                     resample_on_error = False,\n",
    "                                     mode=mode, object_list = [object_id])\n",
    "        grid_vertices = torch.load(os.path.join(feature_root, 'grid',\n",
    "            '{}_vertices.pt'.format(ycb_dataset.classes[object_id])))\n",
    "        grid_features = torch.load(os.path.join(feature_root, 'grid',\n",
    "            '{}_{}_features.pt'.format(feature_key,ycb_dataset.classes[object_id])))\n",
    "\n",
    "        grid_size = grid_vertices.shape[0]\n",
    "        grid_features = to_var(grid_features)\n",
    "        rep_indices = np.repeat(np.arange(1), grid_size)\n",
    "        \n",
    "        lik_compare[object_id] = []\n",
    "        err_compare[object_id] = []\n",
    "        lik_bing[object_id] = []\n",
    "        err_bing[object_id] = []\n",
    "        \n",
    "        for j, data in tqdm(enumerate(ycb_dataset), total=len(ycb_dataset)):\n",
    "            obj, feat, quat = data\n",
    "            feature_data = np.load('{}/data/{}_{}_feat.npz'.format(ycb_dataset.feature_root, \n",
    "                ycb_dataset.getPath(j), ycb_dataset.classes[obj]))\n",
    "\n",
    "            idx = torch.autograd.Variable(obj - 1).unsqueeze(0).cuda()\n",
    "            feat = to_var(feat).unsqueeze(0)\n",
    "\n",
    "            dist_est = estimator_comp(grid_features, feat[rep_indices])\n",
    "            dist_est = torch.gather(dist_est, 1, idx[rep_indices])\n",
    "            tetra_interp.setValues(to_np(dist_est.flatten()))\n",
    "            lik_compare[object_id].append(tetra_interp.smooth(to_np(quat)).item())\n",
    "            \n",
    "            pcnn_mat = scio.loadmat('{}/data/{}-posecnn.mat'.format(ycb_dataset.dataset_root, ycb_dataset.getPath(j)))\n",
    "            pcnn_quat = torch.tensor(getPoseCNNQuat(pcnn_mat, obj.item())).float()\n",
    "            lik_bing[object_id].append(isobingham_likelihood(pcnn_quat.cuda(), \n",
    "                                torch.tensor(sigmas[obj.item()]).unsqueeze(0).float().cuda(),\n",
    "                                quat.unsqueeze(0).cuda()).item()*2)\n",
    "            \n",
    "            mode_quat = grid_vertices[torch.argmax(dist_est)].unsqueeze(0)\n",
    "            \n",
    "            #v_shift = meanShift(mode_quat.cuda(), grid_vertices.cuda(), dist_est.cuda(),\n",
    "            #                    sigma=np.pi/9, max_iter = 100)\n",
    "            \n",
    "            err_compare[object_id].append(symmetricAngularDistance(mode_quat, quat.unsqueeze(0),\n",
    "                                             sym_axis, sym_ang).item()*180/np.pi)\n",
    "            \n",
    "            err_bing[object_id].append(symmetricAngularDistance(pcnn_quat.unsqueeze(0), quat.unsqueeze(0),\n",
    "                                           sym_axis, sym_ang).item()*180/np.pi)\n",
    "            "
   ]
  },
  {
   "cell_type": "code",
   "execution_count": 149,
   "metadata": {},
   "outputs": [
    {
     "name": "stdout",
     "output_type": "stream",
     "text": [
      "{13: [array([0.09569893]), array([0.08297394]), array([0.10162026]), array([0.14188951]), array([0.0925106]), array([0.06267675]), array([0.05922071]), array([0.12155959]), array([0.06241314]), array([0.09934188]), array([0.10653224]), array([0.17637976]), array([0.20751009]), array([0.25051836]), array([0.23754817]), array([0.19345548]), array([0.20682849]), array([0.14856962]), array([0.14845107]), array([0.2610443]), array([0.14810441]), array([0.20124168]), array([0.24592652]), array([0.20184983]), array([0.20506513]), array([0.18204194]), array([0.27469466]), array([0.20778317]), array([0.18844802]), array([0.23414725]), array([0.15316415]), array([0.32581183]), array([0.27809613]), array([0.17255264]), array([0.17761308]), array([0.16060452]), array([0.16156638]), array([0.14658613]), array([0.23347664]), array([0.1286512]), array([0.20822262]), array([0.23714074]), array([0.07544814]), array([0.2482399]), array([0.12848136]), array([0.17437426]), array([0.18996219]), array([0.12402035]), array([0.1500457]), array([0.1324448]), array([0.16322182]), array([0.11432555]), array([0.13163348]), array([0.20735393]), array([0.10758659]), array([0.17887815]), array([0.13538885]), array([0.15042353]), array([0.17734503]), array([0.12129443]), array([0.1055657]), array([0.09858831]), array([0.14984785]), array([0.15245413]), array([0.15244481]), array([0.0910636]), array([0.03490574]), array([0.21003807]), array([0.20244781]), array([0.0807337]), array([0.21191033]), array([0.16262246]), array([0.13936841]), array([0.14660638]), array([0.1306538]), array([0.08285172]), array([0.15672986]), array([0.08767016]), array([0.18775475]), array([0.08238498]), array([0.23067001]), array([0.19895673]), array([0.17531429]), array([0.16093465]), array([0.12542554]), array([0.09313199]), array([0.12181871]), array([0.19165697]), array([0.08853602]), array([0.22948466]), array([0.15738133]), array([0.10387294]), array([0.12986469]), array([0.08493316]), array([0.24371836]), array([0.15301495]), array([0.21538397]), array([0.21519671]), array([0.16487139]), array([0.14614892]), array([0.24316603]), array([0.1284467]), array([0.11250736]), array([0.13465294]), array([0.21365163]), array([0.11659883]), array([0.12113763]), array([0.18497955]), array([0.16194127]), array([0.12619934]), array([0.15500959]), array([0.17570256]), array([0.10910587]), array([0.17326729]), array([0.18010078]), array([0.09838866]), array([0.14290655]), array([0.1868482]), array([0.1138146]), array([0.09706185]), array([0.16274961]), array([0.10400992]), array([0.10517803]), array([0.22820364]), array([0.1944925]), array([0.14949496]), array([0.13076021]), array([0.11012261]), array([0.23482773]), array([0.21328282]), array([0.14042887]), array([0.22002782]), array([0.31965096]), array([0.12547471]), array([0.15587288]), array([0.29797973]), array([0.16516933]), array([0.15403232]), array([0.25542525]), array([0.20237852]), array([0.13542521]), array([0.19140325]), array([0.13777325]), array([0.19781042]), array([0.29275576]), array([0.21320689]), array([0.17147303]), array([0.20834292]), array([0.23399244]), array([0.27137761]), array([0.24251447]), array([0.20926574]), array([0.23203223]), array([0.20479612]), array([0.17331938]), array([0.21300906]), array([0.17593514]), array([0.18408872]), array([0.17257667]), array([0.21195163]), array([0.21226027]), array([0.20368275]), array([0.13792144]), array([0.11159971]), array([0.21030237]), array([0.1587376]), array([0.19338519]), array([0.23193947]), array([0.13094053]), array([0.21553125]), array([0.13041011]), array([0.16964356]), array([0.21154476]), array([0.20078659]), array([0.19054569]), array([0.19952648]), array([0.1802721]), array([0.16009152]), array([0.24462632]), array([0.20816346]), array([0.17725564]), array([0.13678548]), array([0.16967805]), array([0.20673554]), array([0.20256594]), array([0.2009378]), array([0.18716776]), array([0.2009581]), array([0.1197722]), array([0.24099651]), array([0.22246797]), array([0.17070827]), array([0.12056622]), array([0.19139782]), array([0.14117068]), array([0.13614303]), array([0.12170063]), array([0.1865427]), array([0.21134592]), array([0.20222219]), array([0.21502072]), array([0.20009313]), array([0.21817961]), array([0.12674787]), array([0.12033466]), array([0.14785219]), array([0.1225223]), array([0.18160932]), array([0.12754502]), array([0.1224054]), array([0.1407177]), array([0.15967876]), array([0.11312785]), array([0.13982141]), array([0.13676141]), array([0.1184852]), array([0.1211395]), array([0.13299372]), array([0.18349257]), array([0.21059692]), array([0.11669505]), array([0.07341932]), array([0.15025]), array([0.05331333]), array([0.07995279]), array([0.16259206]), array([0.13170851]), array([0.4580859]), array([0.47847349]), array([0.37534833]), array([0.41671222]), array([0.41013608]), array([0.37066175]), array([0.35434724]), array([0.47004945]), array([0.40809751]), array([0.43116239]), array([0.31023107]), array([0.37431953]), array([0.3954023]), array([0.40099992]), array([0.30143932]), array([0.35998672]), array([0.29134285]), array([0.4131414]), array([0.49410812]), array([0.49281656]), array([0.61540428]), array([0.68586654]), array([0.48363339]), array([0.6808467]), array([0.56580349]), array([0.69946808]), array([0.68951954]), array([0.55423359]), array([0.58469956]), array([0.75233472]), array([0.84409538]), array([0.70014081]), array([0.57828519]), array([0.65863946]), array([0.78722354]), array([0.5960766]), array([0.72236784]), array([0.6143767]), array([0.43600905]), array([0.68878094]), array([0.75971538]), array([0.55997824]), array([0.51689307]), array([0.5300286]), array([0.59508635]), array([0.56656302]), array([0.6485241]), array([0.7047913]), array([0.5932668]), array([0.4679534]), array([0.55020324]), array([0.59355196]), array([0.52586145]), array([0.73435093]), array([0.57646469]), array([0.42980656]), array([0.60693399]), array([0.48649179]), array([0.49446889]), array([0.49785738]), array([0.44508278]), array([0.53616049]), array([0.48187932]), array([0.45111214]), array([0.53365842]), array([0.52670168]), array([0.43419252]), array([0.54705551]), array([0.47830482]), array([0.60434138]), array([0.49201711]), array([0.56937561]), array([0.64400797]), array([0.56586361]), array([0.49047468]), array([0.61474819]), array([0.59036746]), array([0.72294111]), array([0.59465019]), array([0.64481751]), array([0.52405369]), array([0.51012182]), array([0.51719647]), array([0.49041666]), array([0.49792479]), array([0.50655407]), array([0.42355102]), array([0.48787045]), array([0.56567775]), array([0.49453473]), array([0.66221322]), array([0.58315991]), array([0.48810205]), array([0.49581921]), array([0.6152524]), array([0.5334538]), array([0.57789788]), array([0.58151212]), array([0.53769888]), array([0.495352]), array([0.50878457]), array([0.54975235]), array([0.49367897]), array([0.44028244]), array([0.55915947]), array([0.56950259]), array([0.46251083]), array([0.42048313]), array([0.53209686]), array([0.46271761]), array([0.53699861]), array([0.42760506]), array([0.37733083]), array([0.52952922]), array([0.47686269]), array([0.64058804]), array([0.39937506]), array([0.28276523]), array([0.61220621]), array([0.55069163]), array([0.43838681]), array([0.45649247]), array([0.40894552]), array([0.37159582]), array([0.41644297]), array([0.41792253]), array([0.22268699]), array([0.30200745]), array([0.57149478]), array([0.54342997]), array([0.53765152]), array([0.49185333]), array([0.31055067]), array([0.51279738]), array([0.53747167]), array([0.47111106]), array([0.52416667]), array([0.48018566]), array([0.49526636]), array([0.45918924]), array([0.34962807]), array([0.51667512]), array([0.56921683]), array([0.5083167]), array([0.32120081]), array([0.34448843]), array([0.44458979]), array([0.45435963]), array([0.43435918]), array([0.62947172]), array([0.39558974]), array([0.46028034]), array([0.31762732]), array([0.35337036]), array([0.40797398]), array([0.34486806]), array([0.33458659]), array([0.34666036]), array([0.52333561]), array([0.45177804]), array([0.31463962]), array([0.30309122]), array([0.32788824]), array([0.38344539]), array([0.16617509]), array([0.52920496]), array([0.25753959]), array([0.34634518]), array([0.35403023]), array([0.37231078]), array([0.2522815]), array([0.42605905]), array([0.40266589]), array([0.3321591]), array([0.2326534]), array([0.30342466]), array([0.3311864]), array([0.38712749]), array([0.37859284])]}\n",
      "{13: [0.0854126363992691, 0.088359534740448, 0.08532161265611649, 0.08569605648517609, 0.08713467419147491, 0.08492434024810791, 0.08559908717870712, 0.08597720414400101, 0.08525683730840683, 0.08595330268144608, 0.08653803169727325, 0.08773678541183472, 0.08462564647197723, 0.08740522712469101, 0.08474166691303253, 0.08496880531311035, 0.08493443578481674, 0.08886271715164185, 0.0857791155576706, 0.08545044809579849, 0.08462665975093842, 0.08616375923156738, 0.09002753347158432, 0.08603324741125107, 0.08475615084171295, 0.0846700668334961, 0.08591974526643753, 0.08562598377466202, 0.08469510078430176, 0.08594068884849548, 0.08518103510141373, 0.08904184401035309, 0.09014278650283813, 0.09004206955432892, 0.08616676926612854, 0.08764476329088211, 0.08739185333251953, 0.08645607531070709, 0.08789923787117004, 0.08972472697496414, 0.0854872465133667, 0.09077140688896179, 0.08561737835407257, 0.08676973730325699, 0.0862598642706871, 0.08785400539636612, 0.08674758672714233, 0.0885675847530365, 0.0887998715043068, 0.08835258334875107, 0.08856705576181412, 0.09007492661476135, 0.08903305232524872, 0.08844882994890213, 0.0868593230843544, 0.09030777215957642, 0.08762140572071075, 0.08877989649772644, 0.08704064786434174, 0.08587848395109177, 0.08621781319379807, 0.09055311977863312, 0.08673789352178574, 0.08941004425287247, 0.08945860713720322, 0.08684352040290833, 0.09097415953874588, 0.08696995675563812, 0.08916223049163818, 0.08812560886144638, 0.08727194368839264, 0.0869329422712326, 0.08566221594810486, 0.08815054595470428, 0.08627144992351532, 0.08781450241804123, 0.08872216939926147, 0.08868096023797989, 0.08763569593429565, 0.08750322461128235, 0.08807919919490814, 0.08705630153417587, 0.08911115676164627, 0.0889432355761528, 0.0866943746805191, 0.09141649305820465, 0.08585275709629059, 0.09075889736413956, 0.08484886586666107, 0.0901535227894783, 0.08557227998971939, 0.08837122470140457, 0.08843543380498886, 0.08626528829336166, 0.08760987967252731, 0.08771631121635437, 0.08742214739322662, 0.08522050082683563, 0.08837171643972397, 0.08731656521558762, 0.08701891452074051, 0.08473299443721771, 0.08474621921777725, 0.08655668050050735, 0.08468395471572876, 0.08684037625789642, 0.08462654799222946, 0.084687240421772, 0.08488241583108902, 0.08471531420946121, 0.08462561666965485, 0.08476889878511429, 0.08507905900478363, 0.0846300721168518, 0.0851936936378479, 0.08484281599521637, 0.08576752990484238, 0.08464455604553223, 0.08628752827644348, 0.0855565220117569, 0.08695972710847855, 0.08651748299598694, 0.08620243519544601, 0.08489662408828735, 0.0847356989979744, 0.08584533631801605, 0.09102953225374222, 0.09647931903600693, 0.0868048146367073, 0.09001345187425613, 0.09149780869483948, 0.09417863190174103, 0.09078477323055267, 0.09427333623170853, 0.09845785051584244, 0.08815644681453705, 0.08991489559412003, 0.09522980451583862, 0.08977503329515457, 0.08715495467185974, 0.10111796855926514, 0.08640791475772858, 0.08615966886281967, 0.08766938745975494, 0.09104102104902267, 0.09472294896841049, 0.09176060557365417, 0.08522655069828033, 0.08470755815505981, 0.0972171276807785, 0.09047933667898178, 0.0859576016664505, 0.0875500813126564, 0.08767257630825043, 0.08936596661806107, 0.0892467051744461, 0.09790824353694916, 0.08749169856309891, 0.08904772996902466, 0.0950983315706253, 0.09107042104005814, 0.09061264991760254, 0.09331126511096954, 0.09222132712602615, 0.09249661862850189, 0.09078284353017807, 0.09164377301931381, 0.11506086587905884, 0.09150899946689606, 0.09367357194423676, 0.09100069850683212, 0.09503782540559769, 0.09224351495504379, 0.09027162194252014, 0.08716443181037903, 0.09048241376876831, 0.09586206823587418, 0.09061824530363083, 0.09282112121582031, 0.09746446460485458, 0.08927763998508453, 0.10042284429073334, 0.0904049500823021, 0.09059762954711914, 0.09860880672931671, 0.09499403834342957, 0.08527998626232147, 0.09307467937469482, 0.08508022874593735, 0.08657263219356537, 0.09105361998081207, 0.08922926336526871, 0.08839627355337143, 0.09147285670042038, 0.08596720546483994, 0.09151541441679001, 0.09049475193023682, 0.09309980273246765, 0.08995819836854935, 0.08671707659959793, 0.08955945819616318, 0.09219560027122498, 0.08841902762651443, 0.08834763616323471, 0.08768603205680847, 0.09478200227022171, 0.08576186001300812, 0.08603932708501816, 0.0875706672668457, 0.09831331670284271, 0.10173933207988739, 0.09257843345403671, 0.10338477790355682, 0.0865350291132927, 0.08730557560920715, 0.09336711466312408, 0.08869963884353638, 0.09718401730060577, 0.10195718705654144, 0.0921855941414833, 0.08498697727918625, 0.097965307533741, 0.09067117422819138, 0.090584397315979, 0.10508810728788376, 0.11087451130151749, 0.09100233018398285, 0.09601403027772903, 0.09783118218183517, 0.09682022780179977, 0.099627286195755, 0.10855438560247421, 0.10313659906387329, 0.09439686685800552, 0.09919033199548721, 0.09275371581315994, 0.0986194834113121, 0.09443877637386322, 0.09290152043104172, 0.09363193809986115, 0.09572023898363113, 0.09456043690443039, 0.09606292098760605, 0.0932217612862587, 0.09732726216316223, 0.10904452949762344, 0.09544282406568527, 0.10639161616563797, 0.10582936555147171, 0.10773260146379471, 0.10382719337940216, 0.1010865792632103, 0.10281453281641006, 0.09496638178825378, 0.09921577572822571, 0.10470227897167206, 0.1043877825140953, 0.10421451926231384, 0.10694850236177444, 0.10548367351293564, 0.10391594469547272, 0.1031854972243309, 0.10861470550298691, 0.10802235454320908, 0.10026536136865616, 0.09966620057821274, 0.10616333782672882, 0.10467109829187393, 0.1012004092335701, 0.10361210256814957, 0.1018625944852829, 0.10218557715415955, 0.1058039665222168, 0.10310917347669601, 0.1039101779460907, 0.10455011576414108, 0.10296903550624847, 0.1020435243844986, 0.10434968024492264, 0.10861755162477493, 0.10650305449962616, 0.11221545189619064, 0.10853303968906403, 0.10752193629741669, 0.10148505866527557, 0.1048034280538559, 0.1017317995429039, 0.0980103611946106, 0.10238869488239288, 0.10582088679075241, 0.10419722646474838, 0.1085098534822464, 0.10641944408416748, 0.10215836763381958, 0.09862484037876129, 0.10169531404972076, 0.10438191145658493, 0.10473881661891937, 0.10403097420930862, 0.10169614851474762, 0.10166224837303162, 0.10566261410713196, 0.10401406139135361, 0.10548219084739685, 0.10669409483671188, 0.10513328015804291, 0.11553677171468735, 0.11380653828382492, 0.11924882978200912, 0.10221849381923676, 0.11760390549898148, 0.11336362361907959, 0.10850216448307037, 0.11701847612857819, 0.111513651907444, 0.11648469418287277, 0.1159772276878357, 0.1263190507888794, 0.11003085970878601, 0.12085804343223572, 0.11862359941005707, 0.11477498710155487, 0.1156981810927391, 0.1284189671278, 0.1233268603682518, 0.12672238051891327, 0.12765812873840332, 0.12295159697532654, 0.13240060210227966, 0.12027023732662201, 0.11957709491252899, 0.12846232950687408, 0.12846800684928894, 0.12470529228448868, 0.12291447818279266, 0.13028641045093536, 0.11822010576725006, 0.12291809916496277, 0.12239157408475876, 0.12201498448848724, 0.13276618719100952, 0.13866589963436127, 0.13408084213733673, 0.12253574281930923, 0.12294002622365952, 0.13518978655338287, 0.1235700249671936, 0.11513115465641022, 0.11560763418674469, 0.12121547758579254, 0.11384934186935425, 0.1185612604022026, 0.10873845964670181, 0.11880330741405487, 0.12770487368106842, 0.12171660363674164, 0.131378173828125, 0.12743334472179413, 0.11325761675834656, 0.12116952985525131, 0.12548449635505676, 0.11680860817432404, 0.11786948144435883, 0.12496565282344818, 0.12318049371242523, 0.12275287508964539, 0.11874876916408539, 0.11749768257141113, 0.11569171398878098, 0.11756889522075653, 0.12337639927864075, 0.1227964460849762, 0.11461811512708664, 0.11738919466733932, 0.11586365848779678, 0.12015247344970703, 0.11315556615591049, 0.11236386001110077, 0.10359978675842285, 0.11369315534830093, 0.10983923822641373, 0.10587826371192932, 0.1214393749833107, 0.11578469723463058, 0.09990359842777252, 0.10959786176681519, 0.1093045026063919, 0.1038513258099556, 0.10007507354021072, 0.09776084125041962, 0.1017674133181572, 0.09383632242679596, 0.09346301853656769, 0.09413596987724304, 0.09941213577985764, 0.09686988592147827, 0.09843909740447998, 0.09552381932735443, 0.09798163175582886, 0.09243979305028915, 0.09088605642318726, 0.09962870180606842, 0.10454463958740234, 0.09398384392261505, 0.09179022908210754, 0.10871601849794388]}\n"
     ]
    }
   ],
   "source": [
    "print(lik_compare)\n",
    "print(lik_bing)"
   ]
  },
  {
   "cell_type": "code",
   "execution_count": 93,
   "metadata": {
    "scrolled": false
   },
   "outputs": [],
   "source": [
    "\n",
    "bing_interp = BinghamInterpolation(torch.tensor(pcnn_quat).unsqueeze(0), torch.tensor([1.]), \n",
    "                                   sigma=sigmas[obj.item()])"
   ]
  },
  {
   "cell_type": "code",
   "execution_count": 111,
   "metadata": {},
   "outputs": [
    {
     "data": {
      "text/plain": [
       "tensor([0.0854], device='cuda:0')"
      ]
     },
     "execution_count": 111,
     "metadata": {},
     "output_type": "execute_result"
    }
   ],
   "source": [
    "bing_interp(quat.unsqueeze(0).cuda())"
   ]
  },
  {
   "cell_type": "code",
   "execution_count": 113,
   "metadata": {},
   "outputs": [
    {
     "data": {
      "text/plain": [
       "tensor([[0.0854]], device='cuda:0')"
      ]
     },
     "execution_count": 113,
     "metadata": {},
     "output_type": "execute_result"
    }
   ],
   "source": []
  },
  {
   "cell_type": "code",
   "execution_count": 107,
   "metadata": {},
   "outputs": [
    {
     "data": {
      "text/plain": [
       "tensor([ 0.0000, -0.6633, -0.6633, -0.6633])"
      ]
     },
     "execution_count": 107,
     "metadata": {},
     "output_type": "execute_result"
    }
   ],
   "source": [
    "sigma = torch.tensor(sigmas[obj.item()]).unsqueeze(0).float()\n",
    "torch.cat([torch.zeros(1).float(),-sigma, -sigma, -sigma])"
   ]
  },
  {
   "cell_type": "code",
   "execution_count": 79,
   "metadata": {},
   "outputs": [
    {
     "name": "stdout",
     "output_type": "stream",
     "text": [
      "[0.13604579]\n"
     ]
    }
   ],
   "source": [
    "tetra_interp.setValues(to_np(dist_est.flatten()))\n",
    "lik = tetra_interp.smooth(to_np(quat))\n",
    "print(lik)"
   ]
  },
  {
   "cell_type": "code",
   "execution_count": 68,
   "metadata": {},
   "outputs": [
    {
     "name": "stdout",
     "output_type": "stream",
     "text": [
      "[-0.5019051   0.09629406 -0.03618243 -0.8587838 ]\n",
      "tensor([-0.1788, -0.3948, -0.8702,  0.2345])\n"
     ]
    }
   ],
   "source": [
    "print(pcnn_quat)\n",
    "print(quat)"
   ]
  },
  {
   "cell_type": "code",
   "execution_count": 96,
   "metadata": {},
   "outputs": [
    {
     "data": {
      "text/plain": [
       "<mpl_toolkits.mplot3d.art3d.Path3DCollection at 0x7fcefe0bff60>"
      ]
     },
     "execution_count": 96,
     "metadata": {},
     "output_type": "execute_result"
    },
    {
     "data": {
      "image/png": "[encoded data removed]",
      "text/plain": [
       "<Figure size 432x288 with 1 Axes>"
      ]
     },
     "metadata": {
      "needs_background": "light"
     },
     "output_type": "display_data"
    }
   ],
   "source": [
    "from mpl_toolkits.mplot3d import Axes3D\n",
    "cmap = plt.get_cmap('jet')\n",
    "fig = plt.figure()\n",
    "ax = fig.add_subplot(1,1,1, projection='3d')\n",
    "\n",
    "scatterSO3(to_np(grid_vertices), to_np(dist_est.flatten()), [to_np(quat)], alpha_max = .5)\n",
    "pt_gt = quats2Point([pcnn_quat])\n",
    "ax.scatter(pt_gt[:,0], pt_gt[:,1], pt_gt[:,2], c='K', marker='x')"
   ]
  },
  {
   "cell_type": "code",
   "execution_count": 22,
   "metadata": {},
   "outputs": [
    {
     "data": {
      "text/plain": [
       "array([ 0.30252334,  0.4792338 ,  0.6599504 , -0.49323422], dtype=float32)"
      ]
     },
     "execution_count": 22,
     "metadata": {},
     "output_type": "execute_result"
    }
   ],
   "source": [
    "to_np(quat)\n",
    "#quats2Point(to_np(quat)[0])\n",
    "#to_np(dist_est)"
   ]
  },
  {
   "cell_type": "code",
   "execution_count": 12,
   "metadata": {},
   "outputs": [
    {
     "data": {
      "text/plain": [
       "tensor([ 0.3025,  0.4792,  0.6600, -0.4932], dtype=torch.float64)"
      ]
     },
     "execution_count": 12,
     "metadata": {},
     "output_type": "execute_result"
    }
   ],
   "source": [
    "torch.tensor(feature_data[ycb_dataset.feature_key])\n",
    "torch.tensor(feature_data['quat'])\n"
   ]
  }
 ],
 "metadata": {
  "kernelspec": {
   "display_name": "Python3 (bpy)",
   "language": "python",
   "name": "bpy"
  },
  "language_info": {
   "codemirror_mode": {
    "name": "ipython",
    "version": 3
   },
   "file_extension": ".py",
   "mimetype": "text/x-python",
   "name": "python",
   "nbconvert_exporter": "python",
   "pygments_lexer": "ipython3",
   "version": "3.6.6"
  }
 },
 "nbformat": 4,
 "nbformat_minor": 2
}
