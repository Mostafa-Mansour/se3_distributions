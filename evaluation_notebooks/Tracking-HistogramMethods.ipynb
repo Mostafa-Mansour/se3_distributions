{
 "cells": [
  {
   "cell_type": "code",
   "execution_count": 3,
   "metadata": {},
   "outputs": [
    {
     "name": "stdout",
     "output_type": "stream",
     "text": [
      "env: CUDA_DEVICE_ORDER=PCI_BUS_ID\n",
      "env: CUDA_VISIBLE_DEVICES=1\n"
     ]
    }
   ],
   "source": [
    "%matplotlib inline\n",
    "%env CUDA_DEVICE_ORDER=PCI_BUS_ID\n",
    "%env CUDA_VISIBLE_DEVICES=1\n",
    "\n",
    "import os\n",
    "import cv2\n",
    "import numpy as np\n",
    "import torch\n",
    "from torch.autograd import Variable\n",
    "import quat_math\n",
    "import pickle\n",
    "\n",
    "from PIL import Image\n",
    "import scipy.io as scio\n",
    "from functools import partial\n",
    "from object_pose_utils.utils import to_np, to_var\n",
    "\n",
    "import matplotlib.pyplot as plt\n",
    "import pylab\n",
    "pylab.rcParams['figure.figsize'] = 20, 12\n",
    "from mpl_toolkits.mplot3d import Axes3D  # noqa: F401 unused import"
   ]
  },
  {
   "cell_type": "code",
   "execution_count": 21,
   "metadata": {},
   "outputs": [],
   "source": [
    "from quat_math import quat2AxisAngle\n",
    "from mpl_toolkits.mplot3d import Axes3D\n",
    "\n",
    "def quats2Point(quats):\n",
    "    pts = []\n",
    "    for q in quats:\n",
    "        xi, theta = quat2AxisAngle(q)\n",
    "        pts.append(xi*theta)\n",
    "    return np.array(pts)\n",
    "\n",
    "def scatterSO3(vertices, vals, q_gt = None, alpha_max = 1.0, ax = None):\n",
    "    cmap = plt.get_cmap('jet')\n",
    "    if(ax is None):\n",
    "        fig = plt.figure()\n",
    "        ax = fig.add_subplot(1,1,1, projection='3d')\n",
    "\n",
    "    #c = cmap(vals)\n",
    "    a = np.maximum(0,np.minimum(1, (vals - min(vals))/(max(vals) - min(vals))))\n",
    "    c = cmap(a)\n",
    "    \n",
    "    c[:,3] = alpha_max*a\n",
    "\n",
    "    pts = quats2Point(vertices)\n",
    "    ax.scatter(pts[:,0], pts[:,1], pts[:,2], s=a*10, c=c)\n",
    "\n",
    "    if(q_gt is not None):\n",
    "        pt_gt = quats2Point(q_gt)\n",
    "        ax.scatter(pt_gt[:,0], pt_gt[:,1], pt_gt[:,2], c='r', marker='x')"
   ]
  },
  {
   "cell_type": "code",
   "execution_count": 6,
   "metadata": {},
   "outputs": [
    {
     "name": "stdout",
     "output_type": "stream",
     "text": [
      "results/{}/{}_fc6_results.mat\n"
     ]
    }
   ],
   "source": [
    "video_len = 3\n",
    "interval = 4\n",
    "feature_key = 'fc6'\n",
    "\n",
    "mat_filename_format = 'results/{}/{}_' + '{}_results.mat'.format(feature_key)\n",
    "print(mat_filename_format)"
   ]
  },
  {
   "cell_type": "code",
   "execution_count": 8,
   "metadata": {},
   "outputs": [],
   "source": [
    "from object_pose_utils.datasets.ycb_dataset import YcbDataset as YCBDataset\n",
    "from object_pose_utils.datasets.ycb_video_dataset import YcbVideoDataset as YCBVideoDataset\n",
    "from object_pose_utils.datasets.pose_dataset import OutputTypes as otypes\n",
    "\n",
    "dataset_root = '/ssd0/datasets/ycb/YCB_Video_Dataset'\n",
    "\n",
    "with open('{0}/image_sets/classes.txt'.format(dataset_root)) as f:                                    \n",
    "    classes = f.read().split()\n",
    "classes.insert(0, '__background__')\n",
    "\n",
    "object_list = list(range(1,22))\n",
    "mode = \"test\"\n",
    "\n",
    "output_format = [otypes.OBJECT_LABEL,\n",
    "                 otypes.QUATERNION, \n",
    "                 ]\n",
    "\n",
    "ycb_dataset = YCBDataset(dataset_root, mode=mode, \n",
    "                         object_list = object_list, \n",
    "                         output_data = output_format, \n",
    "                         image_size = [640, 480], num_points=1000)\n",
    "\n",
    "dataset = YCBVideoDataset(ycb_dataset, \n",
    "                          interval = interval, \n",
    "                          video_len = video_len)\n",
    "\n",
    "grid_root = '/scratch/bokorn/results/posecnn_feat_all/'\n",
    "grid_vertices = torch.load(os.path.join(grid_root, 'grid',\n",
    "            '{}_vertices.pt'.format(ycb_dataset.classes[1])))\n",
    "grid_size = grid_vertices.shape[0]\n"
   ]
  },
  {
   "cell_type": "code",
   "execution_count": 9,
   "metadata": {},
   "outputs": [
    {
     "data": {
      "text/plain": [
       "'/scratch/bokorn/results/posecnn_feat_all/grid/002_master_chef_can_vertices.pt'"
      ]
     },
     "execution_count": 9,
     "metadata": {},
     "output_type": "execute_result"
    }
   ],
   "source": [
    "os.path.join(grid_root, 'grid', '{}_vertices.pt'.format(ycb_dataset.classes[1]))"
   ]
  },
  {
   "cell_type": "code",
   "execution_count": 88,
   "metadata": {},
   "outputs": [
    {
     "ename": "TypeError",
     "evalue": "__init__() missing 1 required positional argument: 'values'",
     "output_type": "error",
     "traceback": [
      "\u001b[0;31m---------------------------------------------------------------------------\u001b[0m",
      "\u001b[0;31mTypeError\u001b[0m                                 Traceback (most recent call last)",
      "\u001b[0;32m<ipython-input-88-e0691e34729f>\u001b[0m in \u001b[0;36m<module>\u001b[0;34m()\u001b[0m\n\u001b[1;32m     22\u001b[0m \u001b[0;34m\u001b[0m\u001b[0m\n\u001b[1;32m     23\u001b[0m \u001b[0;34m\u001b[0m\u001b[0m\n\u001b[0;32m---> 24\u001b[0;31m \u001b[0mbing_interp\u001b[0m \u001b[0;34m=\u001b[0m \u001b[0mBinghamInterpolation\u001b[0m\u001b[0;34m(\u001b[0m\u001b[0mgrid_vertices\u001b[0m\u001b[0;34m.\u001b[0m\u001b[0mcuda\u001b[0m\u001b[0;34m(\u001b[0m\u001b[0;34m)\u001b[0m\u001b[0;34m,\u001b[0m \u001b[0msigma\u001b[0m\u001b[0;34m=\u001b[0m\u001b[0;36m30\u001b[0m\u001b[0;34m)\u001b[0m\u001b[0;34m\u001b[0m\u001b[0m\n\u001b[0m\u001b[1;32m     25\u001b[0m \u001b[0;34m\u001b[0m\u001b[0m\n\u001b[1;32m     26\u001b[0m \u001b[0;32mdef\u001b[0m \u001b[0mcombineHistBingham\u001b[0m\u001b[0;34m(\u001b[0m\u001b[0mdists\u001b[0m\u001b[0;34m,\u001b[0m \u001b[0mtrans\u001b[0m\u001b[0;34m,\u001b[0m \u001b[0mvertices\u001b[0m\u001b[0;34m,\u001b[0m \u001b[0msigmas\u001b[0m\u001b[0;34m,\u001b[0m \u001b[0mconfidence\u001b[0m \u001b[0;34m=\u001b[0m \u001b[0;32mNone\u001b[0m\u001b[0;34m)\u001b[0m\u001b[0;34m:\u001b[0m\u001b[0;34m\u001b[0m\u001b[0m\n",
      "\u001b[0;31mTypeError\u001b[0m: __init__() missing 1 required positional argument: 'values'"
     ]
    }
   ],
   "source": [
    "from object_pose_utils.utils.interpolation import BinghamInterpolation, TetraInterpolation\n",
    "from object_pose_utils.utils.multi_view_utils import applyTransformBatch\n",
    "\n",
    "tetra_interp = TetraInterpolation(2)\n",
    "\n",
    "def combineHistTetra(dists, trans, grid_vertices, confidence = None):\n",
    "    num_dists = len(dists)\n",
    "    if(confidence is None):\n",
    "        confidence = np.ones(num_dists)\n",
    "        \n",
    "    grid_size = dists[0].shape\n",
    "    joint_dist = np.ones(grid_size)\n",
    "        \n",
    "    for d, mat, w in zip(dists, trans, confidence):\n",
    "        grid_vertices_inv = applyTransformBatch(grid_vertices, np.linalg.inv(mat))\n",
    "        tetra_interp.setValues(d)\n",
    "        v_interp = tetra_interp.smooth(grid_vertices_inv)\n",
    "        \n",
    "        joint_dist *= w*v_interp + (1-w)\n",
    "        \n",
    "    return joint_dist\n",
    "\n",
    "\n",
    "bing_interp = BinghamInterpolation(grid_vertices.cuda(), sigma=30)\n",
    "\n",
    "def combineHistBingham(dists, trans, vertices, sigmas, confidence = None):\n",
    "    num_dists = len(dists)\n",
    "    if(confidence is None):\n",
    "        confidence = np.ones(num_dists)\n",
    "        \n",
    "    grid_size = dists[0].shape\n",
    "    joint_dist = torch.ones(grid_size)\n",
    "    for d, mat, w in zip(dists, trans, confidence):\n",
    "        grid_vertices_inv = applyTransformBatch(vertices, np.linalg.inv(mat))\n",
    "        \n",
    "        bing_interp.setValues(d.flatten().cuda())\n",
    "        v_interp = bing_interp(grid_vertices_inv.cuda())\n",
    "        \n",
    "        joint_dist *= w*v_interp + (1-w)\n",
    "        \n",
    "    return joint_dist"
   ]
  },
  {
   "cell_type": "code",
   "execution_count": null,
   "metadata": {},
   "outputs": [],
   "source": []
  },
  {
   "cell_type": "code",
   "execution_count": null,
   "metadata": {},
   "outputs": [],
   "source": []
  },
  {
   "cell_type": "code",
   "execution_count": 64,
   "metadata": {
    "scrolled": true
   },
   "outputs": [
    {
     "data": {
      "application/vnd.jupyter.widget-view+json": {
       "model_id": "b66fa8974397481ca5ffc7955c3df028",
       "version_major": 2,
       "version_minor": 0
      },
      "text/plain": [
       "HBox(children=(IntProgress(value=0, max=21), HTML(value='')))"
      ]
     },
     "metadata": {},
     "output_type": "display_data"
    },
    {
     "data": {
      "application/vnd.jupyter.widget-view+json": {
       "model_id": "5008e6f1824744dca73592e1d34e9488",
       "version_major": 2,
       "version_minor": 0
      },
      "text/plain": [
       "HBox(children=(IntProgress(value=0, max=394), HTML(value='')))"
      ]
     },
     "metadata": {},
     "output_type": "display_data"
    },
    {
     "ename": "KeyboardInterrupt",
     "evalue": "",
     "output_type": "error",
     "traceback": [
      "\u001b[0;31m---------------------------------------------------------------------------\u001b[0m",
      "\u001b[0;31mKeyboardInterrupt\u001b[0m                         Traceback (most recent call last)",
      "\u001b[0;32m<ipython-input-64-d1fea5cafe64>\u001b[0m in \u001b[0;36m<module>\u001b[0;34m()\u001b[0m\n\u001b[1;32m     28\u001b[0m             \u001b[0mlik\u001b[0m\u001b[0;34m[\u001b[0m\u001b[0mobj_id\u001b[0m\u001b[0;34m]\u001b[0m\u001b[0;34m[\u001b[0m\u001b[0mv_id\u001b[0m\u001b[0;34m]\u001b[0m \u001b[0;34m=\u001b[0m \u001b[0;34m[\u001b[0m\u001b[0;34m]\u001b[0m\u001b[0;34m\u001b[0m\u001b[0m\n\u001b[1;32m     29\u001b[0m             \u001b[0merr_max_shift\u001b[0m\u001b[0;34m[\u001b[0m\u001b[0mobj_id\u001b[0m\u001b[0;34m]\u001b[0m\u001b[0;34m[\u001b[0m\u001b[0mv_id\u001b[0m\u001b[0;34m]\u001b[0m \u001b[0;34m=\u001b[0m \u001b[0;34m[\u001b[0m\u001b[0;34m]\u001b[0m\u001b[0;34m\u001b[0m\u001b[0m\n\u001b[0;32m---> 30\u001b[0;31m             \u001b[0;32mfor\u001b[0m \u001b[0mj\u001b[0m\u001b[0;34m,\u001b[0m \u001b[0;34m(\u001b[0m\u001b[0mdata\u001b[0m\u001b[0;34m,\u001b[0m \u001b[0mtrans\u001b[0m\u001b[0;34m)\u001b[0m \u001b[0;32min\u001b[0m \u001b[0mtqdm\u001b[0m\u001b[0;34m(\u001b[0m\u001b[0menumerate\u001b[0m\u001b[0;34m(\u001b[0m\u001b[0mdataset\u001b[0m\u001b[0;34m)\u001b[0m\u001b[0;34m,\u001b[0m \u001b[0mtotal\u001b[0m\u001b[0;34m=\u001b[0m\u001b[0mlen\u001b[0m\u001b[0;34m(\u001b[0m\u001b[0mdataset\u001b[0m\u001b[0;34m)\u001b[0m\u001b[0;34m)\u001b[0m\u001b[0;34m:\u001b[0m\u001b[0;34m\u001b[0m\u001b[0m\n\u001b[0m\u001b[1;32m     31\u001b[0m                 \u001b[0;31m#obj, quat = data\u001b[0m\u001b[0;34m\u001b[0m\u001b[0;34m\u001b[0m\u001b[0m\n\u001b[1;32m     32\u001b[0m                 \u001b[0;32mif\u001b[0m\u001b[0;34m(\u001b[0m\u001b[0mlen\u001b[0m\u001b[0;34m(\u001b[0m\u001b[0mdata\u001b[0m\u001b[0;34m)\u001b[0m \u001b[0;34m==\u001b[0m \u001b[0;36m0\u001b[0m\u001b[0;34m)\u001b[0m\u001b[0;34m:\u001b[0m\u001b[0;34m\u001b[0m\u001b[0m\n",
      "\u001b[0;31mKeyboardInterrupt\u001b[0m: "
     ]
    }
   ],
   "source": [
    "from generic_pose.datasets.ycb_dataset import getYCBSymmeties\n",
    "from object_pose_utils.utils.pose_processing import symmetricAngularDistance, meanShift\n",
    "import pathlib\n",
    "\n",
    "\n",
    "import scipy.io as scio\n",
    "from tqdm import tqdm_notebook as tqdm\n",
    "\n",
    "grid_size = 3885\n",
    "\n",
    "err = {}\n",
    "lik = {}\n",
    "err_max_shift = {}\n",
    "\n",
    "\n",
    "with torch.no_grad():\n",
    "    for obj_id in tqdm(object_list):\n",
    "        sym_axis, sym_ang = getYCBSymmeties(obj_id)\n",
    "        dataset.setObjectId(obj_id)\n",
    "        \n",
    "        err[obj_id]= {}\n",
    "        lik[obj_id]= {}\n",
    "        err_max_shift[obj_id]= {}\n",
    "        for v_id in dataset.getVideoIds():\n",
    "            \n",
    "            dataset.setVideoId(v_id)\n",
    "            err[obj_id][v_id] = []\n",
    "            lik[obj_id][v_id] = []\n",
    "            err_max_shift[obj_id][v_id] = []\n",
    "            for j, (data, trans) in tqdm(enumerate(dataset), total=len(dataset)):\n",
    "                #obj, quat = data\n",
    "                if(len(data) == 0):\n",
    "                    err[obj_id][v_id].append(np.nan)\n",
    "                    lik[obj_id][v_id].append(np.nan)\n",
    "                    err_max_shift[obj_id][v_id].append(np.nan)\n",
    "                    continue\n",
    "                quat = data[0][1]\n",
    "                    \n",
    "                dists = []\n",
    "                \n",
    "                for path in dataset.getPaths(j):\n",
    "                    dist_path = mat_filename_format.format(path, ycb_dataset.classes[obj_id])\n",
    "                    dist_data = scio.loadmat(dist_path)\n",
    "                    dists.append(dist_data['dist_est'].flatten())\n",
    "\n",
    "                dist_joint = torch.tensor(combineHistBingham(dists, trans, grid_vertices))\n",
    "                mode_quat = grid_vertices[np.argmax(dist_joint)].unsqueeze(0)\n",
    "                v_shift = meanShift(mode_quat.cuda(), grid_vertices.cuda(), dist_joint.unsqueeze(1).float().cuda(),\n",
    "                                    sigma=np.pi/9, max_iter = 100)\n",
    "        \n",
    "                err[obj_id][v_id].append(symmetricAngularDistance(mode_quat, quat.unsqueeze(0),\n",
    "                                      sym_axis, sym_ang).item()*180/np.pi)\n",
    "            \n",
    "                err_max_shift[obj_id][v_id].append(symmetricAngularDistance(v_shift.cpu(), quat.unsqueeze(0),\n",
    "                                                sym_axis, sym_ang).item()*180/np.pi)\n",
    "\n",
    "                \n",
    "                savepath = 'results/{}'.format(dataset.getPaths(j)[0])\n",
    "                pathlib.Path(savepath).mkdir(parents=True, exist_ok=True)\n",
    "\n",
    "                tetra_interp.setValues(to_np(dist_joint.flatten()))\n",
    "                lik[obj_id][v_id].append(tetra_interp.smooth(to_np(quat)).item())\n",
    "            \n",
    "                if(False):\n",
    "                    scio.savemat('{}/{}_{}_{}x{}_results.mat'.format(savepath, \n",
    "                                                           ycb_dataset.classes[obj_id], \n",
    "                                                           feature_key,\n",
    "                                                           video_len, interval),\n",
    "                            {'index':j,\n",
    "                             'quat':to_np(quat),\n",
    "                             'mode_quat':to_np(mode_quat),\n",
    "                             'dist_est':to_np(dist_joint),\n",
    "                             'lik':lik[obj_id][v_id][-1],\n",
    "                             'err':err[obj_id][v_id][-1],\n",
    "                             'err_max_shift':err_max_shift[obj_id][v_id][-1],\n",
    "                             })\n",
    "np.savez('results/hist_filter_{}_{}x{}.npz'.format(feature_key, video_len, interval), \n",
    "         lik=lik,\n",
    "         err=err,\n",
    "         err_max_shift=err_max_shift)"
   ]
  },
  {
   "cell_type": "code",
   "execution_count": 87,
   "metadata": {},
   "outputs": [
    {
     "ename": "KeyError",
     "evalue": "'0 is not a file in the archive'",
     "output_type": "error",
     "traceback": [
      "\u001b[0;31m---------------------------------------------------------------------------\u001b[0m",
      "\u001b[0;31mKeyError\u001b[0m                                  Traceback (most recent call last)",
      "\u001b[0;32m<ipython-input-87-3d9b90a1e12f>\u001b[0m in \u001b[0;36m<module>\u001b[0;34m()\u001b[0m\n\u001b[0;32m----> 1\u001b[0;31m \u001b[0mscatterSO3\u001b[0m\u001b[0;34m(\u001b[0m\u001b[0mto_np\u001b[0m\u001b[0;34m(\u001b[0m\u001b[0mgrid_vertices\u001b[0m\u001b[0;34m)\u001b[0m\u001b[0;34m,\u001b[0m \u001b[0mdist_joint\u001b[0m\u001b[0;34m,\u001b[0m \u001b[0;34m[\u001b[0m\u001b[0mto_np\u001b[0m\u001b[0;34m(\u001b[0m\u001b[0mdata\u001b[0m\u001b[0;34m[\u001b[0m\u001b[0;36m0\u001b[0m\u001b[0;34m]\u001b[0m\u001b[0;34m[\u001b[0m\u001b[0;36m1\u001b[0m\u001b[0;34m]\u001b[0m\u001b[0;34m)\u001b[0m\u001b[0;34m]\u001b[0m\u001b[0;34m,\u001b[0m \u001b[0malpha_max\u001b[0m \u001b[0;34m=\u001b[0m \u001b[0;36m1\u001b[0m\u001b[0;34m,\u001b[0m \u001b[0max\u001b[0m \u001b[0;34m=\u001b[0m \u001b[0;32mNone\u001b[0m\u001b[0;34m)\u001b[0m\u001b[0;34m\u001b[0m\u001b[0m\n\u001b[0m",
      "\u001b[0;32m~/src/generic_pose/bpy/lib/python3.6/site-packages/numpy/lib/npyio.py\u001b[0m in \u001b[0;36m__getitem__\u001b[0;34m(self, key)\u001b[0m\n\u001b[1;32m    264\u001b[0m                 \u001b[0;32mreturn\u001b[0m \u001b[0mself\u001b[0m\u001b[0;34m.\u001b[0m\u001b[0mzip\u001b[0m\u001b[0;34m.\u001b[0m\u001b[0mread\u001b[0m\u001b[0;34m(\u001b[0m\u001b[0mkey\u001b[0m\u001b[0;34m)\u001b[0m\u001b[0;34m\u001b[0m\u001b[0m\n\u001b[1;32m    265\u001b[0m         \u001b[0;32melse\u001b[0m\u001b[0;34m:\u001b[0m\u001b[0;34m\u001b[0m\u001b[0m\n\u001b[0;32m--> 266\u001b[0;31m             \u001b[0;32mraise\u001b[0m \u001b[0mKeyError\u001b[0m\u001b[0;34m(\u001b[0m\u001b[0;34m\"%s is not a file in the archive\"\u001b[0m \u001b[0;34m%\u001b[0m \u001b[0mkey\u001b[0m\u001b[0;34m)\u001b[0m\u001b[0;34m\u001b[0m\u001b[0m\n\u001b[0m\u001b[1;32m    267\u001b[0m \u001b[0;34m\u001b[0m\u001b[0m\n\u001b[1;32m    268\u001b[0m \u001b[0;34m\u001b[0m\u001b[0m\n",
      "\u001b[0;31mKeyError\u001b[0m: '0 is not a file in the archive'"
     ]
    }
   ],
   "source": [
    "scatterSO3(to_np(grid_vertices), dist_joint, [to_np(data[0][1])], alpha_max = 1, ax = None)"
   ]
  },
  {
   "cell_type": "code",
   "execution_count": 85,
   "metadata": {},
   "outputs": [],
   "source": [
    "data = np.load('results/hist_filter__feat_global_reg_results_3x4.npz', allow_pickle=True)\n",
    "lik = data['lik'].item()\n",
    "err = data['err'].item()\n",
    "err_shift = data['err_max_shift'].item()\n"
   ]
  },
  {
   "cell_type": "code",
   "execution_count": 86,
   "metadata": {
    "scrolled": false
   },
   "outputs": [
    {
     "name": "stdout",
     "output_type": "stream",
     "text": [
      "1: 002_master_chef_can Video 0048: 0.05, 81.53, 82.20\n",
      "1: 002_master_chef_can Video 0051: 1.95, 58.94, 54.21\n",
      "1: 002_master_chef_can Video 0055: -1.98, 166.12, 169.15\n",
      "1: 002_master_chef_can Video 0056: 2.23, 38.57, 34.38\n",
      "2: 003_cracker_box Video 0050: -0.34, 62.91, 64.01\n",
      "2: 003_cracker_box Video 0054: 2.42, 19.51, 17.93\n",
      "2: 003_cracker_box Video 0059: 1.34, 31.20, 28.34\n",
      "3: 004_sugar_box Video 0049: 2.55, 13.64, 10.44\n",
      "3: 004_sugar_box Video 0051: 0.84, 60.95, 58.85\n",
      "3: 004_sugar_box Video 0054: 2.61, 17.10, 15.71\n",
      "3: 004_sugar_box Video 0055: 2.24, 17.83, 15.73\n",
      "3: 004_sugar_box Video 0058: 2.73, 15.67, 11.56\n",
      "4: 005_tomato_soup_can Video 0050: 1.19, 39.23, 34.74\n",
      "4: 005_tomato_soup_can Video 0051: -1.57, 79.38, 73.94\n",
      "4: 005_tomato_soup_can Video 0053: 2.42, 20.07, 17.21\n",
      "4: 005_tomato_soup_can Video 0055: 2.15, 21.62, 22.00\n",
      "4: 005_tomato_soup_can Video 0057: 2.20, 20.24, 17.81\n",
      "4: 005_tomato_soup_can Video 0059: 2.47, 16.79, 12.36\n",
      "5: 006_mustard_bottle Video 0050: 2.36, 16.08, 12.93\n",
      "5: 006_mustard_bottle Video 0052: 2.31, 21.67, 19.74\n",
      "6: 007_tuna_fish_can Video 0048: 2.06, 22.86, 17.86\n",
      "6: 007_tuna_fish_can Video 0049: -0.65, 74.33, 71.57\n",
      "6: 007_tuna_fish_can Video 0052: 1.13, 52.89, 52.36\n",
      "6: 007_tuna_fish_can Video 0059: -2.46, 113.46, 115.21\n",
      "7: 008_pudding_box Video 0058: 1.75, 27.18, 25.23\n",
      "8: 009_gelatin_box Video 0058: 2.42, 17.75, 15.56\n",
      "9: 010_potted_meat_can Video 0049: -1.00, 101.48, 100.88\n",
      "9: 010_potted_meat_can Video 0053: 2.63, 14.40, 12.96\n",
      "9: 010_potted_meat_can Video 0059: 2.12, 24.26, 20.68\n",
      "10: 011_banana Video 0050: 1.65, 57.44, 55.53\n",
      "10: 011_banana Video 0056: -3.44, 144.74, 144.22\n",
      "11: 019_pitcher_base Video 0052: 2.50, 19.57, 15.47\n",
      "11: 019_pitcher_base Video 0056: 1.64, 26.44, 20.26\n",
      "11: 019_pitcher_base Video 0058: 2.00, 20.39, 17.87\n",
      "12: 021_bleach_cleanser Video 0051: 2.77, 16.91, 11.19\n",
      "12: 021_bleach_cleanser Video 0054: 0.54, 40.85, 34.03\n",
      "12: 021_bleach_cleanser Video 0055: -2.02, 67.24, 69.51\n",
      "12: 021_bleach_cleanser Video 0057: 2.50, 18.63, 17.02\n",
      "13: 024_bowl Video 0049: -8.49, 160.96, 162.32\n",
      "13: 024_bowl Video 0053: -2.83, 10.69, 7.28\n",
      "14: 025_mug Video 0048: 0.47, 44.04, 40.84\n",
      "14: 025_mug Video 0055: 1.17, 66.24, 65.72\n",
      "15: 035_power_drill Video 0050: 1.70, 32.01, 30.44\n",
      "15: 035_power_drill Video 0054: 2.60, 14.43, 10.34\n",
      "15: 035_power_drill Video 0056: 2.12, 23.22, 22.60\n",
      "15: 035_power_drill Video 0059: 2.25, 21.70, 18.40\n",
      "16: 036_wood_block Video 0055: -1.82, 40.22, 37.12\n",
      "17: 037_scissors Video 0051: -5.21, 162.54, 163.65\n",
      "18: 040_large_marker Video 0057: -3.29, 77.93, 78.08\n",
      "18: 040_large_marker Video 0059: -3.54, 135.72, 135.57\n",
      "19: 051_large_clamp Video 0048: -2.16, 93.07, 90.72\n",
      "19: 051_large_clamp Video 0054: -7.45, 94.55, 94.14\n",
      "20: 052_extra_large_clamp Video 0048: -2.71, 57.83, 56.22\n",
      "20: 052_extra_large_clamp Video 0057: -3.79, 37.53, 35.07\n",
      "21: 061_foam_brick Video 0057: -5.41, 118.44, 118.83\n"
     ]
    },
    {
     "name": "stderr",
     "output_type": "stream",
     "text": [
      "/home/bokorn/src/generic_pose/bpy/lib/python3.6/site-packages/ipykernel_launcher.py:4: RuntimeWarning: invalid value encountered in log\n",
      "  after removing the cwd from sys.path.\n"
     ]
    }
   ],
   "source": [
    "for obj in object_list:\n",
    "    for v_id in lik[obj].keys():\n",
    "        print('{}: {} Video {}: {:0.2f}, {:0.2f}, {:0.2f}'.format(obj, ycb_dataset.classes[obj], v_id,\n",
    "                                            np.nanmean(np.log(lik[obj][v_id])), \n",
    "                                            np.nanmean(err[obj][v_id]),\n",
    "                                            np.nanmean(err_shift[obj][v_id])))\n",
    "              \n",
    "        "
   ]
  },
  {
   "cell_type": "code",
   "execution_count": 56,
   "metadata": {},
   "outputs": [
    {
     "data": {
      "image/png": "[encoded data removed]",
      "text/plain": [
       "<Figure size 432x288 with 1 Axes>"
      ]
     },
     "metadata": {
      "needs_background": "light"
     },
     "output_type": "display_data"
    }
   ],
   "source": [
    "from object_pose_utils.utils.pose_processing import meanShift, unique_tol\n",
    "\n",
    "v_shift = meanShift(grid_vertices.cuda(),\n",
    "                    grid_vertices.cuda(), \n",
    "                    dist_joint.float().unsqueeze(1).cuda(),\n",
    "                    sigma=np.pi/9,\n",
    "                    max_iter = 100)\n",
    "\n",
    "v_shift, counts = unique_tol(v_shift, tol=1*np.pi/180, return_counts = True)\n",
    "v_shift = v_shift[torch.tensor(counts) > 200]\n",
    "\n",
    "fig = plt.figure()\n",
    "ax = fig.add_subplot(111, projection='3d')\n",
    "scatterSO3(to_np(grid_vertices), to_np(dist_joint), [to_np(quat)], alpha_max = 1, ax = ax)\n",
    "\n",
    "pts = quats2Point(to_np(v_shift))\n",
    "ax.scatter(pts[:,0], pts[:,1], pts[:,2], s=100, marker='o', facecolors='none', edgecolors='k')\n",
    "\n",
    "pts = quats2Point(to_np(grid_vertices[torch.argmax(dist_joint)].unsqueeze(0)))\n",
    "ax.scatter(pts[:,0], pts[:,1], pts[:,2], s=100, marker='x', c='k')\n",
    "\n",
    "plt.show()"
   ]
  },
  {
   "cell_type": "code",
   "execution_count": 48,
   "metadata": {},
   "outputs": [
    {
     "name": "stdout",
     "output_type": "stream",
     "text": [
      "152.71038033114226\n",
      "141.83237517216983\n"
     ]
    }
   ],
   "source": [
    "print(symmetricAngularDistance(grid_vertices[torch.argmax(dist_joint)].unsqueeze(0).cpu(), quat.unsqueeze(0),\n",
    "                         sym_axis, sym_ang).item()*180/np.pi)\n",
    "\n",
    "print(symmetricAngularDistance(v_shift.cpu(), quat.unsqueeze(0),\n",
    "                         sym_axis, sym_ang).item()*180/np.pi)\n"
   ]
  },
  {
   "cell_type": "code",
   "execution_count": null,
   "metadata": {},
   "outputs": [],
   "source": [
    "from quat_math import euler_matrix, quaternion_matrix, quaternion_about_axis\n",
    "\n",
    "def getYCBTransform(q, t=[0,0,1]):\n",
    "    trans_mat = quaternion_matrix(q)\n",
    "    ycb_mat = euler_matrix(-np.pi/2,0,0)\n",
    "    trans_mat = trans_mat.dot(ycb_mat)\n",
    "    trans_mat[:3,3] = t\n",
    "    return trans_mat\n",
    "\n",
    "from object_pose_utils.utils.image_preprocessing import transparentOverlay\n",
    "def imshowCV(img, axis = False, show = True):\n",
    "    if not axis:\n",
    "        plt.axis('off')\n",
    "    plt.imshow(cv2.cvtColor(img, cv2.COLOR_BGR2RGB))\n",
    "    if(show):\n",
    "        plt.show()\n",
    "    \n",
    "def imshow(img, axis = False, colorbar = False, show = True):\n",
    "    if not axis:\n",
    "        plt.axis('off')\n",
    "    plt.imshow(img)\n",
    "    if(colorbar):\n",
    "        plt.colorbar()\n",
    "    if(show):\n",
    "        plt.show()\n",
    "    "
   ]
  },
  {
   "cell_type": "code",
   "execution_count": null,
   "metadata": {},
   "outputs": [],
   "source": [
    "from model_renderer.pose_renderer import BpyRenderer\n",
    "from generic_pose.datasets.ycb_dataset import ycbRenderTransform\n",
    "\n",
    "renderer = BpyRenderer(transform_func = ycbRenderTransform)\n",
    "\n",
    "\n",
    "fx = 1066.778\n",
    "fy = 1067.487\n",
    "px = 312.9869\n",
    "py = 241.3109\n",
    "camera_dist = 0.33\n",
    "\n",
    "renderer.setCameraMatrix(fx, fy, px, py, 640, 480)\n",
    "renderer.setDepth()\n",
    "model_cls = None"
   ]
  },
  {
   "cell_type": "code",
   "execution_count": null,
   "metadata": {},
   "outputs": [],
   "source": [
    "renderer.deleteAll()\n",
    "if(model_cls != classes[int(obj_id)]):\n",
    "    model_cls = classes[int(obj_id)]\n",
    "    model_filename = '{}/models/{}/textured.obj'.format(dataset_root, model_cls)\n",
    "    renderer.deleteAll()\n",
    "    renderer.loadModel(model_filename, emit = 0.5)"
   ]
  },
  {
   "cell_type": "code",
   "execution_count": null,
   "metadata": {},
   "outputs": [],
   "source": [
    "obj_id = 13"
   ]
  },
  {
   "cell_type": "code",
   "execution_count": 57,
   "metadata": {},
   "outputs": [
    {
     "data": {
      "image/png": "[encoded data removed]",
      "text/plain": [
       "<Figure size 432x288 with 1 Axes>"
      ]
     },
     "metadata": {
      "needs_background": "light"
     },
     "output_type": "display_data"
    },
    {
     "data": {
      "image/png": "[encoded data removed]",
      "text/plain": [
       "<Figure size 432x288 with 1 Axes>"
      ]
     },
     "metadata": {
      "needs_background": "light"
     },
     "output_type": "display_data"
    }
   ],
   "source": [
    "q = to_np(grid_vertices[torch.argmax(dist_joint)])\n",
    "\n",
    "trans_mat = getYCBTransform(q, [0,0,1])\n",
    "image, depth = renderer.renderTrans(trans_mat)\n",
    "imshowCV(image)\n",
    "\n",
    "\n",
    "trans_mat = getYCBTransform(quat, [0,0,1])\n",
    "image, depth = renderer.renderTrans(trans_mat)\n",
    "imshowCV(image)\n"
   ]
  },
  {
   "cell_type": "code",
   "execution_count": null,
   "metadata": {},
   "outputs": [],
   "source": []
  },
  {
   "cell_type": "code",
   "execution_count": null,
   "metadata": {},
   "outputs": [],
   "source": []
  },
  {
   "cell_type": "code",
   "execution_count": null,
   "metadata": {},
   "outputs": [],
   "source": []
  }
 ],
 "metadata": {
  "kernelspec": {
   "display_name": "Python3 (bpy)",
   "language": "python",
   "name": "bpy"
  },
  "language_info": {
   "codemirror_mode": {
    "name": "ipython",
    "version": 3
   },
   "file_extension": ".py",
   "mimetype": "text/x-python",
   "name": "python",
   "nbconvert_exporter": "python",
   "pygments_lexer": "ipython3",
   "version": "3.6.6"
  }
 },
 "nbformat": 4,
 "nbformat_minor": 2
}
